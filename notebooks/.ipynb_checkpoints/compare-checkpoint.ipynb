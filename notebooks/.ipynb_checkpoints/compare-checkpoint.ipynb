{
 "cells": [
  {
   "cell_type": "code",
   "execution_count": 83,
   "id": "0bf272a1-fd7f-4780-93b7-f35dbd114af2",
   "metadata": {},
   "outputs": [],
   "source": [
    "%run utils.ipynb "
   ]
  },
  {
   "cell_type": "code",
   "execution_count": 100,
   "id": "b66a8e56-57a4-49de-ae0e-d10c99589745",
   "metadata": {},
   "outputs": [],
   "source": [
    "data = load_data()"
   ]
  },
  {
   "cell_type": "code",
   "execution_count": 95,
   "id": "860aef80-8500-4d4d-a78d-21aa3b86e663",
   "metadata": {},
   "outputs": [],
   "source": [
    "def model_runner(data):\n",
    "    data = data_scaler(data)\n",
    "    # train test split\n",
    "    train_data, test_data = train_test_split_7(data)\n",
    "    \n",
    "    features = ['price', 'wind_onshore', 'wind_offshore', 'solar', 'total_load']\n",
    "    # create sequences\n",
    "    seq_length = 24\n",
    "    X_train, y_train = create_sequences_2(train_data, seq_length, features)\n",
    "    X_test, y_test = create_sequences_2(test_data, seq_length, features)\n",
    "    \n",
    "    # input shape\n",
    "    input_shape = (X_train.shape[1], X_train.shape[2])\n",
    "    \n",
    "    # run model\n",
    "    lstm_model = create_lstm_model(input_shape)\n",
    "    lstm_model.fit(X_train, y_train, epochs=10, batch_size=32, validation_split=0.1)\n",
    "    \n",
    "    # predictions\n",
    "    y_preds = lstm_model.predict(X_test)\n",
    "    \n",
    "    # evaluations\n",
    "    \n",
    "    y_test_original, y_preds_original = eva(y_test, y_preds, X_test)\n",
    "\n",
    "    return y_test_original, y_preds_original"
   ]
  },
  {
   "cell_type": "code",
   "execution_count": 96,
   "id": "f001b3d0-3ad7-433d-a93e-369bf7706b9b",
   "metadata": {},
   "outputs": [
    {
     "name": "stdout",
     "output_type": "stream",
     "text": [
      "Data is scaled\n",
      "Shape of train_data: (13487, 5)\n",
      "Shape of test_data: (4033, 5)\n",
      "Epoch 1/10\n"
     ]
    },
    {
     "name": "stderr",
     "output_type": "stream",
     "text": [
      "/Users/libin/anaconda3/envs/th/lib/python3.10/site-packages/keras/src/layers/rnn/rnn.py:204: UserWarning: Do not pass an `input_shape`/`input_dim` argument to a layer. When using Sequential models, prefer using an `Input(shape)` object as the first layer in the model instead.\n",
      "  super().__init__(**kwargs)\n"
     ]
    },
    {
     "name": "stdout",
     "output_type": "stream",
     "text": [
      "\u001b[1m379/379\u001b[0m \u001b[32m━━━━━━━━━━━━━━━━━━━━\u001b[0m\u001b[37m\u001b[0m \u001b[1m3s\u001b[0m 6ms/step - loss: 0.1219 - val_loss: 0.0414\n",
      "Epoch 2/10\n",
      "\u001b[1m379/379\u001b[0m \u001b[32m━━━━━━━━━━━━━━━━━━━━\u001b[0m\u001b[37m\u001b[0m \u001b[1m2s\u001b[0m 5ms/step - loss: 0.0571 - val_loss: 0.0348\n",
      "Epoch 3/10\n",
      "\u001b[1m379/379\u001b[0m \u001b[32m━━━━━━━━━━━━━━━━━━━━\u001b[0m\u001b[37m\u001b[0m \u001b[1m2s\u001b[0m 5ms/step - loss: 0.0474 - val_loss: 0.0284\n",
      "Epoch 4/10\n",
      "\u001b[1m379/379\u001b[0m \u001b[32m━━━━━━━━━━━━━━━━━━━━\u001b[0m\u001b[37m\u001b[0m \u001b[1m2s\u001b[0m 5ms/step - loss: 0.0401 - val_loss: 0.0236\n",
      "Epoch 5/10\n",
      "\u001b[1m379/379\u001b[0m \u001b[32m━━━━━━━━━━━━━━━━━━━━\u001b[0m\u001b[37m\u001b[0m \u001b[1m2s\u001b[0m 6ms/step - loss: 0.0348 - val_loss: 0.0233\n",
      "Epoch 6/10\n",
      "\u001b[1m379/379\u001b[0m \u001b[32m━━━━━━━━━━━━━━━━━━━━\u001b[0m\u001b[37m\u001b[0m \u001b[1m2s\u001b[0m 5ms/step - loss: 0.0317 - val_loss: 0.0239\n",
      "Epoch 7/10\n",
      "\u001b[1m379/379\u001b[0m \u001b[32m━━━━━━━━━━━━━━━━━━━━\u001b[0m\u001b[37m\u001b[0m \u001b[1m2s\u001b[0m 6ms/step - loss: 0.0295 - val_loss: 0.0207\n",
      "Epoch 8/10\n",
      "\u001b[1m379/379\u001b[0m \u001b[32m━━━━━━━━━━━━━━━━━━━━\u001b[0m\u001b[37m\u001b[0m \u001b[1m2s\u001b[0m 5ms/step - loss: 0.0279 - val_loss: 0.0208\n",
      "Epoch 9/10\n",
      "\u001b[1m379/379\u001b[0m \u001b[32m━━━━━━━━━━━━━━━━━━━━\u001b[0m\u001b[37m\u001b[0m \u001b[1m2s\u001b[0m 6ms/step - loss: 0.0272 - val_loss: 0.0185\n",
      "Epoch 10/10\n",
      "\u001b[1m379/379\u001b[0m \u001b[32m━━━━━━━━━━━━━━━━━━━━\u001b[0m\u001b[37m\u001b[0m \u001b[1m2s\u001b[0m 5ms/step - loss: 0.0260 - val_loss: 0.0174\n",
      "\u001b[1m126/126\u001b[0m \u001b[32m━━━━━━━━━━━━━━━━━━━━\u001b[0m\u001b[37m\u001b[0m \u001b[1m0s\u001b[0m 3ms/step\n",
      "LSTM sMAPE: 5.69\n",
      "Mean Absolute Error (MAE): 741.61\n",
      "Root Mean Squared Error (RMSE): 1071.95\n"
     ]
    }
   ],
   "source": [
    "y_t_b, y_p_b = model_runner(data)"
   ]
  },
  {
   "cell_type": "code",
   "execution_count": null,
   "id": "01d7f295-5ce8-4170-9ecb-406d232bbe50",
   "metadata": {},
   "outputs": [],
   "source": [
    "LSTM sMAPE: 6.23\n",
    "Mean Absolute Error (MAE): 795.88\n",
    "Root Mean Squared Error (RMSE): 1103.87"
   ]
  },
  {
   "cell_type": "code",
   "execution_count": 97,
   "id": "7a653d57-464a-401e-883a-d7d86e02a4bd",
   "metadata": {},
   "outputs": [],
   "source": [
    "b_p = y_t_b - y_p_b"
   ]
  },
  {
   "cell_type": "code",
   "execution_count": 94,
   "id": "e662bce5-0f87-4215-9d7b-1c1bb42f7bc1",
   "metadata": {},
   "outputs": [
    {
     "name": "stdout",
     "output_type": "stream",
     "text": [
      "Data is scaled\n",
      "Shape of train_data: (13487, 5)\n",
      "Shape of test_data: (4033, 5)\n",
      "Epoch 1/10\n"
     ]
    },
    {
     "name": "stderr",
     "output_type": "stream",
     "text": [
      "/Users/libin/anaconda3/envs/th/lib/python3.10/site-packages/keras/src/layers/rnn/rnn.py:204: UserWarning: Do not pass an `input_shape`/`input_dim` argument to a layer. When using Sequential models, prefer using an `Input(shape)` object as the first layer in the model instead.\n",
      "  super().__init__(**kwargs)\n"
     ]
    },
    {
     "name": "stdout",
     "output_type": "stream",
     "text": [
      "\u001b[1m379/379\u001b[0m \u001b[32m━━━━━━━━━━━━━━━━━━━━\u001b[0m\u001b[37m\u001b[0m \u001b[1m4s\u001b[0m 7ms/step - loss: 0.1178 - val_loss: 0.0409\n",
      "Epoch 2/10\n",
      "\u001b[1m379/379\u001b[0m \u001b[32m━━━━━━━━━━━━━━━━━━━━\u001b[0m\u001b[37m\u001b[0m \u001b[1m2s\u001b[0m 6ms/step - loss: 0.0546 - val_loss: 0.0311\n",
      "Epoch 3/10\n",
      "\u001b[1m379/379\u001b[0m \u001b[32m━━━━━━━━━━━━━━━━━━━━\u001b[0m\u001b[37m\u001b[0m \u001b[1m2s\u001b[0m 5ms/step - loss: 0.0458 - val_loss: 0.0253\n",
      "Epoch 4/10\n",
      "\u001b[1m379/379\u001b[0m \u001b[32m━━━━━━━━━━━━━━━━━━━━\u001b[0m\u001b[37m\u001b[0m \u001b[1m2s\u001b[0m 6ms/step - loss: 0.0391 - val_loss: 0.0245\n",
      "Epoch 5/10\n",
      "\u001b[1m379/379\u001b[0m \u001b[32m━━━━━━━━━━━━━━━━━━━━\u001b[0m\u001b[37m\u001b[0m \u001b[1m2s\u001b[0m 6ms/step - loss: 0.0344 - val_loss: 0.0206\n",
      "Epoch 6/10\n",
      "\u001b[1m379/379\u001b[0m \u001b[32m━━━━━━━━━━━━━━━━━━━━\u001b[0m\u001b[37m\u001b[0m \u001b[1m2s\u001b[0m 6ms/step - loss: 0.0312 - val_loss: 0.0212\n",
      "Epoch 7/10\n",
      "\u001b[1m379/379\u001b[0m \u001b[32m━━━━━━━━━━━━━━━━━━━━\u001b[0m\u001b[37m\u001b[0m \u001b[1m2s\u001b[0m 6ms/step - loss: 0.0282 - val_loss: 0.0206\n",
      "Epoch 8/10\n",
      "\u001b[1m379/379\u001b[0m \u001b[32m━━━━━━━━━━━━━━━━━━━━\u001b[0m\u001b[37m\u001b[0m \u001b[1m2s\u001b[0m 6ms/step - loss: 0.0277 - val_loss: 0.0213\n",
      "Epoch 9/10\n",
      "\u001b[1m379/379\u001b[0m \u001b[32m━━━━━━━━━━━━━━━━━━━━\u001b[0m\u001b[37m\u001b[0m \u001b[1m2s\u001b[0m 6ms/step - loss: 0.0271 - val_loss: 0.0190\n",
      "Epoch 10/10\n",
      "\u001b[1m379/379\u001b[0m \u001b[32m━━━━━━━━━━━━━━━━━━━━\u001b[0m\u001b[37m\u001b[0m \u001b[1m2s\u001b[0m 6ms/step - loss: 0.0267 - val_loss: 0.0199\n",
      "\u001b[1m126/126\u001b[0m \u001b[32m━━━━━━━━━━━━━━━━━━━━\u001b[0m\u001b[37m\u001b[0m \u001b[1m1s\u001b[0m 5ms/step\n"
     ]
    },
    {
     "ename": "ValueError",
     "evalue": "non-broadcastable output operand with shape (4009,1) doesn't match the broadcast shape (4009,5)",
     "output_type": "error",
     "traceback": [
      "\u001b[0;31m---------------------------------------------------------------------------\u001b[0m",
      "\u001b[0;31mValueError\u001b[0m                                Traceback (most recent call last)",
      "Cell \u001b[0;32mIn[94], line 2\u001b[0m\n\u001b[1;32m      1\u001b[0m features \u001b[38;5;241m=\u001b[39m [\u001b[38;5;124m'\u001b[39m\u001b[38;5;124mprice\u001b[39m\u001b[38;5;124m'\u001b[39m, \u001b[38;5;124m'\u001b[39m\u001b[38;5;124mwind_onshore\u001b[39m\u001b[38;5;124m'\u001b[39m, \u001b[38;5;124m'\u001b[39m\u001b[38;5;124mwind_offshore\u001b[39m\u001b[38;5;124m'\u001b[39m, \u001b[38;5;124m'\u001b[39m\u001b[38;5;124msolar\u001b[39m\u001b[38;5;124m'\u001b[39m, \u001b[38;5;124m'\u001b[39m\u001b[38;5;124mtotal_load\u001b[39m\u001b[38;5;124m'\u001b[39m]\n\u001b[0;32m----> 2\u001b[0m y_t_feature, y_t_feature \u001b[38;5;241m=\u001b[39m \u001b[43mmodel_runner\u001b[49m\u001b[43m(\u001b[49m\u001b[43mdata\u001b[49m\u001b[43m)\u001b[49m\n",
      "Cell \u001b[0;32mIn[92], line 24\u001b[0m, in \u001b[0;36mmodel_runner\u001b[0;34m(data, features)\u001b[0m\n\u001b[1;32m     20\u001b[0m y_preds \u001b[38;5;241m=\u001b[39m lstm_model\u001b[38;5;241m.\u001b[39mpredict(X_test)\n\u001b[1;32m     22\u001b[0m \u001b[38;5;66;03m# evaluations\u001b[39;00m\n\u001b[0;32m---> 24\u001b[0m y_test_original, y_preds_original \u001b[38;5;241m=\u001b[39m \u001b[43meva\u001b[49m\u001b[43m(\u001b[49m\u001b[43my_test\u001b[49m\u001b[43m,\u001b[49m\u001b[43m \u001b[49m\u001b[43my_preds\u001b[49m\u001b[43m,\u001b[49m\u001b[43m \u001b[49m\u001b[43mX_test\u001b[49m\u001b[43m)\u001b[49m\n\u001b[1;32m     26\u001b[0m \u001b[38;5;28;01mreturn\u001b[39;00m y_test_original, y_preds_original\n",
      "File \u001b[0;32m/var/folders/8k/8n8mf6jn28537sc4vvz36rhh0000gn/T/ipykernel_1917/697073754.py:6\u001b[0m, in \u001b[0;36meva\u001b[0;34m(y_test_scaled, y_preds_scaled, X_test)\u001b[0m\n\u001b[1;32m      3\u001b[0m \u001b[38;5;28;01mdef\u001b[39;00m \u001b[38;5;21meva\u001b[39m(y_test_scaled, y_preds_scaled, X_test):\n\u001b[1;32m      4\u001b[0m \n\u001b[1;32m      5\u001b[0m     \u001b[38;5;66;03m# y_test, y_preds = scaler_inverse_2(y_test_scaled, y_preds_scaled)\u001b[39;00m\n\u001b[0;32m----> 6\u001b[0m     y_test, y_preds \u001b[38;5;241m=\u001b[39m \u001b[43mscaler_inverse\u001b[49m\u001b[43m(\u001b[49m\u001b[43my_test_scaled\u001b[49m\u001b[43m,\u001b[49m\u001b[43m \u001b[49m\u001b[43my_preds_scaled\u001b[49m\u001b[43m,\u001b[49m\u001b[43m \u001b[49m\u001b[43mX_test\u001b[49m\u001b[43m)\u001b[49m\n\u001b[1;32m      8\u001b[0m     lstm_smape \u001b[38;5;241m=\u001b[39m smape(y_test, y_preds)\n\u001b[1;32m      9\u001b[0m     \u001b[38;5;28mprint\u001b[39m(\u001b[38;5;124mf\u001b[39m\u001b[38;5;124m\"\u001b[39m\u001b[38;5;124mLSTM sMAPE: \u001b[39m\u001b[38;5;132;01m{\u001b[39;00mlstm_smape\u001b[38;5;132;01m:\u001b[39;00m\u001b[38;5;124m.2f\u001b[39m\u001b[38;5;132;01m}\u001b[39;00m\u001b[38;5;124m\"\u001b[39m)\n",
      "File \u001b[0;32m/var/folders/8k/8n8mf6jn28537sc4vvz36rhh0000gn/T/ipykernel_1917/4087408207.py:2\u001b[0m, in \u001b[0;36mscaler_inverse\u001b[0;34m(y_test_scaled, y_preds_scaled, X_test)\u001b[0m\n\u001b[1;32m      1\u001b[0m \u001b[38;5;28;01mdef\u001b[39;00m \u001b[38;5;21mscaler_inverse\u001b[39m(y_test_scaled, y_preds_scaled, X_test):\n\u001b[0;32m----> 2\u001b[0m     y_test_original \u001b[38;5;241m=\u001b[39m \u001b[43mscaler\u001b[49m\u001b[38;5;241;43m.\u001b[39;49m\u001b[43minverse_transform\u001b[49m\u001b[43m(\u001b[49m\n\u001b[1;32m      3\u001b[0m \u001b[43m        \u001b[49m\u001b[43mnp\u001b[49m\u001b[38;5;241;43m.\u001b[39;49m\u001b[43mconcatenate\u001b[49m\u001b[43m(\u001b[49m\u001b[43m(\u001b[49m\u001b[43my_test_scaled\u001b[49m\u001b[38;5;241;43m.\u001b[39;49m\u001b[43mreshape\u001b[49m\u001b[43m(\u001b[49m\u001b[38;5;241;43m-\u001b[39;49m\u001b[38;5;241;43m1\u001b[39;49m\u001b[43m,\u001b[49m\u001b[43m \u001b[49m\u001b[38;5;241;43m1\u001b[39;49m\u001b[43m)\u001b[49m\u001b[43m,\u001b[49m\u001b[43m \u001b[49m\u001b[43mX_test\u001b[49m\u001b[43m[\u001b[49m\u001b[43m:\u001b[49m\u001b[43m,\u001b[49m\u001b[43m \u001b[49m\u001b[38;5;241;43m-\u001b[39;49m\u001b[38;5;241;43m1\u001b[39;49m\u001b[43m,\u001b[49m\u001b[43m \u001b[49m\u001b[38;5;241;43m1\u001b[39;49m\u001b[43m:\u001b[49m\u001b[43m]\u001b[49m\u001b[43m)\u001b[49m\u001b[43m,\u001b[49m\u001b[43m \u001b[49m\u001b[43maxis\u001b[49m\u001b[38;5;241;43m=\u001b[39;49m\u001b[38;5;241;43m1\u001b[39;49m\u001b[43m)\u001b[49m\u001b[43m)\u001b[49m[:, \u001b[38;5;241m0\u001b[39m]\n\u001b[1;32m      5\u001b[0m     y_preds_original \u001b[38;5;241m=\u001b[39m scaler\u001b[38;5;241m.\u001b[39minverse_transform(\n\u001b[1;32m      6\u001b[0m         np\u001b[38;5;241m.\u001b[39mconcatenate((y_preds_scaled, X_test[:, \u001b[38;5;241m-\u001b[39m\u001b[38;5;241m1\u001b[39m, \u001b[38;5;241m1\u001b[39m:]), axis\u001b[38;5;241m=\u001b[39m\u001b[38;5;241m1\u001b[39m))[:, \u001b[38;5;241m0\u001b[39m]\n\u001b[1;32m      8\u001b[0m     \u001b[38;5;28;01mreturn\u001b[39;00m y_test_original, y_preds_original\n",
      "File \u001b[0;32m~/anaconda3/envs/th/lib/python3.10/site-packages/sklearn/preprocessing/_data.py:574\u001b[0m, in \u001b[0;36mMinMaxScaler.inverse_transform\u001b[0;34m(self, X)\u001b[0m\n\u001b[1;32m    564\u001b[0m xp, _ \u001b[38;5;241m=\u001b[39m get_namespace(X)\n\u001b[1;32m    566\u001b[0m X \u001b[38;5;241m=\u001b[39m check_array(\n\u001b[1;32m    567\u001b[0m     X,\n\u001b[1;32m    568\u001b[0m     copy\u001b[38;5;241m=\u001b[39m\u001b[38;5;28mself\u001b[39m\u001b[38;5;241m.\u001b[39mcopy,\n\u001b[0;32m   (...)\u001b[0m\n\u001b[1;32m    571\u001b[0m     force_all_finite\u001b[38;5;241m=\u001b[39m\u001b[38;5;124m\"\u001b[39m\u001b[38;5;124mallow-nan\u001b[39m\u001b[38;5;124m\"\u001b[39m,\n\u001b[1;32m    572\u001b[0m )\n\u001b[0;32m--> 574\u001b[0m X \u001b[38;5;241m-\u001b[39m\u001b[38;5;241m=\u001b[39m \u001b[38;5;28mself\u001b[39m\u001b[38;5;241m.\u001b[39mmin_\n\u001b[1;32m    575\u001b[0m X \u001b[38;5;241m/\u001b[39m\u001b[38;5;241m=\u001b[39m \u001b[38;5;28mself\u001b[39m\u001b[38;5;241m.\u001b[39mscale_\n\u001b[1;32m    576\u001b[0m \u001b[38;5;28;01mreturn\u001b[39;00m X\n",
      "\u001b[0;31mValueError\u001b[0m: non-broadcastable output operand with shape (4009,1) doesn't match the broadcast shape (4009,5)"
     ]
    }
   ],
   "source": [
    "features = ['price', 'wind_onshore', 'wind_offshore', 'solar', 'total_load']\n",
    "y_t_feature, y_t_feature = model_runner(data)"
   ]
  }
 ],
 "metadata": {
  "kernelspec": {
   "display_name": "Python 3 (ipykernel)",
   "language": "python",
   "name": "python3"
  },
  "language_info": {
   "codemirror_mode": {
    "name": "ipython",
    "version": 3
   },
   "file_extension": ".py",
   "mimetype": "text/x-python",
   "name": "python",
   "nbconvert_exporter": "python",
   "pygments_lexer": "ipython3",
   "version": "3.10.14"
  }
 },
 "nbformat": 4,
 "nbformat_minor": 5
}
