{
 "cells": [
  {
   "cell_type": "markdown",
   "id": "fcb0532c-a614-4dca-a452-ed0d5b039125",
   "metadata": {},
   "source": [
    "## Data Merger"
   ]
  },
  {
   "cell_type": "code",
   "execution_count": 1,
   "id": "372aaa54-79ec-41f1-868d-25b7a12ce667",
   "metadata": {},
   "outputs": [],
   "source": [
    "import pandas as pd"
   ]
  },
  {
   "cell_type": "code",
   "execution_count": 21,
   "id": "071d759e-552c-4cc5-bb28-5bc722bc4707",
   "metadata": {},
   "outputs": [],
   "source": [
    "df1 = pd.read_csv('cleaned/e_price/output_e_22-23.csv', header=None, names=['Time','price'], parse_dates=['Time'], index_col='Time')"
   ]
  },
  {
   "cell_type": "code",
   "execution_count": 23,
   "id": "11e91871-77cd-4d89-8dfa-318f0be18d5c",
   "metadata": {},
   "outputs": [],
   "source": [
    "df2 = pd.read_csv('cleaned/e_price/output_e_23-24.csv', header=None, names=['Time','price'], parse_dates=['Time'], index_col='Time')"
   ]
  },
  {
   "cell_type": "code",
   "execution_count": 34,
   "id": "f9a88456-7e28-4b57-8b56-af9ec3b88b4d",
   "metadata": {},
   "outputs": [],
   "source": [
    "df_22 = df1.loc[df1.index < '2023-01-01 00:00:01']"
   ]
  },
  {
   "cell_type": "code",
   "execution_count": 37,
   "id": "1428f320-535e-457b-9c0f-af909192e77a",
   "metadata": {},
   "outputs": [],
   "source": [
    "df_23 = df2.loc[df2.index < '2024-01-01 00:00:01']"
   ]
  },
  {
   "cell_type": "code",
   "execution_count": 52,
   "id": "77c14e64-d168-4ba3-8f2d-8418d01721ea",
   "metadata": {},
   "outputs": [],
   "source": [
    "df_e = pd.concat([df_22, df_23])"
   ]
  },
  {
   "cell_type": "code",
   "execution_count": 53,
   "id": "69985c67-aba5-4d24-b230-cb15536aa5d1",
   "metadata": {},
   "outputs": [
    {
     "data": {
      "text/html": [
       "<div>\n",
       "<style scoped>\n",
       "    .dataframe tbody tr th:only-of-type {\n",
       "        vertical-align: middle;\n",
       "    }\n",
       "\n",
       "    .dataframe tbody tr th {\n",
       "        vertical-align: top;\n",
       "    }\n",
       "\n",
       "    .dataframe thead th {\n",
       "        text-align: right;\n",
       "    }\n",
       "</style>\n",
       "<table border=\"1\" class=\"dataframe\">\n",
       "  <thead>\n",
       "    <tr style=\"text-align: right;\">\n",
       "      <th></th>\n",
       "      <th>price</th>\n",
       "    </tr>\n",
       "    <tr>\n",
       "      <th>Time</th>\n",
       "      <th></th>\n",
       "    </tr>\n",
       "  </thead>\n",
       "  <tbody>\n",
       "    <tr>\n",
       "      <th>2022-01-01 01:00:00</th>\n",
       "      <td>124.70</td>\n",
       "    </tr>\n",
       "    <tr>\n",
       "      <th>2022-01-01 02:00:00</th>\n",
       "      <td>124.70</td>\n",
       "    </tr>\n",
       "    <tr>\n",
       "      <th>2022-01-01 03:00:00</th>\n",
       "      <td>134.00</td>\n",
       "    </tr>\n",
       "    <tr>\n",
       "      <th>2022-01-01 04:00:00</th>\n",
       "      <td>58.80</td>\n",
       "    </tr>\n",
       "    <tr>\n",
       "      <th>2022-01-01 05:00:00</th>\n",
       "      <td>37.67</td>\n",
       "    </tr>\n",
       "  </tbody>\n",
       "</table>\n",
       "</div>"
      ],
      "text/plain": [
       "                      price\n",
       "Time                       \n",
       "2022-01-01 01:00:00  124.70\n",
       "2022-01-01 02:00:00  124.70\n",
       "2022-01-01 03:00:00  134.00\n",
       "2022-01-01 04:00:00   58.80\n",
       "2022-01-01 05:00:00   37.67"
      ]
     },
     "execution_count": 53,
     "metadata": {},
     "output_type": "execute_result"
    }
   ],
   "source": [
    "df_e.head()"
   ]
  },
  {
   "cell_type": "code",
   "execution_count": 54,
   "id": "c29ee75c-65b5-4460-ba57-3f357391aa66",
   "metadata": {},
   "outputs": [
    {
     "data": {
      "text/html": [
       "<div>\n",
       "<style scoped>\n",
       "    .dataframe tbody tr th:only-of-type {\n",
       "        vertical-align: middle;\n",
       "    }\n",
       "\n",
       "    .dataframe tbody tr th {\n",
       "        vertical-align: top;\n",
       "    }\n",
       "\n",
       "    .dataframe thead th {\n",
       "        text-align: right;\n",
       "    }\n",
       "</style>\n",
       "<table border=\"1\" class=\"dataframe\">\n",
       "  <thead>\n",
       "    <tr style=\"text-align: right;\">\n",
       "      <th></th>\n",
       "      <th>price</th>\n",
       "    </tr>\n",
       "    <tr>\n",
       "      <th>Time</th>\n",
       "      <th></th>\n",
       "    </tr>\n",
       "  </thead>\n",
       "  <tbody>\n",
       "    <tr>\n",
       "      <th>2023-12-31 20:00:00</th>\n",
       "      <td>39.64</td>\n",
       "    </tr>\n",
       "    <tr>\n",
       "      <th>2023-12-31 21:00:00</th>\n",
       "      <td>34.89</td>\n",
       "    </tr>\n",
       "    <tr>\n",
       "      <th>2023-12-31 22:00:00</th>\n",
       "      <td>13.30</td>\n",
       "    </tr>\n",
       "    <tr>\n",
       "      <th>2023-12-31 23:00:00</th>\n",
       "      <td>10.68</td>\n",
       "    </tr>\n",
       "    <tr>\n",
       "      <th>2024-01-01 00:00:00</th>\n",
       "      <td>3.17</td>\n",
       "    </tr>\n",
       "  </tbody>\n",
       "</table>\n",
       "</div>"
      ],
      "text/plain": [
       "                     price\n",
       "Time                      \n",
       "2023-12-31 20:00:00  39.64\n",
       "2023-12-31 21:00:00  34.89\n",
       "2023-12-31 22:00:00  13.30\n",
       "2023-12-31 23:00:00  10.68\n",
       "2024-01-01 00:00:00   3.17"
      ]
     },
     "execution_count": 54,
     "metadata": {},
     "output_type": "execute_result"
    }
   ],
   "source": [
    "df_e.tail()"
   ]
  },
  {
   "cell_type": "code",
   "execution_count": null,
   "id": "e9272eb8-ce5d-4d66-94c0-f74ecdfbb39f",
   "metadata": {},
   "outputs": [],
   "source": []
  }
 ],
 "metadata": {
  "kernelspec": {
   "display_name": "Python 3 (ipykernel)",
   "language": "python",
   "name": "python3"
  },
  "language_info": {
   "codemirror_mode": {
    "name": "ipython",
    "version": 3
   },
   "file_extension": ".py",
   "mimetype": "text/x-python",
   "name": "python",
   "nbconvert_exporter": "python",
   "pygments_lexer": "ipython3",
   "version": "3.10.14"
  }
 },
 "nbformat": 4,
 "nbformat_minor": 5
}
