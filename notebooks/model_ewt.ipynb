{
 "cells": [
  {
   "cell_type": "markdown",
   "id": "317d947b-a1fa-4bbf-ba6a-22aef2b435f5",
   "metadata": {},
   "source": [
    "# EWT"
   ]
  },
  {
   "cell_type": "code",
   "execution_count": 11,
   "id": "1f6fb8de-b353-431f-b204-1f1e856202f1",
   "metadata": {},
   "outputs": [],
   "source": [
    "%run utils.ipynb"
   ]
  },
  {
   "cell_type": "code",
   "execution_count": 12,
   "id": "a8588918-31ab-4a20-876b-4108226665b6",
   "metadata": {},
   "outputs": [],
   "source": [
    "df = load_data('df_19_24_cleaned')"
   ]
  },
  {
   "cell_type": "code",
   "execution_count": 13,
   "id": "6d42b723-34c1-493a-85c0-5118f3b6891f",
   "metadata": {},
   "outputs": [],
   "source": [
    "df = df['2022': '2024']"
   ]
  },
  {
   "cell_type": "code",
   "execution_count": 14,
   "id": "ba2412a9-4113-4004-8c8c-0da56e37b444",
   "metadata": {},
   "outputs": [
    {
     "name": "stdout",
     "output_type": "stream",
     "text": [
      "<class 'pandas.core.frame.DataFrame'>\n",
      "DatetimeIndex: 24841 entries, 2022-01-01 00:00:00 to 2024-11-01 00:00:00\n",
      "Freq: h\n",
      "Data columns (total 5 columns):\n",
      " #   Column         Non-Null Count  Dtype  \n",
      "---  ------         --------------  -----  \n",
      " 0   price          24841 non-null  float64\n",
      " 1   solar          24841 non-null  int64  \n",
      " 2   wind_onshore   24841 non-null  int64  \n",
      " 3   wind_offshore  24841 non-null  int64  \n",
      " 4   total_load     24841 non-null  int64  \n",
      "dtypes: float64(1), int64(4)\n",
      "memory usage: 1.1 MB\n"
     ]
    }
   ],
   "source": [
    "df.info()"
   ]
  },
  {
   "cell_type": "markdown",
   "id": "cdec9db5-8d91-4833-b86f-ccfb93b45bc1",
   "metadata": {},
   "source": [
    "## Data Processing"
   ]
  },
  {
   "cell_type": "markdown",
   "id": "e2391db2-4c0e-47ed-8d9a-7b33f3c508ac",
   "metadata": {},
   "source": [
    "### EWT"
   ]
  },
  {
   "cell_type": "code",
   "execution_count": 19,
   "id": "e1b8a0a3-a2a1-4251-8055-c1b52e9670e5",
   "metadata": {},
   "outputs": [],
   "source": [
    "import pywt\n",
    "# Define the features to decompose\n",
    "features_to_decompose = ['price', 'wind_offshore', 'wind_onshore', 'solar', 'total_load']\n",
    "\n",
    "# Function to apply wavelet decomposition to each feature\n",
    "def wavelet_decompose(series, wavelet='db1', level=3):\n",
    "    coeffs = pywt.wavedec(series, wavelet, level=level)  # Decompose signal into frequency components\n",
    "    decomposed_data = pd.DataFrame(coeffs).T  # Convert to DataFrame\n",
    "    decomposed_data.columns = [f'{series.name}_wavelet_{i}' for i in range(len(coeffs))]\n",
    "    return decomposed_data\n",
    "\n",
    "# Apply wavelet decomposition to each feature and store the decomposed components\n",
    "decomposed_features = []\n",
    "for feature in features_to_decompose:\n",
    "    decomposed = wavelet_decompose(df[feature], wavelet='db1', level=3)\n",
    "    decomposed.index = df.index[:len(decomposed)]  # Align indices with the original data\n",
    "    decomposed_features.append(decomposed)\n",
    "\n",
    "# Concatenate decomposed features with the original data\n",
    "decomposed_data = pd.concat(decomposed_features, axis=1)\n",
    "data_dc = pd.concat([df, decomposed_data], axis=1)"
   ]
  },
  {
   "cell_type": "code",
   "execution_count": 20,
   "id": "75a21851-bdfb-47f4-b384-2086a82b75a3",
   "metadata": {},
   "outputs": [
    {
     "name": "stdout",
     "output_type": "stream",
     "text": [
      "<class 'pandas.core.frame.DataFrame'>\n",
      "DatetimeIndex: 24841 entries, 2022-01-01 00:00:00 to 2024-11-01 00:00:00\n",
      "Freq: h\n",
      "Data columns (total 25 columns):\n",
      " #   Column                   Non-Null Count  Dtype  \n",
      "---  ------                   --------------  -----  \n",
      " 0   price                    24841 non-null  float64\n",
      " 1   solar                    24841 non-null  int64  \n",
      " 2   wind_onshore             24841 non-null  int64  \n",
      " 3   wind_offshore            24841 non-null  int64  \n",
      " 4   total_load               24841 non-null  int64  \n",
      " 5   price_wavelet_0          3106 non-null   float64\n",
      " 6   price_wavelet_1          3106 non-null   float64\n",
      " 7   price_wavelet_2          6211 non-null   float64\n",
      " 8   price_wavelet_3          12421 non-null  float64\n",
      " 9   wind_offshore_wavelet_0  3106 non-null   float64\n",
      " 10  wind_offshore_wavelet_1  3106 non-null   float64\n",
      " 11  wind_offshore_wavelet_2  6211 non-null   float64\n",
      " 12  wind_offshore_wavelet_3  12421 non-null  float64\n",
      " 13  wind_onshore_wavelet_0   3106 non-null   float64\n",
      " 14  wind_onshore_wavelet_1   3106 non-null   float64\n",
      " 15  wind_onshore_wavelet_2   6211 non-null   float64\n",
      " 16  wind_onshore_wavelet_3   12421 non-null  float64\n",
      " 17  solar_wavelet_0          3106 non-null   float64\n",
      " 18  solar_wavelet_1          3106 non-null   float64\n",
      " 19  solar_wavelet_2          6211 non-null   float64\n",
      " 20  solar_wavelet_3          12421 non-null  float64\n",
      " 21  total_load_wavelet_0     3106 non-null   float64\n",
      " 22  total_load_wavelet_1     3106 non-null   float64\n",
      " 23  total_load_wavelet_2     6211 non-null   float64\n",
      " 24  total_load_wavelet_3     12421 non-null  float64\n",
      "dtypes: float64(21), int64(4)\n",
      "memory usage: 4.9 MB\n"
     ]
    }
   ],
   "source": [
    "data_dc.info()"
   ]
  }
 ],
 "metadata": {
  "kernelspec": {
   "display_name": "Python 3 (ipykernel)",
   "language": "python",
   "name": "python3"
  },
  "language_info": {
   "codemirror_mode": {
    "name": "ipython",
    "version": 3
   },
   "file_extension": ".py",
   "mimetype": "text/x-python",
   "name": "python",
   "nbconvert_exporter": "python",
   "pygments_lexer": "ipython3",
   "version": "3.10.14"
  }
 },
 "nbformat": 4,
 "nbformat_minor": 5
}
