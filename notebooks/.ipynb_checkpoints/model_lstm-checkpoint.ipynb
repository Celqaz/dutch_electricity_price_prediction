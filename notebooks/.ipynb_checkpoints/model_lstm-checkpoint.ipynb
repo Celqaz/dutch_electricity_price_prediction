{
 "cells": [
  {
   "cell_type": "markdown",
   "id": "d9926178-ff1a-4017-b8c4-36913ebdf45a",
   "metadata": {},
   "source": [
    "# Model LTSM"
   ]
  },
  {
   "cell_type": "code",
   "execution_count": 2,
   "id": "6d324204-e475-40b7-8a91-baf2cf9bce5c",
   "metadata": {},
   "outputs": [
    {
     "name": "stderr",
     "output_type": "stream",
     "text": [
      "2024-11-13 13:36:19.921246: I tensorflow/core/platform/cpu_feature_guard.cc:210] This TensorFlow binary is optimized to use available CPU instructions in performance-critical operations.\n",
      "To enable the following instructions: SSE4.1 SSE4.2 AVX AVX2 FMA, in other operations, rebuild TensorFlow with the appropriate compiler flags.\n"
     ]
    }
   ],
   "source": [
    "%run utils.ipynb"
   ]
  },
  {
   "cell_type": "markdown",
   "id": "59d5357a-534d-4c9c-8e86-e6a8818b0e0b",
   "metadata": {},
   "source": [
    "## Data Loading"
   ]
  },
  {
   "cell_type": "code",
   "execution_count": 3,
   "id": "d12ff1f3-6f38-4974-bca0-179e21b2ce4c",
   "metadata": {},
   "outputs": [],
   "source": [
    "df_ori = load_data('df_actual_22_24_cleaned')"
   ]
  },
  {
   "cell_type": "markdown",
   "id": "bb33c430-9b38-423b-b3d4-35e9efdde2c6",
   "metadata": {},
   "source": [
    "## Data Processing"
   ]
  },
  {
   "cell_type": "markdown",
   "id": "e2b85542-977c-4758-8573-4ec4763c9c31",
   "metadata": {},
   "source": [
    "## LSTM"
   ]
  },
  {
   "cell_type": "markdown",
   "id": "53bda266-8a04-4b9d-8f09-992de0c9bef0",
   "metadata": {},
   "source": [
    "## Evaluation"
   ]
  }
 ],
 "metadata": {
  "kernelspec": {
   "display_name": "Python 3 (ipykernel)",
   "language": "python",
   "name": "python3"
  },
  "language_info": {
   "codemirror_mode": {
    "name": "ipython",
    "version": 3
   },
   "file_extension": ".py",
   "mimetype": "text/x-python",
   "name": "python",
   "nbconvert_exporter": "python",
   "pygments_lexer": "ipython3",
   "version": "3.10.14"
  }
 },
 "nbformat": 4,
 "nbformat_minor": 5
}
