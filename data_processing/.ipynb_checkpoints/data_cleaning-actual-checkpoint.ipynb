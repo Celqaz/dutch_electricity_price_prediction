{
 "cells": [
  {
   "cell_type": "markdown",
   "id": "271255cb-99be-4f02-871a-442ccb9c885a",
   "metadata": {},
   "source": [
    "## Data Cleaning"
   ]
  },
  {
   "cell_type": "markdown",
   "id": "6da9408c-e58a-43bb-837e-0cf8002e4b40",
   "metadata": {},
   "source": [
    "### Day-Ahead Price"
   ]
  },
  {
   "cell_type": "code",
   "execution_count": 6,
   "id": "7cd42d44-4ca7-463d-90ce-0d4e4ddc550c",
   "metadata": {},
   "outputs": [],
   "source": [
    "import pandas as pd\n",
    "import numpy as np\n",
    "from datetime import datetime, timedelta\n",
    "import csv"
   ]
  },
  {
   "cell_type": "code",
   "execution_count": 7,
   "id": "0fb43f01-ccf1-4750-be5d-9cc5149b3786",
   "metadata": {},
   "outputs": [],
   "source": [
    "def p_c(df):\n",
    "    \n",
    "    # Identify cycles by detecting where 'position' restarts\n",
    "    df['group'] = (df['position'] == 1).cumsum() - 1\n",
    "    \n",
    "    # Create a DataFrame with the complete range of positions from 1 to 24, repeated for each cycle (group)\n",
    "    num_groups = df['group'].max() + 1\n",
    "    print('num of groups:', num_groups)\n",
    "    full_positions = pd.DataFrame({\n",
    "        'position': list(range(1, 25)) * num_groups,\n",
    "        'group': np.repeat(range(num_groups), 24)\n",
    "    })\n",
    "    \n",
    "    # Merge the original DataFrame with the full positions to ensure all positions are included in each group\n",
    "    df_fixed = full_positions.merge(df, on=['position', 'group'], how='left')\n",
    "    \n",
    "    # Forward fill missing 'price' values within each group\n",
    "    df_fixed['price'] = df_fixed.groupby('group')['price.amount'].ffill()\n",
    "    \n",
    "    # Drop the 'group' column if it's not needed anymore\n",
    "    df_fixed = df_fixed.drop(columns=['group'])\n",
    "    return df_fixed"
   ]
  },
  {
   "cell_type": "code",
   "execution_count": 8,
   "id": "78bb1b3c-90d7-4359-ab7e-e326a78efbe1",
   "metadata": {},
   "outputs": [],
   "source": [
    "def read_price_xml(year):\n",
    "    data_xml = pd.DataFrame()\n",
    "    for i in range(1,5):\n",
    "       df = pd.read_xml(f'raw/day_ahead_price/price_{year}_{i}.xml', xpath=\".//ns:Point\", namespaces={'ns': 'urn:iec62325.351:tc57wg16:451-3:publicationdocument:7:3'}) \n",
    "       data_xml = pd.concat([data_xml,df], axis=0, ignore_index=True) \n",
    "    return data_xml"
   ]
  },
  {
   "cell_type": "code",
   "execution_count": 9,
   "id": "8146d81f-1495-4237-8857-dc32fef07d16",
   "metadata": {},
   "outputs": [],
   "source": [
    "def read_price(start_year = 2019, end_year = 2019):\n",
    "    data = pd.DataFrame()\n",
    "    for i in range(start_year, end_year + 1):\n",
    "        df_xml = read_price_xml(2019)\n",
    "        df= p_c(df_xml)\n",
    "    data = pd.concat([data,df], axis=0, ignore_index=True) \n",
    "    return df"
   ]
  },
  {
   "cell_type": "code",
   "execution_count": 10,
   "id": "ad72bbe6-1c65-4651-ba11-f4a5fe977f9c",
   "metadata": {},
   "outputs": [
    {
     "name": "stdout",
     "output_type": "stream",
     "text": [
      "num of groups: 365\n",
      "num of groups: 365\n",
      "num of groups: 365\n",
      "num of groups: 365\n"
     ]
    }
   ],
   "source": [
    "df_price = read_price(2019, 2022)"
   ]
  },
  {
   "cell_type": "code",
   "execution_count": 355,
   "id": "0843bf42-f641-4264-a681-20e3b6c242b4",
   "metadata": {},
   "outputs": [
    {
     "name": "stdout",
     "output_type": "stream",
     "text": [
      "<class 'pandas.core.frame.DataFrame'>\n",
      "RangeIndex: 8760 entries, 0 to 8759\n",
      "Data columns (total 3 columns):\n",
      " #   Column        Non-Null Count  Dtype  \n",
      "---  ------        --------------  -----  \n",
      " 0   position      8760 non-null   int64  \n",
      " 1   price.amount  8679 non-null   float64\n",
      " 2   price         8760 non-null   float64\n",
      "dtypes: float64(2), int64(1)\n",
      "memory usage: 205.4 KB\n"
     ]
    }
   ],
   "source": [
    "df_19_t.info()"
   ]
  },
  {
   "cell_type": "code",
   "execution_count": 97,
   "id": "f8ed8a69-930c-410b-a78b-52a02f218e26",
   "metadata": {},
   "outputs": [],
   "source": [
    "df_fin = pd.concat([df_19_fixed,df_20_fixed, df_21_fixed, df_22_fixed, df_23_fixed], axis=0, ignore_index=True) "
   ]
  },
  {
   "cell_type": "code",
   "execution_count": 98,
   "id": "0519049a-3a85-40d1-87b2-ec9c35ae4c3e",
   "metadata": {},
   "outputs": [
    {
     "name": "stdout",
     "output_type": "stream",
     "text": [
      "<class 'pandas.core.frame.DataFrame'>\n",
      "RangeIndex: 43824 entries, 0 to 43823\n",
      "Data columns (total 3 columns):\n",
      " #   Column        Non-Null Count  Dtype  \n",
      "---  ------        --------------  -----  \n",
      " 0   position      43824 non-null  int64  \n",
      " 1   price.amount  43500 non-null  float64\n",
      " 2   price         43824 non-null  float64\n",
      "dtypes: float64(2), int64(1)\n",
      "memory usage: 1.0 MB\n"
     ]
    }
   ],
   "source": [
    "df_fin.info()"
   ]
  },
  {
   "cell_type": "code",
   "execution_count": 99,
   "id": "9fd76faf-4757-4d70-859b-5b576aae195f",
   "metadata": {},
   "outputs": [],
   "source": [
    "# Generate an hourly DatetimeIndex from 2019-01-01 to 2021-12-31\n",
    "date_index = pd.date_range(start=\"2019-01-01 01:00:00\", end=\"2024-01-01 00:00:00\", freq=\"h\")\n",
    "\n",
    "# Set the generated DatetimeIndex as the index for the DataFrame\n",
    "df_fin.index = date_index"
   ]
  },
  {
   "cell_type": "code",
   "execution_count": 100,
   "id": "f677367c-fd4e-4b2d-85dd-353adc334751",
   "metadata": {},
   "outputs": [
    {
     "data": {
      "text/html": [
       "<div>\n",
       "<style scoped>\n",
       "    .dataframe tbody tr th:only-of-type {\n",
       "        vertical-align: middle;\n",
       "    }\n",
       "\n",
       "    .dataframe tbody tr th {\n",
       "        vertical-align: top;\n",
       "    }\n",
       "\n",
       "    .dataframe thead th {\n",
       "        text-align: right;\n",
       "    }\n",
       "</style>\n",
       "<table border=\"1\" class=\"dataframe\">\n",
       "  <thead>\n",
       "    <tr style=\"text-align: right;\">\n",
       "      <th></th>\n",
       "      <th>position</th>\n",
       "      <th>price.amount</th>\n",
       "      <th>price</th>\n",
       "    </tr>\n",
       "  </thead>\n",
       "  <tbody>\n",
       "    <tr>\n",
       "      <th>2023-12-31 20:00:00</th>\n",
       "      <td>20</td>\n",
       "      <td>39.64</td>\n",
       "      <td>39.64</td>\n",
       "    </tr>\n",
       "    <tr>\n",
       "      <th>2023-12-31 21:00:00</th>\n",
       "      <td>21</td>\n",
       "      <td>34.89</td>\n",
       "      <td>34.89</td>\n",
       "    </tr>\n",
       "    <tr>\n",
       "      <th>2023-12-31 22:00:00</th>\n",
       "      <td>22</td>\n",
       "      <td>13.30</td>\n",
       "      <td>13.30</td>\n",
       "    </tr>\n",
       "    <tr>\n",
       "      <th>2023-12-31 23:00:00</th>\n",
       "      <td>23</td>\n",
       "      <td>10.68</td>\n",
       "      <td>10.68</td>\n",
       "    </tr>\n",
       "    <tr>\n",
       "      <th>2024-01-01 00:00:00</th>\n",
       "      <td>24</td>\n",
       "      <td>3.17</td>\n",
       "      <td>3.17</td>\n",
       "    </tr>\n",
       "  </tbody>\n",
       "</table>\n",
       "</div>"
      ],
      "text/plain": [
       "                     position  price.amount  price\n",
       "2023-12-31 20:00:00        20         39.64  39.64\n",
       "2023-12-31 21:00:00        21         34.89  34.89\n",
       "2023-12-31 22:00:00        22         13.30  13.30\n",
       "2023-12-31 23:00:00        23         10.68  10.68\n",
       "2024-01-01 00:00:00        24          3.17   3.17"
      ]
     },
     "execution_count": 100,
     "metadata": {},
     "output_type": "execute_result"
    }
   ],
   "source": [
    "df_fin.tail()"
   ]
  },
  {
   "cell_type": "code",
   "execution_count": 105,
   "id": "3e0018d2-8f4e-4334-a7d0-61f92c47c580",
   "metadata": {},
   "outputs": [
    {
     "data": {
      "text/html": [
       "<div>\n",
       "<style scoped>\n",
       "    .dataframe tbody tr th:only-of-type {\n",
       "        vertical-align: middle;\n",
       "    }\n",
       "\n",
       "    .dataframe tbody tr th {\n",
       "        vertical-align: top;\n",
       "    }\n",
       "\n",
       "    .dataframe thead th {\n",
       "        text-align: right;\n",
       "    }\n",
       "</style>\n",
       "<table border=\"1\" class=\"dataframe\">\n",
       "  <thead>\n",
       "    <tr style=\"text-align: right;\">\n",
       "      <th></th>\n",
       "      <th>position</th>\n",
       "      <th>price.amount</th>\n",
       "      <th>price</th>\n",
       "    </tr>\n",
       "  </thead>\n",
       "  <tbody>\n",
       "    <tr>\n",
       "      <th>2022-05-20 00:00:00</th>\n",
       "      <td>24</td>\n",
       "      <td>213.31</td>\n",
       "      <td>213.31</td>\n",
       "    </tr>\n",
       "    <tr>\n",
       "      <th>2022-05-20 01:00:00</th>\n",
       "      <td>1</td>\n",
       "      <td>211.10</td>\n",
       "      <td>211.10</td>\n",
       "    </tr>\n",
       "    <tr>\n",
       "      <th>2022-05-20 02:00:00</th>\n",
       "      <td>2</td>\n",
       "      <td>195.98</td>\n",
       "      <td>195.98</td>\n",
       "    </tr>\n",
       "    <tr>\n",
       "      <th>2022-05-20 03:00:00</th>\n",
       "      <td>3</td>\n",
       "      <td>189.56</td>\n",
       "      <td>189.56</td>\n",
       "    </tr>\n",
       "    <tr>\n",
       "      <th>2022-05-20 04:00:00</th>\n",
       "      <td>4</td>\n",
       "      <td>188.00</td>\n",
       "      <td>188.00</td>\n",
       "    </tr>\n",
       "    <tr>\n",
       "      <th>2022-05-20 05:00:00</th>\n",
       "      <td>5</td>\n",
       "      <td>189.56</td>\n",
       "      <td>189.56</td>\n",
       "    </tr>\n",
       "    <tr>\n",
       "      <th>2022-05-20 06:00:00</th>\n",
       "      <td>6</td>\n",
       "      <td>208.62</td>\n",
       "      <td>208.62</td>\n",
       "    </tr>\n",
       "    <tr>\n",
       "      <th>2022-05-20 07:00:00</th>\n",
       "      <td>7</td>\n",
       "      <td>236.04</td>\n",
       "      <td>236.04</td>\n",
       "    </tr>\n",
       "    <tr>\n",
       "      <th>2022-05-20 08:00:00</th>\n",
       "      <td>8</td>\n",
       "      <td>263.32</td>\n",
       "      <td>263.32</td>\n",
       "    </tr>\n",
       "    <tr>\n",
       "      <th>2022-05-20 09:00:00</th>\n",
       "      <td>9</td>\n",
       "      <td>250.00</td>\n",
       "      <td>250.00</td>\n",
       "    </tr>\n",
       "    <tr>\n",
       "      <th>2022-05-20 10:00:00</th>\n",
       "      <td>10</td>\n",
       "      <td>224.00</td>\n",
       "      <td>224.00</td>\n",
       "    </tr>\n",
       "    <tr>\n",
       "      <th>2022-05-20 11:00:00</th>\n",
       "      <td>11</td>\n",
       "      <td>204.97</td>\n",
       "      <td>204.97</td>\n",
       "    </tr>\n",
       "    <tr>\n",
       "      <th>2022-05-20 12:00:00</th>\n",
       "      <td>12</td>\n",
       "      <td>201.60</td>\n",
       "      <td>201.60</td>\n",
       "    </tr>\n",
       "    <tr>\n",
       "      <th>2022-05-20 13:00:00</th>\n",
       "      <td>13</td>\n",
       "      <td>197.40</td>\n",
       "      <td>197.40</td>\n",
       "    </tr>\n",
       "    <tr>\n",
       "      <th>2022-05-20 14:00:00</th>\n",
       "      <td>14</td>\n",
       "      <td>190.07</td>\n",
       "      <td>190.07</td>\n",
       "    </tr>\n",
       "    <tr>\n",
       "      <th>2022-05-20 15:00:00</th>\n",
       "      <td>15</td>\n",
       "      <td>185.33</td>\n",
       "      <td>185.33</td>\n",
       "    </tr>\n",
       "    <tr>\n",
       "      <th>2022-05-20 16:00:00</th>\n",
       "      <td>16</td>\n",
       "      <td>189.26</td>\n",
       "      <td>189.26</td>\n",
       "    </tr>\n",
       "    <tr>\n",
       "      <th>2022-05-20 17:00:00</th>\n",
       "      <td>17</td>\n",
       "      <td>190.00</td>\n",
       "      <td>190.00</td>\n",
       "    </tr>\n",
       "    <tr>\n",
       "      <th>2022-05-20 18:00:00</th>\n",
       "      <td>18</td>\n",
       "      <td>280.45</td>\n",
       "      <td>280.45</td>\n",
       "    </tr>\n",
       "    <tr>\n",
       "      <th>2022-05-20 19:00:00</th>\n",
       "      <td>19</td>\n",
       "      <td>264.28</td>\n",
       "      <td>264.28</td>\n",
       "    </tr>\n",
       "    <tr>\n",
       "      <th>2022-05-20 20:00:00</th>\n",
       "      <td>20</td>\n",
       "      <td>231.80</td>\n",
       "      <td>231.80</td>\n",
       "    </tr>\n",
       "    <tr>\n",
       "      <th>2022-05-20 21:00:00</th>\n",
       "      <td>21</td>\n",
       "      <td>231.84</td>\n",
       "      <td>231.84</td>\n",
       "    </tr>\n",
       "    <tr>\n",
       "      <th>2022-05-20 22:00:00</th>\n",
       "      <td>22</td>\n",
       "      <td>218.03</td>\n",
       "      <td>218.03</td>\n",
       "    </tr>\n",
       "    <tr>\n",
       "      <th>2022-05-20 23:00:00</th>\n",
       "      <td>23</td>\n",
       "      <td>205.27</td>\n",
       "      <td>205.27</td>\n",
       "    </tr>\n",
       "  </tbody>\n",
       "</table>\n",
       "</div>"
      ],
      "text/plain": [
       "                     position  price.amount   price\n",
       "2022-05-20 00:00:00        24        213.31  213.31\n",
       "2022-05-20 01:00:00         1        211.10  211.10\n",
       "2022-05-20 02:00:00         2        195.98  195.98\n",
       "2022-05-20 03:00:00         3        189.56  189.56\n",
       "2022-05-20 04:00:00         4        188.00  188.00\n",
       "2022-05-20 05:00:00         5        189.56  189.56\n",
       "2022-05-20 06:00:00         6        208.62  208.62\n",
       "2022-05-20 07:00:00         7        236.04  236.04\n",
       "2022-05-20 08:00:00         8        263.32  263.32\n",
       "2022-05-20 09:00:00         9        250.00  250.00\n",
       "2022-05-20 10:00:00        10        224.00  224.00\n",
       "2022-05-20 11:00:00        11        204.97  204.97\n",
       "2022-05-20 12:00:00        12        201.60  201.60\n",
       "2022-05-20 13:00:00        13        197.40  197.40\n",
       "2022-05-20 14:00:00        14        190.07  190.07\n",
       "2022-05-20 15:00:00        15        185.33  185.33\n",
       "2022-05-20 16:00:00        16        189.26  189.26\n",
       "2022-05-20 17:00:00        17        190.00  190.00\n",
       "2022-05-20 18:00:00        18        280.45  280.45\n",
       "2022-05-20 19:00:00        19        264.28  264.28\n",
       "2022-05-20 20:00:00        20        231.80  231.80\n",
       "2022-05-20 21:00:00        21        231.84  231.84\n",
       "2022-05-20 22:00:00        22        218.03  218.03\n",
       "2022-05-20 23:00:00        23        205.27  205.27"
      ]
     },
     "execution_count": 105,
     "metadata": {},
     "output_type": "execute_result"
    }
   ],
   "source": [
    "df_fin.loc['2022-05-20']"
   ]
  },
  {
   "cell_type": "code",
   "execution_count": 101,
   "id": "d14964c6-ab34-4360-a177-a7f4f7dbb34b",
   "metadata": {},
   "outputs": [],
   "source": [
    "df_fin.to_pickle('output/df_price_19_23.pkl')"
   ]
  },
  {
   "cell_type": "markdown",
   "id": "e1e1d45a-496c-430a-bf20-ad87cb66b8e8",
   "metadata": {},
   "source": [
    "TODO: 23data\n",
    "\n",
    "- {'start': '2022-03-26T23:00Z', 'end': '2022-03-27T22:00Z'}\n",
    "- {'start': '2022-10-29T22:00Z', 'end': '2022-10-30T23:00Z'}\n",
    "- {'start': '2023-03-25T23:00Z', 'end': '2023-03-26T22:00Z'}\n",
    "- {'start': '2023-10-28T22:00Z', 'end': '2023-10-29T23:00Z'}\n",
    "- {'start': '2024-03-30T23:00Z', 'end': '2024-03-31T22:00Z'}"
   ]
  },
  {
   "cell_type": "markdown",
   "id": "13ece46f-bb3f-41da-a444-dae54cec59c2",
   "metadata": {},
   "source": [
    "### Forecast Energy Generation"
   ]
  },
  {
   "cell_type": "markdown",
   "id": "123a3bbe-94de-4ad1-827a-36c1e271f93c",
   "metadata": {},
   "source": [
    "#### Solar B16"
   ]
  },
  {
   "cell_type": "code",
   "execution_count": 11,
   "id": "54ccf13e-29b4-4e70-826e-b50da08b44a8",
   "metadata": {},
   "outputs": [],
   "source": [
    "date_series_19 = pd.date_range(start='2019-01-01 01:00', end='2020-01-01 00:00', freq='1h')\n",
    "date_series_20 = pd.date_range(start='2020-01-01 01:00', end='2021-01-01 00:00', freq='1h')\n",
    "date_series_21 = pd.date_range(start='2021-01-01 01:00', end='2022-01-01 00:00', freq='1h')\n",
    "date_series_22 = pd.date_range(start='2022-01-01 01:00', end='2023-01-01 00:00', freq='1h')\n",
    "date_series_23 = pd.date_range(start='2023-01-01 01:00', end='2024-01-01 00:00', freq='1h')"
   ]
  },
  {
   "cell_type": "code",
   "execution_count": 5,
   "id": "cdb272d4-53bd-407f-b9b3-0b6810f66e5f",
   "metadata": {},
   "outputs": [],
   "source": [
    "# t = date_series_23[date_series_23 < pd.to_datetime('2023-11-14') and date_series_23 > pd.to_datetime('2023-11-14')]\n",
    "# t = date_series_23[(date_series_23 < pd.to_datetime('2023-11-13 23:30:00')) | (date_series_23 > pd.to_datetime('2023-11-14 23:30:00'))]"
   ]
  },
  {
   "cell_type": "code",
   "execution_count": 12,
   "id": "d7a89b62-e082-4e97-93f4-ef84b2327423",
   "metadata": {},
   "outputs": [],
   "source": [
    "def min2h(df_xml, date_series):\n",
    "    df = df_xml.copy()\n",
    "    df.drop('position', axis = 1, inplace = True)\n",
    "    # df.rename(columns={'quantity': col_name}, inplace=True)\n",
    "    df_hourly_data = df.groupby(df.index // 4).sum()\n",
    "    df_hourly_data['Date'] = date_series\n",
    "    df_hourly_data.set_index('Date', inplace= True)\n",
    "    # df_hourly_data.rename(columns={'quantity': 'Alpha'}, inplace=True)\n",
    "    return df_hourly_data"
   ]
  },
  {
   "cell_type": "code",
   "execution_count": 14,
   "id": "33bcc110-10e5-4816-a1fd-d36eeba870e3",
   "metadata": {},
   "outputs": [],
   "source": [
    "def missing_1114(df):\n",
    "    \n",
    "    df_1113 = df[df.index.date == pd.to_datetime('2023-11-13').date()]\n",
    "    df_1115 = df[df.index.date == pd.to_datetime('2023-11-15').date()]\n",
    "    df_1114_avg= (df_1113['quantity'].values +  df_1115['quantity'].values) / 2\n",
    "    df_1114_avg = np.array([int(x) for x in df_1114_avg])\n",
    "    df_1114_avg = df_1114_avg.reshape(24,1)\n",
    "    df[df.index.date == pd.to_datetime('2023-11-14').date()] = df_1114_avg\n",
    "    return df"
   ]
  },
  {
   "cell_type": "markdown",
   "id": "326f5ab5-96e3-441a-8ba7-784a1ff8ee12",
   "metadata": {},
   "source": [
    "## Energy Generation"
   ]
  },
  {
   "cell_type": "code",
   "execution_count": 66,
   "id": "aebc9868-cc17-4faa-ae8b-84bec4ff76fa",
   "metadata": {},
   "outputs": [],
   "source": [
    "def gene(folder, energy_type, start_year, end_year):\n",
    "    data = pd.DataFrame()\n",
    "    for year in range(start_year, end_year +1 ):\n",
    "        print(year)\n",
    "        if year == 24:\n",
    "            date_series = pd.date_range(start='2024-01-01 01:00', end='2024-11-01 00:00', freq='1h')\n",
    "        else:\n",
    "            date_series = pd.date_range(start=f'20{year}-01-01 01:00', end=f'20{year+1}-01-01 00:00', freq='1h')\n",
    "        # print(date_series[-5:])\n",
    "        # print('date_series',len(date_series))\n",
    "        df_xml = pd.read_xml(f'raw/{folder}/{energy_type}/a_{energy_type}_{year}.xml', xpath=\".//ns:Point\", namespaces={'ns': 'urn:iec62325.351:tc57wg16:451-6:generationloaddocument:3:0'})\n",
    "        df_xml = df_xml[: int(len(df_xml)/2)]\n",
    "        # print('df_xml',len(df_xml))\n",
    "        # print(df_xml.tail())\n",
    "        df_hourly = min2h(df_xml, date_series)\n",
    "        # print(df_hourly.tail())\n",
    "        # if year == 23 and folder != 'total_load':\n",
    "        #     print('Fill missing 2023-11-14')\n",
    "        #     df_hourly = missing_1114(df_hourly)\n",
    "        data = pd.concat([data,df_hourly], axis=0) \n",
    "    data.to_pickle(f'output/{folder}/{folder}_{energy_type}_{start_year}_{end_year}.pkl')\n",
    "    print('data saved!')\n",
    "    # return data"
   ]
  },
  {
   "cell_type": "code",
   "execution_count": 84,
   "id": "7fd11f7d-1b23-4282-99b0-f7858cf0c91c",
   "metadata": {},
   "outputs": [
    {
     "name": "stdout",
     "output_type": "stream",
     "text": [
      "Energy from offshore\n",
      "22\n",
      "23\n",
      "24\n",
      "data saved!\n",
      "Energy from onshore\n",
      "22\n",
      "23\n",
      "24\n",
      "data saved!\n",
      "Energy from solar\n",
      "22\n",
      "23\n",
      "24\n",
      "data saved!\n",
      "Energy from fossil_gas\n",
      "22\n",
      "23\n",
      "24\n",
      "data saved!\n",
      "Energy from fossil_hard_coal\n",
      "22\n",
      "23\n",
      "24\n",
      "data saved!\n"
     ]
    }
   ],
   "source": [
    "generations  = ['offshore', 'onshore', 'solar', 'fossil_gas', 'fossil_hard_coal']\n",
    "for g in generations:\n",
    "    print('Energy from', g)\n",
    "    gene('actual',g, 22, 24)"
   ]
  },
  {
   "cell_type": "markdown",
   "id": "083c9654-352c-41f2-b6b8-ee9aa3e42abc",
   "metadata": {},
   "source": [
    "## All"
   ]
  },
  {
   "cell_type": "code",
   "execution_count": 85,
   "id": "b9ae12fc-f00d-4cb0-b3bc-85aa1f3f705e",
   "metadata": {},
   "outputs": [],
   "source": [
    "# df_price = pd.read_pickle('output/actual/df_price_12_24.pkl')\n",
    "# df_price.drop(columns= ['position', 'price.amount'], inplace = True)\n",
    "df_solar = pd.read_pickle('output/actual/actual_solar_22_24.pkl')\n",
    "df_onshore = pd.read_pickle('output/actual/actual_onshore_22_24.pkl')\n",
    "df_offshore = pd.read_pickle('output/actual/actual_offshore_22_24.pkl')\n",
    "df_fossil_gas = pd.read_pickle('output/actual/actual_fossil_gas_22_24.pkl')\n",
    "df_fossil_hard_coal = pd.read_pickle('output/actual/actual_fossil_hard_coal_22_24.pkl')\n",
    "# df_total_load = pd.read_pickle('output/actual/df_total_load_19_23.pkl')"
   ]
  },
  {
   "cell_type": "code",
   "execution_count": 86,
   "id": "759925b4-7f61-4524-91bd-774d95cab9b4",
   "metadata": {},
   "outputs": [],
   "source": [
    "# df_price.columns = ['price']\n",
    "df_solar.columns = ['actual_solar']\n",
    "df_onshore.columns = ['actual_wind_onshore']\n",
    "df_offshore.columns = ['actual_wind_offshore']\n",
    "df_fossil_gas.columns = ['actual_fossil_gas']\n",
    "df_fossil_hard_coal.columns = ['actual_fossil_hard_coal']\n",
    "# df_total_load.columns = ['total_load']"
   ]
  },
  {
   "cell_type": "code",
   "execution_count": 87,
   "id": "21b6bb37-ca51-4652-b7e8-6c69ea1be79b",
   "metadata": {},
   "outputs": [],
   "source": [
    "df_actual = pd.concat([df_solar, df_onshore, df_offshore, df_fossil_gas, df_fossil_hard_coal], axis=1)"
   ]
  },
  {
   "cell_type": "code",
   "execution_count": 88,
   "id": "e4f7de3e-51d3-4890-9fa0-bd46b91472b8",
   "metadata": {},
   "outputs": [
    {
     "name": "stdout",
     "output_type": "stream",
     "text": [
      "<class 'pandas.core.frame.DataFrame'>\n",
      "DatetimeIndex: 24840 entries, 2022-01-01 01:00:00 to 2024-11-01 00:00:00\n",
      "Data columns (total 5 columns):\n",
      " #   Column                   Non-Null Count  Dtype\n",
      "---  ------                   --------------  -----\n",
      " 0   actual_solar             24840 non-null  int64\n",
      " 1   actual_wind_onshore      24840 non-null  int64\n",
      " 2   actual_wind_offshore     24840 non-null  int64\n",
      " 3   actual_fossil_gas        24840 non-null  int64\n",
      " 4   actual_fossil_hard_coal  24840 non-null  int64\n",
      "dtypes: int64(5)\n",
      "memory usage: 1.1 MB\n"
     ]
    }
   ],
   "source": [
    "df_actual.info()"
   ]
  },
  {
   "cell_type": "code",
   "execution_count": 89,
   "id": "27c32367-66a2-4f77-bf51-23192182da90",
   "metadata": {},
   "outputs": [],
   "source": [
    "df_actual.to_pickle('output/one/generation_actual_22_24.pkl')"
   ]
  },
  {
   "cell_type": "code",
   "execution_count": 90,
   "id": "e0482e1b-5fc0-43f4-ba24-bef9dc1fe5b7",
   "metadata": {},
   "outputs": [],
   "source": [
    "# 2019: Sun, Mar 31, 2019 – Sun, Oct 27, 2019"
   ]
  },
  {
   "cell_type": "markdown",
   "id": "72bf4df5-8458-49a6-88ba-3fbbb75ad387",
   "metadata": {},
   "source": [
    "## cleaning"
   ]
  },
  {
   "cell_type": "code",
   "execution_count": 91,
   "id": "84de5726-cf14-46de-adde-30285891042d",
   "metadata": {},
   "outputs": [],
   "source": [
    "actual = pd.read_pickle('output/one/generation_actual_22_24.pkl')"
   ]
  },
  {
   "cell_type": "code",
   "execution_count": 92,
   "id": "5205eb91-a605-478b-a1d8-ea444923ad77",
   "metadata": {},
   "outputs": [],
   "source": [
    "ori = pd.read_pickle('output/one/df_19_24_cleaned.pkl')"
   ]
  },
  {
   "cell_type": "code",
   "execution_count": 93,
   "id": "104498f3-b07d-47b1-9e24-e1ca4240349d",
   "metadata": {},
   "outputs": [
    {
     "data": {
      "text/html": [
       "<div>\n",
       "<style scoped>\n",
       "    .dataframe tbody tr th:only-of-type {\n",
       "        vertical-align: middle;\n",
       "    }\n",
       "\n",
       "    .dataframe tbody tr th {\n",
       "        vertical-align: top;\n",
       "    }\n",
       "\n",
       "    .dataframe thead th {\n",
       "        text-align: right;\n",
       "    }\n",
       "</style>\n",
       "<table border=\"1\" class=\"dataframe\">\n",
       "  <thead>\n",
       "    <tr style=\"text-align: right;\">\n",
       "      <th></th>\n",
       "      <th>actual_solar</th>\n",
       "      <th>actual_wind_onshore</th>\n",
       "      <th>actual_wind_offshore</th>\n",
       "      <th>actual_fossil_gas</th>\n",
       "      <th>actual_fossil_hard_coal</th>\n",
       "    </tr>\n",
       "    <tr>\n",
       "      <th>Date</th>\n",
       "      <th></th>\n",
       "      <th></th>\n",
       "      <th></th>\n",
       "      <th></th>\n",
       "      <th></th>\n",
       "    </tr>\n",
       "  </thead>\n",
       "  <tbody>\n",
       "    <tr>\n",
       "      <th>2024-10-31 20:00:00</th>\n",
       "      <td>4</td>\n",
       "      <td>1552</td>\n",
       "      <td>4635</td>\n",
       "      <td>24525</td>\n",
       "      <td>11031</td>\n",
       "    </tr>\n",
       "    <tr>\n",
       "      <th>2024-10-31 21:00:00</th>\n",
       "      <td>4</td>\n",
       "      <td>1313</td>\n",
       "      <td>4741</td>\n",
       "      <td>24010</td>\n",
       "      <td>10758</td>\n",
       "    </tr>\n",
       "    <tr>\n",
       "      <th>2024-10-31 22:00:00</th>\n",
       "      <td>4</td>\n",
       "      <td>1396</td>\n",
       "      <td>4411</td>\n",
       "      <td>22337</td>\n",
       "      <td>10524</td>\n",
       "    </tr>\n",
       "    <tr>\n",
       "      <th>2024-10-31 23:00:00</th>\n",
       "      <td>4</td>\n",
       "      <td>1345</td>\n",
       "      <td>4343</td>\n",
       "      <td>20718</td>\n",
       "      <td>9902</td>\n",
       "    </tr>\n",
       "    <tr>\n",
       "      <th>2024-11-01 00:00:00</th>\n",
       "      <td>4</td>\n",
       "      <td>1482</td>\n",
       "      <td>4671</td>\n",
       "      <td>17489</td>\n",
       "      <td>9730</td>\n",
       "    </tr>\n",
       "  </tbody>\n",
       "</table>\n",
       "</div>"
      ],
      "text/plain": [
       "                     actual_solar  actual_wind_onshore  actual_wind_offshore  \\\n",
       "Date                                                                           \n",
       "2024-10-31 20:00:00             4                 1552                  4635   \n",
       "2024-10-31 21:00:00             4                 1313                  4741   \n",
       "2024-10-31 22:00:00             4                 1396                  4411   \n",
       "2024-10-31 23:00:00             4                 1345                  4343   \n",
       "2024-11-01 00:00:00             4                 1482                  4671   \n",
       "\n",
       "                     actual_fossil_gas  actual_fossil_hard_coal  \n",
       "Date                                                             \n",
       "2024-10-31 20:00:00              24525                    11031  \n",
       "2024-10-31 21:00:00              24010                    10758  \n",
       "2024-10-31 22:00:00              22337                    10524  \n",
       "2024-10-31 23:00:00              20718                     9902  \n",
       "2024-11-01 00:00:00              17489                     9730  "
      ]
     },
     "execution_count": 93,
     "metadata": {},
     "output_type": "execute_result"
    }
   ],
   "source": [
    "actual.tail()"
   ]
  },
  {
   "cell_type": "code",
   "execution_count": 94,
   "id": "506869cf-126e-4d01-812a-0fe6499313a4",
   "metadata": {},
   "outputs": [
    {
     "data": {
      "text/html": [
       "<div>\n",
       "<style scoped>\n",
       "    .dataframe tbody tr th:only-of-type {\n",
       "        vertical-align: middle;\n",
       "    }\n",
       "\n",
       "    .dataframe tbody tr th {\n",
       "        vertical-align: top;\n",
       "    }\n",
       "\n",
       "    .dataframe thead th {\n",
       "        text-align: right;\n",
       "    }\n",
       "</style>\n",
       "<table border=\"1\" class=\"dataframe\">\n",
       "  <thead>\n",
       "    <tr style=\"text-align: right;\">\n",
       "      <th></th>\n",
       "      <th>price</th>\n",
       "      <th>solar</th>\n",
       "      <th>wind_onshore</th>\n",
       "      <th>wind_offshore</th>\n",
       "      <th>total_load</th>\n",
       "    </tr>\n",
       "  </thead>\n",
       "  <tbody>\n",
       "    <tr>\n",
       "      <th>2024-10-31 20:00:00</th>\n",
       "      <td>131.10</td>\n",
       "      <td>0</td>\n",
       "      <td>2943</td>\n",
       "      <td>934</td>\n",
       "      <td>58152</td>\n",
       "    </tr>\n",
       "    <tr>\n",
       "      <th>2024-10-31 21:00:00</th>\n",
       "      <td>110.00</td>\n",
       "      <td>0</td>\n",
       "      <td>3190</td>\n",
       "      <td>955</td>\n",
       "      <td>53694</td>\n",
       "    </tr>\n",
       "    <tr>\n",
       "      <th>2024-10-31 22:00:00</th>\n",
       "      <td>107.00</td>\n",
       "      <td>0</td>\n",
       "      <td>3445</td>\n",
       "      <td>1023</td>\n",
       "      <td>50703</td>\n",
       "    </tr>\n",
       "    <tr>\n",
       "      <th>2024-10-31 23:00:00</th>\n",
       "      <td>107.40</td>\n",
       "      <td>0</td>\n",
       "      <td>3599</td>\n",
       "      <td>1141</td>\n",
       "      <td>48258</td>\n",
       "    </tr>\n",
       "    <tr>\n",
       "      <th>2024-11-01 00:00:00</th>\n",
       "      <td>101.72</td>\n",
       "      <td>0</td>\n",
       "      <td>3540</td>\n",
       "      <td>1206</td>\n",
       "      <td>42045</td>\n",
       "    </tr>\n",
       "  </tbody>\n",
       "</table>\n",
       "</div>"
      ],
      "text/plain": [
       "                      price  solar  wind_onshore  wind_offshore  total_load\n",
       "2024-10-31 20:00:00  131.10      0          2943            934       58152\n",
       "2024-10-31 21:00:00  110.00      0          3190            955       53694\n",
       "2024-10-31 22:00:00  107.00      0          3445           1023       50703\n",
       "2024-10-31 23:00:00  107.40      0          3599           1141       48258\n",
       "2024-11-01 00:00:00  101.72      0          3540           1206       42045"
      ]
     },
     "execution_count": 94,
     "metadata": {},
     "output_type": "execute_result"
    }
   ],
   "source": [
    "ori.tail()"
   ]
  },
  {
   "cell_type": "code",
   "execution_count": 95,
   "id": "974deadb-cf09-47b0-96c2-2ae178041485",
   "metadata": {},
   "outputs": [],
   "source": [
    "# df = pd.concat([ori, actual], axis = 0)\n",
    "df = ori.join(actual, how='inner') "
   ]
  },
  {
   "cell_type": "code",
   "execution_count": 99,
   "id": "507397bc-ede1-40b2-a56d-98f7b09c1a2f",
   "metadata": {},
   "outputs": [
    {
     "data": {
      "text/html": [
       "<div>\n",
       "<style scoped>\n",
       "    .dataframe tbody tr th:only-of-type {\n",
       "        vertical-align: middle;\n",
       "    }\n",
       "\n",
       "    .dataframe tbody tr th {\n",
       "        vertical-align: top;\n",
       "    }\n",
       "\n",
       "    .dataframe thead th {\n",
       "        text-align: right;\n",
       "    }\n",
       "</style>\n",
       "<table border=\"1\" class=\"dataframe\">\n",
       "  <thead>\n",
       "    <tr style=\"text-align: right;\">\n",
       "      <th></th>\n",
       "      <th>price</th>\n",
       "      <th>solar</th>\n",
       "      <th>wind_onshore</th>\n",
       "      <th>wind_offshore</th>\n",
       "      <th>total_load</th>\n",
       "      <th>actual_solar</th>\n",
       "      <th>actual_wind_onshore</th>\n",
       "      <th>actual_wind_offshore</th>\n",
       "      <th>actual_fossil_gas</th>\n",
       "      <th>actual_fossil_hard_coal</th>\n",
       "    </tr>\n",
       "  </thead>\n",
       "  <tbody>\n",
       "    <tr>\n",
       "      <th>2024-10-31 20:00:00</th>\n",
       "      <td>131.10</td>\n",
       "      <td>0</td>\n",
       "      <td>2943</td>\n",
       "      <td>934</td>\n",
       "      <td>58152</td>\n",
       "      <td>4</td>\n",
       "      <td>1552</td>\n",
       "      <td>4635</td>\n",
       "      <td>24525</td>\n",
       "      <td>11031</td>\n",
       "    </tr>\n",
       "    <tr>\n",
       "      <th>2024-10-31 21:00:00</th>\n",
       "      <td>110.00</td>\n",
       "      <td>0</td>\n",
       "      <td>3190</td>\n",
       "      <td>955</td>\n",
       "      <td>53694</td>\n",
       "      <td>4</td>\n",
       "      <td>1313</td>\n",
       "      <td>4741</td>\n",
       "      <td>24010</td>\n",
       "      <td>10758</td>\n",
       "    </tr>\n",
       "    <tr>\n",
       "      <th>2024-10-31 22:00:00</th>\n",
       "      <td>107.00</td>\n",
       "      <td>0</td>\n",
       "      <td>3445</td>\n",
       "      <td>1023</td>\n",
       "      <td>50703</td>\n",
       "      <td>4</td>\n",
       "      <td>1396</td>\n",
       "      <td>4411</td>\n",
       "      <td>22337</td>\n",
       "      <td>10524</td>\n",
       "    </tr>\n",
       "    <tr>\n",
       "      <th>2024-10-31 23:00:00</th>\n",
       "      <td>107.40</td>\n",
       "      <td>0</td>\n",
       "      <td>3599</td>\n",
       "      <td>1141</td>\n",
       "      <td>48258</td>\n",
       "      <td>4</td>\n",
       "      <td>1345</td>\n",
       "      <td>4343</td>\n",
       "      <td>20718</td>\n",
       "      <td>9902</td>\n",
       "    </tr>\n",
       "    <tr>\n",
       "      <th>2024-11-01 00:00:00</th>\n",
       "      <td>101.72</td>\n",
       "      <td>0</td>\n",
       "      <td>3540</td>\n",
       "      <td>1206</td>\n",
       "      <td>42045</td>\n",
       "      <td>4</td>\n",
       "      <td>1482</td>\n",
       "      <td>4671</td>\n",
       "      <td>17489</td>\n",
       "      <td>9730</td>\n",
       "    </tr>\n",
       "  </tbody>\n",
       "</table>\n",
       "</div>"
      ],
      "text/plain": [
       "                      price  solar  wind_onshore  wind_offshore  total_load  \\\n",
       "2024-10-31 20:00:00  131.10      0          2943            934       58152   \n",
       "2024-10-31 21:00:00  110.00      0          3190            955       53694   \n",
       "2024-10-31 22:00:00  107.00      0          3445           1023       50703   \n",
       "2024-10-31 23:00:00  107.40      0          3599           1141       48258   \n",
       "2024-11-01 00:00:00  101.72      0          3540           1206       42045   \n",
       "\n",
       "                     actual_solar  actual_wind_onshore  actual_wind_offshore  \\\n",
       "2024-10-31 20:00:00             4                 1552                  4635   \n",
       "2024-10-31 21:00:00             4                 1313                  4741   \n",
       "2024-10-31 22:00:00             4                 1396                  4411   \n",
       "2024-10-31 23:00:00             4                 1345                  4343   \n",
       "2024-11-01 00:00:00             4                 1482                  4671   \n",
       "\n",
       "                     actual_fossil_gas  actual_fossil_hard_coal  \n",
       "2024-10-31 20:00:00              24525                    11031  \n",
       "2024-10-31 21:00:00              24010                    10758  \n",
       "2024-10-31 22:00:00              22337                    10524  \n",
       "2024-10-31 23:00:00              20718                     9902  \n",
       "2024-11-01 00:00:00              17489                     9730  "
      ]
     },
     "execution_count": 99,
     "metadata": {},
     "output_type": "execute_result"
    }
   ],
   "source": [
    "df.tail(5)"
   ]
  },
  {
   "cell_type": "code",
   "execution_count": 98,
   "id": "fbb41d76-9fca-4fca-8392-a7f15f8b0908",
   "metadata": {},
   "outputs": [
    {
     "data": {
      "text/plain": [
       "(24840, 10)"
      ]
     },
     "execution_count": 98,
     "metadata": {},
     "output_type": "execute_result"
    }
   ],
   "source": [
    "df.shape"
   ]
  },
  {
   "cell_type": "code",
   "execution_count": 365,
   "id": "221ba833-89e9-46b1-8fa0-fa53dd43788c",
   "metadata": {},
   "outputs": [],
   "source": [
    "data_cleaned.to_pickle('output/df_22_23_cleaned.pkl')"
   ]
  }
 ],
 "metadata": {
  "kernelspec": {
   "display_name": "Python 3 (ipykernel)",
   "language": "python",
   "name": "python3"
  },
  "language_info": {
   "codemirror_mode": {
    "name": "ipython",
    "version": 3
   },
   "file_extension": ".py",
   "mimetype": "text/x-python",
   "name": "python",
   "nbconvert_exporter": "python",
   "pygments_lexer": "ipython3",
   "version": "3.10.14"
  }
 },
 "nbformat": 4,
 "nbformat_minor": 5
}
