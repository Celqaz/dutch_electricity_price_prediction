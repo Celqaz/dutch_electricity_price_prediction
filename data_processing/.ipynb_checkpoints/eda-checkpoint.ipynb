{
 "cells": [
  {
   "cell_type": "code",
   "execution_count": 15,
   "id": "d66491c1-56e9-4216-8370-fe6d3321c121",
   "metadata": {},
   "outputs": [],
   "source": [
    "import pandas as pd\n",
    "import numpy as np\n",
    "from scipy.stats import skew, kurtosis\n",
    "import seaborn as sns"
   ]
  },
  {
   "cell_type": "code",
   "execution_count": 20,
   "id": "add7dccf-759d-4a58-9d12-4ecf7ae76357",
   "metadata": {},
   "outputs": [],
   "source": [
    "sns.set_theme()"
   ]
  },
  {
   "cell_type": "markdown",
   "id": "c4e5fc15-3cc6-4c0c-a246-89d58d4a5773",
   "metadata": {},
   "source": [
    "## Electricity"
   ]
  },
  {
   "cell_type": "code",
   "execution_count": 2,
   "id": "5c54b0e7-099b-4d1d-a103-b3976b6f1abd",
   "metadata": {},
   "outputs": [],
   "source": [
    "e_df = pd.read_pickle('output/day_ahead_price_electricity.pkl')"
   ]
  },
  {
   "cell_type": "code",
   "execution_count": 3,
   "id": "052d0d32-e3ab-477a-a3eb-ab9864c87466",
   "metadata": {},
   "outputs": [
    {
     "name": "stdout",
     "output_type": "stream",
     "text": [
      "<class 'pandas.core.frame.DataFrame'>\n",
      "DatetimeIndex: 17520 entries, 2022-01-01 01:00:00 to 2024-01-01 00:00:00\n",
      "Data columns (total 1 columns):\n",
      " #   Column  Non-Null Count  Dtype  \n",
      "---  ------  --------------  -----  \n",
      " 0   price   17520 non-null  float64\n",
      "dtypes: float64(1)\n",
      "memory usage: 273.8 KB\n"
     ]
    }
   ],
   "source": [
    "e_df.info()"
   ]
  },
  {
   "cell_type": "code",
   "execution_count": 4,
   "id": "fa6559f6-eea0-48a4-84f7-e60fbcc0f42e",
   "metadata": {},
   "outputs": [
    {
     "data": {
      "text/html": [
       "<div>\n",
       "<style scoped>\n",
       "    .dataframe tbody tr th:only-of-type {\n",
       "        vertical-align: middle;\n",
       "    }\n",
       "\n",
       "    .dataframe tbody tr th {\n",
       "        vertical-align: top;\n",
       "    }\n",
       "\n",
       "    .dataframe thead th {\n",
       "        text-align: right;\n",
       "    }\n",
       "</style>\n",
       "<table border=\"1\" class=\"dataframe\">\n",
       "  <thead>\n",
       "    <tr style=\"text-align: right;\">\n",
       "      <th></th>\n",
       "      <th>price</th>\n",
       "    </tr>\n",
       "    <tr>\n",
       "      <th>Time</th>\n",
       "      <th></th>\n",
       "    </tr>\n",
       "  </thead>\n",
       "  <tbody>\n",
       "    <tr>\n",
       "      <th>2022-01-01 01:00:00</th>\n",
       "      <td>124.70</td>\n",
       "    </tr>\n",
       "    <tr>\n",
       "      <th>2022-01-01 02:00:00</th>\n",
       "      <td>124.70</td>\n",
       "    </tr>\n",
       "    <tr>\n",
       "      <th>2022-01-01 03:00:00</th>\n",
       "      <td>134.00</td>\n",
       "    </tr>\n",
       "    <tr>\n",
       "      <th>2022-01-01 04:00:00</th>\n",
       "      <td>58.80</td>\n",
       "    </tr>\n",
       "    <tr>\n",
       "      <th>2022-01-01 05:00:00</th>\n",
       "      <td>37.67</td>\n",
       "    </tr>\n",
       "    <tr>\n",
       "      <th>2022-01-01 06:00:00</th>\n",
       "      <td>39.70</td>\n",
       "    </tr>\n",
       "    <tr>\n",
       "      <th>2022-01-01 07:00:00</th>\n",
       "      <td>40.59</td>\n",
       "    </tr>\n",
       "    <tr>\n",
       "      <th>2022-01-01 08:00:00</th>\n",
       "      <td>43.26</td>\n",
       "    </tr>\n",
       "    <tr>\n",
       "      <th>2022-01-01 09:00:00</th>\n",
       "      <td>49.66</td>\n",
       "    </tr>\n",
       "    <tr>\n",
       "      <th>2022-01-01 10:00:00</th>\n",
       "      <td>70.05</td>\n",
       "    </tr>\n",
       "    <tr>\n",
       "      <th>2022-01-01 11:00:00</th>\n",
       "      <td>76.79</td>\n",
       "    </tr>\n",
       "    <tr>\n",
       "      <th>2022-01-01 12:00:00</th>\n",
       "      <td>84.10</td>\n",
       "    </tr>\n",
       "    <tr>\n",
       "      <th>2022-01-01 13:00:00</th>\n",
       "      <td>94.74</td>\n",
       "    </tr>\n",
       "    <tr>\n",
       "      <th>2022-01-01 14:00:00</th>\n",
       "      <td>96.80</td>\n",
       "    </tr>\n",
       "    <tr>\n",
       "      <th>2022-01-01 15:00:00</th>\n",
       "      <td>97.17</td>\n",
       "    </tr>\n",
       "    <tr>\n",
       "      <th>2022-01-01 16:00:00</th>\n",
       "      <td>101.27</td>\n",
       "    </tr>\n",
       "    <tr>\n",
       "      <th>2022-01-01 17:00:00</th>\n",
       "      <td>126.60</td>\n",
       "    </tr>\n",
       "    <tr>\n",
       "      <th>2022-01-01 18:00:00</th>\n",
       "      <td>149.97</td>\n",
       "    </tr>\n",
       "    <tr>\n",
       "      <th>2022-01-01 19:00:00</th>\n",
       "      <td>146.33</td>\n",
       "    </tr>\n",
       "    <tr>\n",
       "      <th>2022-01-01 20:00:00</th>\n",
       "      <td>140.28</td>\n",
       "    </tr>\n",
       "    <tr>\n",
       "      <th>2022-01-01 21:00:00</th>\n",
       "      <td>121.88</td>\n",
       "    </tr>\n",
       "    <tr>\n",
       "      <th>2022-01-01 22:00:00</th>\n",
       "      <td>102.61</td>\n",
       "    </tr>\n",
       "    <tr>\n",
       "      <th>2022-01-01 23:00:00</th>\n",
       "      <td>97.46</td>\n",
       "    </tr>\n",
       "    <tr>\n",
       "      <th>2022-01-02 00:00:00</th>\n",
       "      <td>85.16</td>\n",
       "    </tr>\n",
       "  </tbody>\n",
       "</table>\n",
       "</div>"
      ],
      "text/plain": [
       "                      price\n",
       "Time                       \n",
       "2022-01-01 01:00:00  124.70\n",
       "2022-01-01 02:00:00  124.70\n",
       "2022-01-01 03:00:00  134.00\n",
       "2022-01-01 04:00:00   58.80\n",
       "2022-01-01 05:00:00   37.67\n",
       "2022-01-01 06:00:00   39.70\n",
       "2022-01-01 07:00:00   40.59\n",
       "2022-01-01 08:00:00   43.26\n",
       "2022-01-01 09:00:00   49.66\n",
       "2022-01-01 10:00:00   70.05\n",
       "2022-01-01 11:00:00   76.79\n",
       "2022-01-01 12:00:00   84.10\n",
       "2022-01-01 13:00:00   94.74\n",
       "2022-01-01 14:00:00   96.80\n",
       "2022-01-01 15:00:00   97.17\n",
       "2022-01-01 16:00:00  101.27\n",
       "2022-01-01 17:00:00  126.60\n",
       "2022-01-01 18:00:00  149.97\n",
       "2022-01-01 19:00:00  146.33\n",
       "2022-01-01 20:00:00  140.28\n",
       "2022-01-01 21:00:00  121.88\n",
       "2022-01-01 22:00:00  102.61\n",
       "2022-01-01 23:00:00   97.46\n",
       "2022-01-02 00:00:00   85.16"
      ]
     },
     "execution_count": 4,
     "metadata": {},
     "output_type": "execute_result"
    }
   ],
   "source": [
    "e_df.head(24)"
   ]
  },
  {
   "cell_type": "code",
   "execution_count": 5,
   "id": "85b77a60-91ae-43f0-b3f5-4f78f1125ec3",
   "metadata": {},
   "outputs": [
    {
     "name": "stdout",
     "output_type": "stream",
     "text": [
      "1-th autocorrelation for the first hour of the day: 0.9090704132582229\n"
     ]
    }
   ],
   "source": [
    "first_hour_of_day = e_df[e_df.index.hour == 1]['price']\n",
    "\n",
    "# Step 2: Calculate the k-th autocorrelation (e.g., for k=5)\n",
    "k = 1\n",
    "autocorr_first_hour = first_hour_of_day.autocorr(lag=k)\n",
    "\n",
    "print(f'{k}-th autocorrelation for the first hour of the day: {autocorr_first_hour}')"
   ]
  },
  {
   "cell_type": "code",
   "execution_count": 6,
   "id": "05864c8d-447f-451f-a614-b0478b58cfdb",
   "metadata": {},
   "outputs": [],
   "source": [
    "# Create a new column for the hour of the day\n",
    "e_df['hour'] = e_df.index.hour"
   ]
  },
  {
   "cell_type": "code",
   "execution_count": 7,
   "id": "f9d9e192-dc0c-4f56-ae17-908b32e7d3bf",
   "metadata": {},
   "outputs": [],
   "source": [
    "\n",
    "# Define a custom aggregation function\n",
    "def aggregate_stats(group):\n",
    "    return {\n",
    "        'mean': round(group.mean(),2),\n",
    "        'std': round(group.std(),2),\n",
    "        'skewness': round(skew(group),2),\n",
    "        'kurtosis': round(kurtosis(group),2)\n",
    "    }\n"
   ]
  },
  {
   "cell_type": "code",
   "execution_count": 8,
   "id": "e52e75ae-61e1-4568-8f83-685940a612c9",
   "metadata": {
    "scrolled": true
   },
   "outputs": [
    {
     "name": "stdout",
     "output_type": "stream",
     "text": [
      "                    0\n",
      "hour                 \n",
      "0    mean      169.09\n",
      "     std       111.06\n",
      "     skewness    1.52\n",
      "     kurtosis    2.41\n",
      "1    mean      163.25\n",
      "...               ...\n",
      "22   kurtosis    2.77\n",
      "23   mean      189.48\n",
      "     std       122.03\n",
      "     skewness    1.56\n",
      "     kurtosis    2.52\n",
      "\n",
      "[96 rows x 1 columns]\n"
     ]
    }
   ],
   "source": [
    "\n",
    "# Group by hour and apply the aggregation function\n",
    "hourly_stats = e_df.groupby('hour')['price'].apply(aggregate_stats)\n",
    "\n",
    "# Convert the result into a DataFrame\n",
    "hourly_stats_df = pd.DataFrame(hourly_stats.tolist(), index=hourly_stats.index)\n",
    "\n",
    "print(hourly_stats_df)"
   ]
  },
  {
   "cell_type": "code",
   "execution_count": 9,
   "id": "0d829160-06c1-4d36-aa75-a4175cc648eb",
   "metadata": {},
   "outputs": [
    {
     "data": {
      "text/html": [
       "<div>\n",
       "<style scoped>\n",
       "    .dataframe tbody tr th:only-of-type {\n",
       "        vertical-align: middle;\n",
       "    }\n",
       "\n",
       "    .dataframe tbody tr th {\n",
       "        vertical-align: top;\n",
       "    }\n",
       "\n",
       "    .dataframe thead th {\n",
       "        text-align: right;\n",
       "    }\n",
       "</style>\n",
       "<table border=\"1\" class=\"dataframe\">\n",
       "  <thead>\n",
       "    <tr style=\"text-align: right;\">\n",
       "      <th></th>\n",
       "      <th></th>\n",
       "      <th>0</th>\n",
       "    </tr>\n",
       "    <tr>\n",
       "      <th>hour</th>\n",
       "      <th></th>\n",
       "      <th></th>\n",
       "    </tr>\n",
       "  </thead>\n",
       "  <tbody>\n",
       "    <tr>\n",
       "      <th rowspan=\"4\" valign=\"top\">0</th>\n",
       "      <th>mean</th>\n",
       "      <td>169.09</td>\n",
       "    </tr>\n",
       "    <tr>\n",
       "      <th>std</th>\n",
       "      <td>111.06</td>\n",
       "    </tr>\n",
       "    <tr>\n",
       "      <th>skewness</th>\n",
       "      <td>1.52</td>\n",
       "    </tr>\n",
       "    <tr>\n",
       "      <th>kurtosis</th>\n",
       "      <td>2.41</td>\n",
       "    </tr>\n",
       "    <tr>\n",
       "      <th>1</th>\n",
       "      <th>mean</th>\n",
       "      <td>163.25</td>\n",
       "    </tr>\n",
       "  </tbody>\n",
       "</table>\n",
       "</div>"
      ],
      "text/plain": [
       "                    0\n",
       "hour                 \n",
       "0    mean      169.09\n",
       "     std       111.06\n",
       "     skewness    1.52\n",
       "     kurtosis    2.41\n",
       "1    mean      163.25"
      ]
     },
     "execution_count": 9,
     "metadata": {},
     "output_type": "execute_result"
    }
   ],
   "source": [
    "hourly_stats_df.head()"
   ]
  },
  {
   "cell_type": "code",
   "execution_count": 10,
   "id": "bde7591e-dc5e-47f6-b469-9c335e9dade9",
   "metadata": {},
   "outputs": [],
   "source": [
    "# Convert the result to a wide format\n",
    "hourly_stats_wide = hourly_stats_df.unstack()"
   ]
  },
  {
   "cell_type": "code",
   "execution_count": 24,
   "id": "ca1745e1-2c0b-492d-8ef2-8516b87880f4",
   "metadata": {},
   "outputs": [
    {
     "data": {
      "text/plain": [
       "Text(0.5, 1.0, 'Average Day-ahead Hourly Electricity Price in 2022 and 2023')"
      ]
     },
     "execution_count": 24,
     "metadata": {},
     "output_type": "execute_result"
    },
    {
     "data": {
      "image/png": "[encoded data removed]",
      "text/plain": [
       "<Figure size 640x480 with 1 Axes>"
      ]
     },
     "metadata": {},
     "output_type": "display_data"
    }
   ],
   "source": [
    "sns.lineplot(hourly_stats_wide[0]['mean']).set_title('Average Day-ahead Hourly Electricity Price in 2022 and 2023')\n"
   ]
  },
  {
   "cell_type": "code",
   "execution_count": 26,
   "id": "64bd3ade-2692-44f5-8e9a-8a1832ae9db3",
   "metadata": {},
   "outputs": [
    {
     "data": {
      "text/plain": [
       "Text(0.5, 1.0, 'Average Standard Deviation of Day-ahead Hourly Electricity Price in 2022 and 2023')"
      ]
     },
     "execution_count": 26,
     "metadata": {},
     "output_type": "execute_result"
    },
    {
     "data": {
      "image/png": "[encoded data removed]",
      "text/plain": [
       "<Figure size 640x480 with 1 Axes>"
      ]
     },
     "metadata": {},
     "output_type": "display_data"
    }
   ],
   "source": [
    "sns.lineplot(hourly_stats_wide[0]['std']).set_title('Average Standard Deviation of Day-ahead Hourly Electricity Price in 2022 and 2023')"
   ]
  },
  {
   "cell_type": "code",
   "execution_count": 11,
   "id": "8e988eac-ec52-4097-97e7-20f76732f8b9",
   "metadata": {},
   "outputs": [],
   "source": [
    "price = hourly_stats_wide\n",
    "price\n",
    "price.to_csv('output/price.csv')"
   ]
  },
  {
   "cell_type": "markdown",
   "id": "e8fe757b-8487-4d17-b002-9479bba9d54d",
   "metadata": {},
   "source": [
    "## Generation "
   ]
  },
  {
   "cell_type": "code",
   "execution_count": 12,
   "id": "9ee8ab36-3ae2-466a-a5ac-490b24ca31a3",
   "metadata": {},
   "outputs": [],
   "source": [
    "e_g = pd.read_pickle('output/df_fore_solar_wind_22_23.pkl')"
   ]
  },
  {
   "cell_type": "code",
   "execution_count": 13,
   "id": "fe20a36e-cc9d-4659-8ba8-71e5563a7764",
   "metadata": {},
   "outputs": [
    {
     "name": "stdout",
     "output_type": "stream",
     "text": [
      "<class 'pandas.core.frame.DataFrame'>\n",
      "DatetimeIndex: 17520 entries, 2022-01-01 01:00:00 to 2024-01-01 00:00:00\n",
      "Data columns (total 3 columns):\n",
      " #   Column         Non-Null Count  Dtype\n",
      "---  ------         --------------  -----\n",
      " 0   solar          17520 non-null  int64\n",
      " 1   wind_offshore  17520 non-null  int64\n",
      " 2   wind_onshore   17520 non-null  int64\n",
      "dtypes: int64(3)\n",
      "memory usage: 547.5 KB\n"
     ]
    }
   ],
   "source": [
    "e_g.info()"
   ]
  },
  {
   "cell_type": "code",
   "execution_count": 14,
   "id": "97c3b4a8-9464-4664-85f1-142b31b8750e",
   "metadata": {},
   "outputs": [],
   "source": [
    "# Create a new column for the hour of the day\n",
    "e_g['hour'] = e_g.index.hour"
   ]
  },
  {
   "cell_type": "code",
   "execution_count": 15,
   "id": "f3523f7d-bab7-4032-b9de-628dadd136aa",
   "metadata": {},
   "outputs": [],
   "source": [
    "solar_g = e_g[['solar', 'hour']]\n",
    "wind_off = e_g[['wind_offshore', 'hour']]\n",
    "wind_on = e_g[['wind_onshore', 'hour']]"
   ]
  },
  {
   "cell_type": "code",
   "execution_count": 16,
   "id": "d66ad688-7c82-438f-90d1-413cf783e062",
   "metadata": {},
   "outputs": [
    {
     "data": {
      "text/html": [
       "<div>\n",
       "<style scoped>\n",
       "    .dataframe tbody tr th:only-of-type {\n",
       "        vertical-align: middle;\n",
       "    }\n",
       "\n",
       "    .dataframe tbody tr th {\n",
       "        vertical-align: top;\n",
       "    }\n",
       "\n",
       "    .dataframe thead th {\n",
       "        text-align: right;\n",
       "    }\n",
       "</style>\n",
       "<table border=\"1\" class=\"dataframe\">\n",
       "  <thead>\n",
       "    <tr style=\"text-align: right;\">\n",
       "      <th></th>\n",
       "      <th>solar</th>\n",
       "      <th>hour</th>\n",
       "    </tr>\n",
       "    <tr>\n",
       "      <th>Date</th>\n",
       "      <th></th>\n",
       "      <th></th>\n",
       "    </tr>\n",
       "  </thead>\n",
       "  <tbody>\n",
       "    <tr>\n",
       "      <th>2022-01-01 01:00:00</th>\n",
       "      <td>0</td>\n",
       "      <td>1</td>\n",
       "    </tr>\n",
       "    <tr>\n",
       "      <th>2022-01-01 02:00:00</th>\n",
       "      <td>0</td>\n",
       "      <td>2</td>\n",
       "    </tr>\n",
       "    <tr>\n",
       "      <th>2022-01-01 03:00:00</th>\n",
       "      <td>0</td>\n",
       "      <td>3</td>\n",
       "    </tr>\n",
       "    <tr>\n",
       "      <th>2022-01-01 04:00:00</th>\n",
       "      <td>0</td>\n",
       "      <td>4</td>\n",
       "    </tr>\n",
       "    <tr>\n",
       "      <th>2022-01-01 05:00:00</th>\n",
       "      <td>0</td>\n",
       "      <td>5</td>\n",
       "    </tr>\n",
       "  </tbody>\n",
       "</table>\n",
       "</div>"
      ],
      "text/plain": [
       "                     solar  hour\n",
       "Date                            \n",
       "2022-01-01 01:00:00      0     1\n",
       "2022-01-01 02:00:00      0     2\n",
       "2022-01-01 03:00:00      0     3\n",
       "2022-01-01 04:00:00      0     4\n",
       "2022-01-01 05:00:00      0     5"
      ]
     },
     "execution_count": 16,
     "metadata": {},
     "output_type": "execute_result"
    }
   ],
   "source": [
    "solar_g.head()"
   ]
  },
  {
   "cell_type": "code",
   "execution_count": 17,
   "id": "695ecb56-0327-4b31-a84e-69309638a52a",
   "metadata": {},
   "outputs": [],
   "source": [
    "def hourly_report(df, col):\n",
    "    # Group by hour and apply the aggregation function\n",
    "    hourly_stats = df.groupby('hour')[col].apply(aggregate_stats)\n",
    "    \n",
    "    # Convert the result into a DataFrame\n",
    "    hourly_stats_df = pd.DataFrame(hourly_stats.tolist(), index=hourly_stats.index)\n",
    "    \n",
    "    return hourly_stats_df.unstack()"
   ]
  },
  {
   "cell_type": "code",
   "execution_count": 18,
   "id": "a6e5a84c-f2d4-4bdc-899f-35303fc0afe2",
   "metadata": {},
   "outputs": [],
   "source": [
    "solar = hourly_report(solar_g, 'solar')\n",
    "solar\n",
    "solar.to_csv('output/solar.csv')\n"
   ]
  },
  {
   "cell_type": "code",
   "execution_count": 19,
   "id": "92d096ce-12c0-43ff-8044-3e64906704db",
   "metadata": {},
   "outputs": [],
   "source": [
    "off = hourly_report(wind_off, 'wind_offshore')\n",
    "off\n",
    "off.to_csv('output/off.csv')"
   ]
  },
  {
   "cell_type": "code",
   "execution_count": 20,
   "id": "66fa5832-da04-44eb-989f-28647b755d1a",
   "metadata": {},
   "outputs": [],
   "source": [
    "on = hourly_report(wind_on, 'wind_onshore')\n",
    "on\n",
    "on.to_csv('output/on.csv')"
   ]
  },
  {
   "cell_type": "markdown",
   "id": "b87d04f3-be24-4c43-a651-5d003fc50d5e",
   "metadata": {},
   "source": [
    "## Total Load"
   ]
  },
  {
   "cell_type": "code",
   "execution_count": 21,
   "id": "daab7c86-7bd7-4e26-bff4-4e74a470d73d",
   "metadata": {},
   "outputs": [],
   "source": [
    "d_load = pd.read_pickle('output/df_fore_total_load_22_23.pkl')"
   ]
  },
  {
   "cell_type": "code",
   "execution_count": 22,
   "id": "10aa43c4-7be9-49da-9f77-b413729bc239",
   "metadata": {},
   "outputs": [],
   "source": [
    "d_load['hour'] = d_load.index.hour"
   ]
  },
  {
   "cell_type": "code",
   "execution_count": 23,
   "id": "6f6de65a-3db1-41ca-8740-c543b30382db",
   "metadata": {},
   "outputs": [
    {
     "data": {
      "text/html": [
       "<div>\n",
       "<style scoped>\n",
       "    .dataframe tbody tr th:only-of-type {\n",
       "        vertical-align: middle;\n",
       "    }\n",
       "\n",
       "    .dataframe tbody tr th {\n",
       "        vertical-align: top;\n",
       "    }\n",
       "\n",
       "    .dataframe thead th {\n",
       "        text-align: right;\n",
       "    }\n",
       "</style>\n",
       "<table border=\"1\" class=\"dataframe\">\n",
       "  <thead>\n",
       "    <tr style=\"text-align: right;\">\n",
       "      <th></th>\n",
       "      <th>quantity</th>\n",
       "      <th>hour</th>\n",
       "    </tr>\n",
       "    <tr>\n",
       "      <th>Date</th>\n",
       "      <th></th>\n",
       "      <th></th>\n",
       "    </tr>\n",
       "  </thead>\n",
       "  <tbody>\n",
       "    <tr>\n",
       "      <th>2022-01-01 01:00:00</th>\n",
       "      <td>46129</td>\n",
       "      <td>1</td>\n",
       "    </tr>\n",
       "    <tr>\n",
       "      <th>2022-01-01 02:00:00</th>\n",
       "      <td>44340</td>\n",
       "      <td>2</td>\n",
       "    </tr>\n",
       "    <tr>\n",
       "      <th>2022-01-01 03:00:00</th>\n",
       "      <td>43222</td>\n",
       "      <td>3</td>\n",
       "    </tr>\n",
       "    <tr>\n",
       "      <th>2022-01-01 04:00:00</th>\n",
       "      <td>42705</td>\n",
       "      <td>4</td>\n",
       "    </tr>\n",
       "    <tr>\n",
       "      <th>2022-01-01 05:00:00</th>\n",
       "      <td>42576</td>\n",
       "      <td>5</td>\n",
       "    </tr>\n",
       "  </tbody>\n",
       "</table>\n",
       "</div>"
      ],
      "text/plain": [
       "                     quantity  hour\n",
       "Date                               \n",
       "2022-01-01 01:00:00     46129     1\n",
       "2022-01-01 02:00:00     44340     2\n",
       "2022-01-01 03:00:00     43222     3\n",
       "2022-01-01 04:00:00     42705     4\n",
       "2022-01-01 05:00:00     42576     5"
      ]
     },
     "execution_count": 23,
     "metadata": {},
     "output_type": "execute_result"
    }
   ],
   "source": [
    "d_load.head()"
   ]
  },
  {
   "cell_type": "code",
   "execution_count": 24,
   "id": "5b433612-e847-4958-8aa7-024ede566b66",
   "metadata": {},
   "outputs": [],
   "source": [
    "\n",
    "fore_load = hourly_report(d_load, 'quantity')\n",
    "fore_load\n",
    "fore_load.to_csv('output/load.csv')"
   ]
  },
  {
   "cell_type": "code",
   "execution_count": null,
   "id": "7b7a7b25-0acd-442d-ba19-1bde273d6c21",
   "metadata": {},
   "outputs": [],
   "source": []
  },
  {
   "cell_type": "code",
   "execution_count": null,
   "id": "d1fd69b6-a894-4bd8-84b5-7df1a4661e87",
   "metadata": {},
   "outputs": [],
   "source": []
  },
  {
   "cell_type": "code",
   "execution_count": null,
   "id": "afa4192a-fb88-49fb-b6a3-96f234062e32",
   "metadata": {},
   "outputs": [],
   "source": []
  }
 ],
 "metadata": {
  "kernelspec": {
   "display_name": "Python 3 (ipykernel)",
   "language": "python",
   "name": "python3"
  },
  "language_info": {
   "codemirror_mode": {
    "name": "ipython",
    "version": 3
   },
   "file_extension": ".py",
   "mimetype": "text/x-python",
   "name": "python",
   "nbconvert_exporter": "python",
   "pygments_lexer": "ipython3",
   "version": "3.10.14"
  }
 },
 "nbformat": 4,
 "nbformat_minor": 5
}
