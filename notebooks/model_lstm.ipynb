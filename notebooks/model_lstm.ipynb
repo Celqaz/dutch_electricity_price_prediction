{
 "cells": [
  {
   "cell_type": "markdown",
   "id": "d9926178-ff1a-4017-b8c4-36913ebdf45a",
   "metadata": {},
   "source": [
    "# Model LTSM"
   ]
  },
  {
   "cell_type": "code",
   "execution_count": 5,
   "id": "6d324204-e475-40b7-8a91-baf2cf9bce5c",
   "metadata": {},
   "outputs": [],
   "source": [
    "%run utils.ipynb"
   ]
  },
  {
   "cell_type": "markdown",
   "id": "59d5357a-534d-4c9c-8e86-e6a8818b0e0b",
   "metadata": {},
   "source": [
    "## Data Loading"
   ]
  },
  {
   "cell_type": "code",
   "execution_count": 6,
   "id": "d12ff1f3-6f38-4974-bca0-179e21b2ce4c",
   "metadata": {},
   "outputs": [
    {
     "name": "stdout",
     "output_type": "stream",
     "text": [
      "<class 'pandas.core.frame.DataFrame'>\n",
      "DatetimeIndex: 24840 entries, 2022-01-01 01:00:00 to 2024-11-01 00:00:00\n",
      "Data columns (total 10 columns):\n",
      " #   Column                   Non-Null Count  Dtype  \n",
      "---  ------                   --------------  -----  \n",
      " 0   price                    24840 non-null  float64\n",
      " 1   solar                    24840 non-null  int64  \n",
      " 2   wind_onshore             24840 non-null  int64  \n",
      " 3   wind_offshore            24840 non-null  int64  \n",
      " 4   total_load               24840 non-null  int64  \n",
      " 5   actual_solar             24840 non-null  int64  \n",
      " 6   actual_wind_onshore      24840 non-null  int64  \n",
      " 7   actual_wind_offshore     24840 non-null  int64  \n",
      " 8   actual_fossil_gas        24840 non-null  int64  \n",
      " 9   actual_fossil_hard_coal  24840 non-null  int64  \n",
      "dtypes: float64(1), int64(9)\n",
      "memory usage: 2.1 MB\n",
      "None\n"
     ]
    }
   ],
   "source": [
    "df_ori = load_data('df_actual_22_24_cleaned')"
   ]
  },
  {
   "cell_type": "code",
   "execution_count": null,
   "id": "e1f772b4-4d0c-45ac-a682-066bef9e5efa",
   "metadata": {},
   "outputs": [],
   "source": []
  },
  {
   "cell_type": "code",
   "execution_count": null,
   "id": "477eb109-308e-44a2-9f4d-c52ffa4fd6a1",
   "metadata": {},
   "outputs": [],
   "source": []
  },
  {
   "cell_type": "code",
   "execution_count": null,
   "id": "a8379b11-f86b-44cb-8a39-4791582d1857",
   "metadata": {},
   "outputs": [],
   "source": []
  },
  {
   "cell_type": "code",
   "execution_count": null,
   "id": "72849d8d-229b-4bc1-9897-942494b71bf9",
   "metadata": {},
   "outputs": [],
   "source": []
  },
  {
   "cell_type": "code",
   "execution_count": null,
   "id": "3639ecf0-2d45-4ace-b4db-fed5a2c15654",
   "metadata": {},
   "outputs": [],
   "source": []
  },
  {
   "cell_type": "code",
   "execution_count": null,
   "id": "2df99eac-47e3-4632-a53c-ee39fcdee836",
   "metadata": {},
   "outputs": [],
   "source": []
  },
  {
   "cell_type": "code",
   "execution_count": null,
   "id": "8730fe2b-c877-4009-86ce-eb038862ff3e",
   "metadata": {},
   "outputs": [],
   "source": []
  },
  {
   "cell_type": "code",
   "execution_count": null,
   "id": "3f7708a0-31bf-443f-9df7-1f587b26f93f",
   "metadata": {},
   "outputs": [],
   "source": []
  },
  {
   "cell_type": "markdown",
   "id": "bb33c430-9b38-423b-b3d4-35e9efdde2c6",
   "metadata": {},
   "source": [
    "## Data Processing"
   ]
  },
  {
   "cell_type": "markdown",
   "id": "e2b85542-977c-4758-8573-4ec4763c9c31",
   "metadata": {},
   "source": [
    "## LSTM"
   ]
  },
  {
   "cell_type": "markdown",
   "id": "53bda266-8a04-4b9d-8f09-992de0c9bef0",
   "metadata": {},
   "source": [
    "## Evaluation"
   ]
  }
 ],
 "metadata": {
  "kernelspec": {
   "display_name": "Python 3 (ipykernel)",
   "language": "python",
   "name": "python3"
  },
  "language_info": {
   "codemirror_mode": {
    "name": "ipython",
    "version": 3
   },
   "file_extension": ".py",
   "mimetype": "text/x-python",
   "name": "python",
   "nbconvert_exporter": "python",
   "pygments_lexer": "ipython3",
   "version": "3.10.14"
  }
 },
 "nbformat": 4,
 "nbformat_minor": 5
}
