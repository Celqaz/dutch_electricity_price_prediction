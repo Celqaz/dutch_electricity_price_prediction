{
 "cells": [
  {
   "cell_type": "markdown",
   "id": "271255cb-99be-4f02-871a-442ccb9c885a",
   "metadata": {},
   "source": [
    "## Data Cleaning 2024"
   ]
  },
  {
   "cell_type": "markdown",
   "id": "6da9408c-e58a-43bb-837e-0cf8002e4b40",
   "metadata": {},
   "source": [
    "### Day-Ahead Price"
   ]
  },
  {
   "cell_type": "code",
   "execution_count": 1,
   "id": "7cd42d44-4ca7-463d-90ce-0d4e4ddc550c",
   "metadata": {},
   "outputs": [],
   "source": [
    "import pandas as pd\n",
    "import numpy as np\n",
    "from datetime import datetime, timedelta\n",
    "import csv"
   ]
  },
  {
   "cell_type": "code",
   "execution_count": 2,
   "id": "c419c66a-f06b-4ba2-9a81-afae0ddd9124",
   "metadata": {},
   "outputs": [],
   "source": [
    "df_p_24_1 = pd.read_xml('raw/day_ahead_price/price_2024_1.xml', xpath=\".//ns:Point\", namespaces={'ns': 'urn:iec62325.351:tc57wg16:451-3:publicationdocument:7:3'})\n",
    "df_p_24_2 = pd.read_xml('raw/day_ahead_price/price_2024_2.xml', xpath=\".//ns:Point\", namespaces={'ns': 'urn:iec62325.351:tc57wg16:451-3:publicationdocument:7:3'})\n",
    "df_p_24_3 = pd.read_xml('raw/day_ahead_price/price_2024_3.xml', xpath=\".//ns:Point\", namespaces={'ns': 'urn:iec62325.351:tc57wg16:451-3:publicationdocument:7:3'})\n",
    "df_p_24_4 = pd.read_xml('raw/day_ahead_price/price_2024_4.xml', xpath=\".//ns:Point\", namespaces={'ns': 'urn:iec62325.351:tc57wg16:451-3:publicationdocument:7:3'})"
   ]
  },
  {
   "cell_type": "code",
   "execution_count": 3,
   "id": "0fb43f01-ccf1-4750-be5d-9cc5149b3786",
   "metadata": {},
   "outputs": [],
   "source": [
    "def p_c(df):\n",
    "    \n",
    "    # Identify cycles by detecting where 'position' restarts\n",
    "    df['group'] = (df['position'] == 1).cumsum() - 1\n",
    "    \n",
    "    # Create a DataFrame with the complete range of positions from 1 to 24, repeated for each cycle (group)\n",
    "    num_groups = df['group'].max() + 1\n",
    "    print('num of groups:', num_groups)\n",
    "    full_positions = pd.DataFrame({\n",
    "        'position': list(range(1, 25)) * num_groups,\n",
    "        'group': np.repeat(range(num_groups), 24)\n",
    "    })\n",
    "    \n",
    "    # Merge the original DataFrame with the full positions to ensure all positions are included in each group\n",
    "    df_fixed = full_positions.merge(df, on=['position', 'group'], how='left')\n",
    "    \n",
    "    # Forward fill missing 'price' values within each group\n",
    "    df_fixed['price'] = df_fixed.groupby('group')['price.amount'].ffill()\n",
    "    \n",
    "    # Drop the 'group' column if it's not needed anymore\n",
    "    df_fixed = df_fixed.drop(columns=['group'])\n",
    "    return df_fixed"
   ]
  },
  {
   "cell_type": "code",
   "execution_count": 4,
   "id": "78bb1b3c-90d7-4359-ab7e-e326a78efbe1",
   "metadata": {},
   "outputs": [],
   "source": [
    "def read_price_xml(year):\n",
    "    data_xml = pd.DataFrame()\n",
    "    for i in range(1,5):\n",
    "       df = pd.read_xml(f'raw/day_ahead_price/price_{year}_{i}.xml', xpath=\".//ns:Point\", namespaces={'ns': 'urn:iec62325.351:tc57wg16:451-3:publicationdocument:7:3'}) \n",
    "       data_xml = pd.concat([data_xml,df], axis=0, ignore_index=True) \n",
    "    return data_xml"
   ]
  },
  {
   "cell_type": "code",
   "execution_count": 7,
   "id": "8146d81f-1495-4237-8857-dc32fef07d16",
   "metadata": {},
   "outputs": [],
   "source": [
    "def read_price(start_year = 2019, end_year = 2019):\n",
    "    df_xml = read_price_xml(start_year)\n",
    "    df= p_c(df_xml)\n",
    "    print(df.head())\n",
    "    # if start_year == 2019:\n",
    "    #     # df.loc['shift1']= df['price'].shift(-1)\n",
    "    #     x = df['price'].shift(-1)\n",
    "    #     df.loc['2019-04-01 00:00:00':, 'price'] = data.loc['2019-04-01 00:00:00':, 'shift1']\n",
    "    return df"
   ]
  },
  {
   "cell_type": "code",
   "execution_count": 9,
   "id": "ad72bbe6-1c65-4651-ba11-f4a5fe977f9c",
   "metadata": {},
   "outputs": [
    {
     "name": "stdout",
     "output_type": "stream",
     "text": [
      "num of groups: 305\n",
      "   position  price.amount  price\n",
      "0         1          0.10   0.10\n",
      "1         2          0.01   0.01\n",
      "2         3          0.00   0.00\n",
      "3         4         -0.01  -0.01\n",
      "4         5         -0.03  -0.03\n"
     ]
    }
   ],
   "source": [
    "df_24 = read_price(2024, 2024)"
   ]
  },
  {
   "cell_type": "code",
   "execution_count": 11,
   "id": "0843bf42-f641-4264-a681-20e3b6c242b4",
   "metadata": {},
   "outputs": [
    {
     "name": "stdout",
     "output_type": "stream",
     "text": [
      "<class 'pandas.core.frame.DataFrame'>\n",
      "RangeIndex: 7320 entries, 0 to 7319\n",
      "Data columns (total 3 columns):\n",
      " #   Column        Non-Null Count  Dtype  \n",
      "---  ------        --------------  -----  \n",
      " 0   position      7320 non-null   int64  \n",
      " 1   price.amount  7275 non-null   float64\n",
      " 2   price         7320 non-null   float64\n",
      "dtypes: float64(2), int64(1)\n",
      "memory usage: 171.7 KB\n"
     ]
    }
   ],
   "source": [
    "df_24.info()"
   ]
  },
  {
   "cell_type": "code",
   "execution_count": 97,
   "id": "f8ed8a69-930c-410b-a78b-52a02f218e26",
   "metadata": {},
   "outputs": [],
   "source": [
    "df_fin = pd.concat([df_19_fixed,df_20_fixed, df_21_fixed, df_22_fixed, df_23_fixed], axis=0, ignore_index=True) "
   ]
  },
  {
   "cell_type": "code",
   "execution_count": 98,
   "id": "0519049a-3a85-40d1-87b2-ec9c35ae4c3e",
   "metadata": {},
   "outputs": [
    {
     "name": "stdout",
     "output_type": "stream",
     "text": [
      "<class 'pandas.core.frame.DataFrame'>\n",
      "RangeIndex: 43824 entries, 0 to 43823\n",
      "Data columns (total 3 columns):\n",
      " #   Column        Non-Null Count  Dtype  \n",
      "---  ------        --------------  -----  \n",
      " 0   position      43824 non-null  int64  \n",
      " 1   price.amount  43500 non-null  float64\n",
      " 2   price         43824 non-null  float64\n",
      "dtypes: float64(2), int64(1)\n",
      "memory usage: 1.0 MB\n"
     ]
    }
   ],
   "source": [
    "df_fin.info()"
   ]
  },
  {
   "cell_type": "code",
   "execution_count": 12,
   "id": "9fd76faf-4757-4d70-859b-5b576aae195f",
   "metadata": {},
   "outputs": [],
   "source": [
    "# Generate an hourly DatetimeIndex from 2019-01-01 to 2021-12-31\n",
    "date_index = pd.date_range(start=\"2024-01-01 01:00:00\", end=\"2024-11-01 00:00:00\", freq=\"h\")\n",
    "\n",
    "# Set the generated DatetimeIndex as the index for the DataFrame\n",
    "df_24.index = date_index"
   ]
  },
  {
   "cell_type": "code",
   "execution_count": 14,
   "id": "f677367c-fd4e-4b2d-85dd-353adc334751",
   "metadata": {},
   "outputs": [
    {
     "data": {
      "text/html": [
       "<div>\n",
       "<style scoped>\n",
       "    .dataframe tbody tr th:only-of-type {\n",
       "        vertical-align: middle;\n",
       "    }\n",
       "\n",
       "    .dataframe tbody tr th {\n",
       "        vertical-align: top;\n",
       "    }\n",
       "\n",
       "    .dataframe thead th {\n",
       "        text-align: right;\n",
       "    }\n",
       "</style>\n",
       "<table border=\"1\" class=\"dataframe\">\n",
       "  <thead>\n",
       "    <tr style=\"text-align: right;\">\n",
       "      <th></th>\n",
       "      <th>position</th>\n",
       "      <th>price.amount</th>\n",
       "      <th>price</th>\n",
       "    </tr>\n",
       "  </thead>\n",
       "  <tbody>\n",
       "    <tr>\n",
       "      <th>2024-10-31 20:00:00</th>\n",
       "      <td>20</td>\n",
       "      <td>131.10</td>\n",
       "      <td>131.10</td>\n",
       "    </tr>\n",
       "    <tr>\n",
       "      <th>2024-10-31 21:00:00</th>\n",
       "      <td>21</td>\n",
       "      <td>110.00</td>\n",
       "      <td>110.00</td>\n",
       "    </tr>\n",
       "    <tr>\n",
       "      <th>2024-10-31 22:00:00</th>\n",
       "      <td>22</td>\n",
       "      <td>107.00</td>\n",
       "      <td>107.00</td>\n",
       "    </tr>\n",
       "    <tr>\n",
       "      <th>2024-10-31 23:00:00</th>\n",
       "      <td>23</td>\n",
       "      <td>107.40</td>\n",
       "      <td>107.40</td>\n",
       "    </tr>\n",
       "    <tr>\n",
       "      <th>2024-11-01 00:00:00</th>\n",
       "      <td>24</td>\n",
       "      <td>101.72</td>\n",
       "      <td>101.72</td>\n",
       "    </tr>\n",
       "  </tbody>\n",
       "</table>\n",
       "</div>"
      ],
      "text/plain": [
       "                     position  price.amount   price\n",
       "2024-10-31 20:00:00        20        131.10  131.10\n",
       "2024-10-31 21:00:00        21        110.00  110.00\n",
       "2024-10-31 22:00:00        22        107.00  107.00\n",
       "2024-10-31 23:00:00        23        107.40  107.40\n",
       "2024-11-01 00:00:00        24        101.72  101.72"
      ]
     },
     "execution_count": 14,
     "metadata": {},
     "output_type": "execute_result"
    }
   ],
   "source": [
    "df_24.tail()"
   ]
  },
  {
   "cell_type": "code",
   "execution_count": 16,
   "id": "3e0018d2-8f4e-4334-a7d0-61f92c47c580",
   "metadata": {},
   "outputs": [
    {
     "data": {
      "text/html": [
       "<div>\n",
       "<style scoped>\n",
       "    .dataframe tbody tr th:only-of-type {\n",
       "        vertical-align: middle;\n",
       "    }\n",
       "\n",
       "    .dataframe tbody tr th {\n",
       "        vertical-align: top;\n",
       "    }\n",
       "\n",
       "    .dataframe thead th {\n",
       "        text-align: right;\n",
       "    }\n",
       "</style>\n",
       "<table border=\"1\" class=\"dataframe\">\n",
       "  <thead>\n",
       "    <tr style=\"text-align: right;\">\n",
       "      <th></th>\n",
       "      <th>position</th>\n",
       "      <th>price.amount</th>\n",
       "      <th>price</th>\n",
       "    </tr>\n",
       "  </thead>\n",
       "  <tbody>\n",
       "    <tr>\n",
       "      <th>2024-01-20 00:00:00</th>\n",
       "      <td>24</td>\n",
       "      <td>64.75</td>\n",
       "      <td>64.75</td>\n",
       "    </tr>\n",
       "    <tr>\n",
       "      <th>2024-01-20 01:00:00</th>\n",
       "      <td>1</td>\n",
       "      <td>66.00</td>\n",
       "      <td>66.00</td>\n",
       "    </tr>\n",
       "    <tr>\n",
       "      <th>2024-01-20 02:00:00</th>\n",
       "      <td>2</td>\n",
       "      <td>67.51</td>\n",
       "      <td>67.51</td>\n",
       "    </tr>\n",
       "    <tr>\n",
       "      <th>2024-01-20 03:00:00</th>\n",
       "      <td>3</td>\n",
       "      <td>63.54</td>\n",
       "      <td>63.54</td>\n",
       "    </tr>\n",
       "    <tr>\n",
       "      <th>2024-01-20 04:00:00</th>\n",
       "      <td>4</td>\n",
       "      <td>61.82</td>\n",
       "      <td>61.82</td>\n",
       "    </tr>\n",
       "    <tr>\n",
       "      <th>2024-01-20 05:00:00</th>\n",
       "      <td>5</td>\n",
       "      <td>61.85</td>\n",
       "      <td>61.85</td>\n",
       "    </tr>\n",
       "    <tr>\n",
       "      <th>2024-01-20 06:00:00</th>\n",
       "      <td>6</td>\n",
       "      <td>61.75</td>\n",
       "      <td>61.75</td>\n",
       "    </tr>\n",
       "    <tr>\n",
       "      <th>2024-01-20 07:00:00</th>\n",
       "      <td>7</td>\n",
       "      <td>62.59</td>\n",
       "      <td>62.59</td>\n",
       "    </tr>\n",
       "    <tr>\n",
       "      <th>2024-01-20 08:00:00</th>\n",
       "      <td>8</td>\n",
       "      <td>66.90</td>\n",
       "      <td>66.90</td>\n",
       "    </tr>\n",
       "    <tr>\n",
       "      <th>2024-01-20 09:00:00</th>\n",
       "      <td>9</td>\n",
       "      <td>74.82</td>\n",
       "      <td>74.82</td>\n",
       "    </tr>\n",
       "    <tr>\n",
       "      <th>2024-01-20 10:00:00</th>\n",
       "      <td>10</td>\n",
       "      <td>77.90</td>\n",
       "      <td>77.90</td>\n",
       "    </tr>\n",
       "    <tr>\n",
       "      <th>2024-01-20 11:00:00</th>\n",
       "      <td>11</td>\n",
       "      <td>71.80</td>\n",
       "      <td>71.80</td>\n",
       "    </tr>\n",
       "    <tr>\n",
       "      <th>2024-01-20 12:00:00</th>\n",
       "      <td>12</td>\n",
       "      <td>69.60</td>\n",
       "      <td>69.60</td>\n",
       "    </tr>\n",
       "    <tr>\n",
       "      <th>2024-01-20 13:00:00</th>\n",
       "      <td>13</td>\n",
       "      <td>64.89</td>\n",
       "      <td>64.89</td>\n",
       "    </tr>\n",
       "    <tr>\n",
       "      <th>2024-01-20 14:00:00</th>\n",
       "      <td>14</td>\n",
       "      <td>66.90</td>\n",
       "      <td>66.90</td>\n",
       "    </tr>\n",
       "    <tr>\n",
       "      <th>2024-01-20 15:00:00</th>\n",
       "      <td>15</td>\n",
       "      <td>73.37</td>\n",
       "      <td>73.37</td>\n",
       "    </tr>\n",
       "    <tr>\n",
       "      <th>2024-01-20 16:00:00</th>\n",
       "      <td>16</td>\n",
       "      <td>79.14</td>\n",
       "      <td>79.14</td>\n",
       "    </tr>\n",
       "    <tr>\n",
       "      <th>2024-01-20 17:00:00</th>\n",
       "      <td>17</td>\n",
       "      <td>87.86</td>\n",
       "      <td>87.86</td>\n",
       "    </tr>\n",
       "    <tr>\n",
       "      <th>2024-01-20 18:00:00</th>\n",
       "      <td>18</td>\n",
       "      <td>94.98</td>\n",
       "      <td>94.98</td>\n",
       "    </tr>\n",
       "    <tr>\n",
       "      <th>2024-01-20 19:00:00</th>\n",
       "      <td>19</td>\n",
       "      <td>99.89</td>\n",
       "      <td>99.89</td>\n",
       "    </tr>\n",
       "    <tr>\n",
       "      <th>2024-01-20 20:00:00</th>\n",
       "      <td>20</td>\n",
       "      <td>91.57</td>\n",
       "      <td>91.57</td>\n",
       "    </tr>\n",
       "    <tr>\n",
       "      <th>2024-01-20 21:00:00</th>\n",
       "      <td>21</td>\n",
       "      <td>80.00</td>\n",
       "      <td>80.00</td>\n",
       "    </tr>\n",
       "    <tr>\n",
       "      <th>2024-01-20 22:00:00</th>\n",
       "      <td>22</td>\n",
       "      <td>75.72</td>\n",
       "      <td>75.72</td>\n",
       "    </tr>\n",
       "    <tr>\n",
       "      <th>2024-01-20 23:00:00</th>\n",
       "      <td>23</td>\n",
       "      <td>70.42</td>\n",
       "      <td>70.42</td>\n",
       "    </tr>\n",
       "  </tbody>\n",
       "</table>\n",
       "</div>"
      ],
      "text/plain": [
       "                     position  price.amount  price\n",
       "2024-01-20 00:00:00        24         64.75  64.75\n",
       "2024-01-20 01:00:00         1         66.00  66.00\n",
       "2024-01-20 02:00:00         2         67.51  67.51\n",
       "2024-01-20 03:00:00         3         63.54  63.54\n",
       "2024-01-20 04:00:00         4         61.82  61.82\n",
       "2024-01-20 05:00:00         5         61.85  61.85\n",
       "2024-01-20 06:00:00         6         61.75  61.75\n",
       "2024-01-20 07:00:00         7         62.59  62.59\n",
       "2024-01-20 08:00:00         8         66.90  66.90\n",
       "2024-01-20 09:00:00         9         74.82  74.82\n",
       "2024-01-20 10:00:00        10         77.90  77.90\n",
       "2024-01-20 11:00:00        11         71.80  71.80\n",
       "2024-01-20 12:00:00        12         69.60  69.60\n",
       "2024-01-20 13:00:00        13         64.89  64.89\n",
       "2024-01-20 14:00:00        14         66.90  66.90\n",
       "2024-01-20 15:00:00        15         73.37  73.37\n",
       "2024-01-20 16:00:00        16         79.14  79.14\n",
       "2024-01-20 17:00:00        17         87.86  87.86\n",
       "2024-01-20 18:00:00        18         94.98  94.98\n",
       "2024-01-20 19:00:00        19         99.89  99.89\n",
       "2024-01-20 20:00:00        20         91.57  91.57\n",
       "2024-01-20 21:00:00        21         80.00  80.00\n",
       "2024-01-20 22:00:00        22         75.72  75.72\n",
       "2024-01-20 23:00:00        23         70.42  70.42"
      ]
     },
     "execution_count": 16,
     "metadata": {},
     "output_type": "execute_result"
    }
   ],
   "source": [
    "df_24.loc['2024-01-20']"
   ]
  },
  {
   "cell_type": "code",
   "execution_count": 17,
   "id": "d14964c6-ab34-4360-a177-a7f4f7dbb34b",
   "metadata": {},
   "outputs": [],
   "source": [
    "df_24.to_pickle('output/df_price_24.pkl')"
   ]
  },
  {
   "cell_type": "markdown",
   "id": "e1e1d45a-496c-430a-bf20-ad87cb66b8e8",
   "metadata": {},
   "source": [
    "TODO: 23data\n",
    "\n",
    "- {'start': '2022-03-26T23:00Z', 'end': '2022-03-27T22:00Z'}\n",
    "- {'start': '2022-10-29T22:00Z', 'end': '2022-10-30T23:00Z'}\n",
    "- {'start': '2023-03-25T23:00Z', 'end': '2023-03-26T22:00Z'}\n",
    "- {'start': '2023-10-28T22:00Z', 'end': '2023-10-29T23:00Z'}\n",
    "- {'start': '2024-03-30T23:00Z', 'end': '2024-03-31T22:00Z'}"
   ]
  },
  {
   "cell_type": "markdown",
   "id": "13ece46f-bb3f-41da-a444-dae54cec59c2",
   "metadata": {},
   "source": [
    "### Forecast Energy Generation"
   ]
  },
  {
   "cell_type": "markdown",
   "id": "123a3bbe-94de-4ad1-827a-36c1e271f93c",
   "metadata": {},
   "source": [
    "#### Solar B16"
   ]
  },
  {
   "cell_type": "code",
   "execution_count": 18,
   "id": "54ccf13e-29b4-4e70-826e-b50da08b44a8",
   "metadata": {},
   "outputs": [],
   "source": [
    "date_series_19 = pd.date_range(start='2019-01-01 01:00', end='2020-01-01 00:00', freq='1h')\n",
    "date_series_20 = pd.date_range(start='2020-01-01 01:00', end='2021-01-01 00:00', freq='1h')\n",
    "date_series_21 = pd.date_range(start='2021-01-01 01:00', end='2022-01-01 00:00', freq='1h')\n",
    "date_series_22 = pd.date_range(start='2022-01-01 01:00', end='2023-01-01 00:00', freq='1h')\n",
    "date_series_23 = pd.date_range(start='2023-01-01 01:00', end='2024-01-01 00:00', freq='1h')\n",
    "date_series_24 = pd.date_range(start='2024-01-01 01:00', end='2024-11-01 00:00', freq='1h')"
   ]
  },
  {
   "cell_type": "code",
   "execution_count": 5,
   "id": "cdb272d4-53bd-407f-b9b3-0b6810f66e5f",
   "metadata": {},
   "outputs": [],
   "source": [
    "# t = date_series_23[date_series_23 < pd.to_datetime('2023-11-14') and date_series_23 > pd.to_datetime('2023-11-14')]\n",
    "# t = date_series_23[(date_series_23 < pd.to_datetime('2023-11-13 23:30:00')) | (date_series_23 > pd.to_datetime('2023-11-14 23:30:00'))]"
   ]
  },
  {
   "cell_type": "code",
   "execution_count": 19,
   "id": "d7a89b62-e082-4e97-93f4-ef84b2327423",
   "metadata": {},
   "outputs": [],
   "source": [
    "def min2h(df_xml, date_series):\n",
    "    df = df_xml.copy()\n",
    "    df.drop('position', axis = 1, inplace = True)\n",
    "    # df.rename(columns={'quantity': col_name}, inplace=True)\n",
    "    df_hourly_data = df.groupby(df.index // 4).sum()\n",
    "    df_hourly_data['Date'] = date_series\n",
    "    df_hourly_data.set_index('Date', inplace= True)\n",
    "    # df_hourly_data.rename(columns={'quantity': 'Alpha'}, inplace=True)\n",
    "    return df_hourly_data"
   ]
  },
  {
   "cell_type": "code",
   "execution_count": 60,
   "id": "6b0415ef-86ab-4ae1-9dd7-082432db20f6",
   "metadata": {},
   "outputs": [],
   "source": [
    "# def min2h_23(df_xml, date_series):\n",
    "#     df = df_xml.copy()\n",
    "#     df.drop('position', axis = 1, inplace = True)\n",
    "#     # df.rename(columns={'quantity': col_name}, inplace=True)\n",
    "#     df_hourly_data = df.groupby(df.index // 4).sum()\n",
    "#     # Remove the specific date\n",
    "#     # filtered_date_series = date_series[date_series < pd.to_datetime('2023-11-14') and date_series > pd.to_datetime('2023-11-14')]\n",
    "#     filtered_date_series = date_series_23[(date_series_23 < pd.to_datetime('2023-11-13 23:30:00')) | (date_series_23 > pd.to_datetime('2023-11-14 23:30:00'))]\n",
    "#     df_hourly_data['Date'] = filtered_date_series\n",
    "#     df_hourly_data.set_index('Date', inplace= True)\n",
    "#     return df_hourly_data"
   ]
  },
  {
   "cell_type": "code",
   "execution_count": 20,
   "id": "33bcc110-10e5-4816-a1fd-d36eeba870e3",
   "metadata": {},
   "outputs": [],
   "source": [
    "def missing_1114(df):\n",
    "    \n",
    "    df_1113 = df[df.index.date == pd.to_datetime('2023-11-13').date()]\n",
    "    df_1115 = df[df.index.date == pd.to_datetime('2023-11-15').date()]\n",
    "    df_1114_avg= (df_1113['quantity'].values +  df_1115['quantity'].values) / 2\n",
    "    df_1114_avg = np.array([int(x) for x in df_1114_avg])\n",
    "    df_1114_avg = df_1114_avg.reshape(24,1)\n",
    "    df[df.index.date == pd.to_datetime('2023-11-14').date()] = df_1114_avg\n",
    "    return df"
   ]
  },
  {
   "cell_type": "markdown",
   "id": "326f5ab5-96e3-441a-8ba7-784a1ff8ee12",
   "metadata": {},
   "source": [
    "## Energy Generation"
   ]
  },
  {
   "cell_type": "code",
   "execution_count": 24,
   "id": "aebc9868-cc17-4faa-ae8b-84bec4ff76fa",
   "metadata": {},
   "outputs": [],
   "source": [
    "def gene(folder,start_year, end_year,file_name):\n",
    "    data = pd.DataFrame()\n",
    "    for year in range(start_year, end_year +1 ):\n",
    "        print(year)\n",
    "        if year == 24:\n",
    "            date_series = pd.date_range(start='2024-01-01 01:00', end='2024-11-01 00:00', freq='1h')\n",
    "        else:\n",
    "            date_series = pd.date_range(start=f'20{year}-01-01 01:00', end=f'20{year+1}-01-01 00:00', freq='1h')\n",
    "        # print(date_series[-5:])\n",
    "        df_xml = pd.read_xml(f'raw/day_ahead_fore/{folder}/{folder}_{year}.xml', xpath=\".//ns:Point\", namespaces={'ns': 'urn:iec62325.351:tc57wg16:451-6:generationloaddocument:3:0'})\n",
    "        print(len(df_xml))\n",
    "        df_hourly = min2h(df_xml, date_series)\n",
    "        print(df_hourly.tail())\n",
    "        if year == 23 and folder != 'total_load':\n",
    "            print('Fill missing 2023-11-14')\n",
    "            df_hourly = missing_1114(df_hourly)\n",
    "        data = pd.concat([data,df_hourly], axis=0) \n",
    "    data.to_pickle(f'output/df_{folder}_{file_name}.pkl')\n",
    "    return data"
   ]
  },
  {
   "cell_type": "code",
   "execution_count": 25,
   "id": "16c63a42-d540-47ee-8740-6fc537dad12d",
   "metadata": {},
   "outputs": [],
   "source": [
    "features = ['onshore', 'offshore', 'solar', 'total_load']"
   ]
  },
  {
   "cell_type": "code",
   "execution_count": 27,
   "id": "80926054-6c46-49d8-b271-0e066fd6476a",
   "metadata": {},
   "outputs": [
    {
     "name": "stdout",
     "output_type": "stream",
     "text": [
      "Data: onshore\n",
      "24\n",
      "29280\n",
      "Data: offshore\n",
      "24\n",
      "29280\n",
      "Data: solar\n",
      "24\n",
      "29280\n",
      "Data: total_load\n",
      "24\n",
      "29280\n"
     ]
    }
   ],
   "source": [
    "for i in features:\n",
    "    print('Data:',i )\n",
    "    gene(i, 24,24, 24)"
   ]
  },
  {
   "cell_type": "markdown",
   "id": "083c9654-352c-41f2-b6b8-ee9aa3e42abc",
   "metadata": {},
   "source": [
    "## All"
   ]
  },
  {
   "cell_type": "code",
   "execution_count": 28,
   "id": "b9ae12fc-f00d-4cb0-b3bc-85aa1f3f705e",
   "metadata": {},
   "outputs": [],
   "source": [
    "df_price = pd.read_pickle('output/df_price_24.pkl')\n",
    "df_price.drop(columns= ['position', 'price.amount'], inplace = True)\n",
    "df_solar = pd.read_pickle('output/df_solar_24.pkl')\n",
    "df_onshore = pd.read_pickle('output/df_onshore_24.pkl')\n",
    "df_offshore = pd.read_pickle('output/df_offshore_24.pkl')\n",
    "df_total_load = pd.read_pickle('output/df_total_load_24.pkl')"
   ]
  },
  {
   "cell_type": "code",
   "execution_count": 29,
   "id": "759925b4-7f61-4524-91bd-774d95cab9b4",
   "metadata": {},
   "outputs": [],
   "source": [
    "df_price.columns = ['price']\n",
    "df_solar.columns = ['solar']\n",
    "df_onshore.columns = ['wind_onshore']\n",
    "df_offshore.columns = ['wind_offshore']\n",
    "df_total_load.columns = ['total_load']"
   ]
  },
  {
   "cell_type": "code",
   "execution_count": 30,
   "id": "21b6bb37-ca51-4652-b7e8-6c69ea1be79b",
   "metadata": {},
   "outputs": [],
   "source": [
    "df_fore = pd.concat([df_price, df_solar, df_onshore, df_offshore, df_total_load], axis=1)"
   ]
  },
  {
   "cell_type": "code",
   "execution_count": 31,
   "id": "e4f7de3e-51d3-4890-9fa0-bd46b91472b8",
   "metadata": {},
   "outputs": [
    {
     "name": "stdout",
     "output_type": "stream",
     "text": [
      "<class 'pandas.core.frame.DataFrame'>\n",
      "DatetimeIndex: 7320 entries, 2024-01-01 01:00:00 to 2024-11-01 00:00:00\n",
      "Freq: h\n",
      "Data columns (total 5 columns):\n",
      " #   Column         Non-Null Count  Dtype  \n",
      "---  ------         --------------  -----  \n",
      " 0   price          7320 non-null   float64\n",
      " 1   solar          7320 non-null   int64  \n",
      " 2   wind_onshore   7320 non-null   int64  \n",
      " 3   wind_offshore  7320 non-null   int64  \n",
      " 4   total_load     7320 non-null   int64  \n",
      "dtypes: float64(1), int64(4)\n",
      "memory usage: 343.1 KB\n"
     ]
    }
   ],
   "source": [
    "df_fore.info()"
   ]
  },
  {
   "cell_type": "code",
   "execution_count": 33,
   "id": "d1df4379-deeb-496c-93a0-57661f06991a",
   "metadata": {},
   "outputs": [
    {
     "data": {
      "text/html": [
       "<div>\n",
       "<style scoped>\n",
       "    .dataframe tbody tr th:only-of-type {\n",
       "        vertical-align: middle;\n",
       "    }\n",
       "\n",
       "    .dataframe tbody tr th {\n",
       "        vertical-align: top;\n",
       "    }\n",
       "\n",
       "    .dataframe thead th {\n",
       "        text-align: right;\n",
       "    }\n",
       "</style>\n",
       "<table border=\"1\" class=\"dataframe\">\n",
       "  <thead>\n",
       "    <tr style=\"text-align: right;\">\n",
       "      <th></th>\n",
       "      <th>price</th>\n",
       "      <th>solar</th>\n",
       "      <th>wind_onshore</th>\n",
       "      <th>wind_offshore</th>\n",
       "      <th>total_load</th>\n",
       "    </tr>\n",
       "  </thead>\n",
       "  <tbody>\n",
       "    <tr>\n",
       "      <th>2024-03-31 21:00:00</th>\n",
       "      <td>65.20</td>\n",
       "      <td>0</td>\n",
       "      <td>5599</td>\n",
       "      <td>2896</td>\n",
       "      <td>47101</td>\n",
       "    </tr>\n",
       "    <tr>\n",
       "      <th>2024-03-31 22:00:00</th>\n",
       "      <td>60.55</td>\n",
       "      <td>0</td>\n",
       "      <td>6905</td>\n",
       "      <td>3428</td>\n",
       "      <td>45068</td>\n",
       "    </tr>\n",
       "    <tr>\n",
       "      <th>2024-03-31 23:00:00</th>\n",
       "      <td>54.90</td>\n",
       "      <td>0</td>\n",
       "      <td>7862</td>\n",
       "      <td>3955</td>\n",
       "      <td>43612</td>\n",
       "    </tr>\n",
       "    <tr>\n",
       "      <th>2024-04-01 00:00:00</th>\n",
       "      <td>54.90</td>\n",
       "      <td>0</td>\n",
       "      <td>7937</td>\n",
       "      <td>3278</td>\n",
       "      <td>46914</td>\n",
       "    </tr>\n",
       "    <tr>\n",
       "      <th>2024-04-01 01:00:00</th>\n",
       "      <td>51.03</td>\n",
       "      <td>0</td>\n",
       "      <td>7980</td>\n",
       "      <td>3308</td>\n",
       "      <td>40933</td>\n",
       "    </tr>\n",
       "    <tr>\n",
       "      <th>2024-04-01 02:00:00</th>\n",
       "      <td>48.98</td>\n",
       "      <td>0</td>\n",
       "      <td>7578</td>\n",
       "      <td>3324</td>\n",
       "      <td>40605</td>\n",
       "    </tr>\n",
       "    <tr>\n",
       "      <th>2024-04-01 03:00:00</th>\n",
       "      <td>45.10</td>\n",
       "      <td>0</td>\n",
       "      <td>6265</td>\n",
       "      <td>2918</td>\n",
       "      <td>40924</td>\n",
       "    </tr>\n",
       "  </tbody>\n",
       "</table>\n",
       "</div>"
      ],
      "text/plain": [
       "                     price  solar  wind_onshore  wind_offshore  total_load\n",
       "2024-03-31 21:00:00  65.20      0          5599           2896       47101\n",
       "2024-03-31 22:00:00  60.55      0          6905           3428       45068\n",
       "2024-03-31 23:00:00  54.90      0          7862           3955       43612\n",
       "2024-04-01 00:00:00  54.90      0          7937           3278       46914\n",
       "2024-04-01 01:00:00  51.03      0          7980           3308       40933\n",
       "2024-04-01 02:00:00  48.98      0          7578           3324       40605\n",
       "2024-04-01 03:00:00  45.10      0          6265           2918       40924"
      ]
     },
     "execution_count": 33,
     "metadata": {},
     "output_type": "execute_result"
    }
   ],
   "source": [
    "df_fore.loc['2024-03-31 21:00:00': '2024-04-01 03:00:00']"
   ]
  },
  {
   "cell_type": "code",
   "execution_count": 35,
   "id": "adb633b1-1d95-42e0-9dfa-4e76fec98b0f",
   "metadata": {},
   "outputs": [
    {
     "data": {
      "text/html": [
       "<div>\n",
       "<style scoped>\n",
       "    .dataframe tbody tr th:only-of-type {\n",
       "        vertical-align: middle;\n",
       "    }\n",
       "\n",
       "    .dataframe tbody tr th {\n",
       "        vertical-align: top;\n",
       "    }\n",
       "\n",
       "    .dataframe thead th {\n",
       "        text-align: right;\n",
       "    }\n",
       "</style>\n",
       "<table border=\"1\" class=\"dataframe\">\n",
       "  <thead>\n",
       "    <tr style=\"text-align: right;\">\n",
       "      <th></th>\n",
       "      <th>price</th>\n",
       "      <th>solar</th>\n",
       "      <th>wind_onshore</th>\n",
       "      <th>wind_offshore</th>\n",
       "      <th>total_load</th>\n",
       "    </tr>\n",
       "  </thead>\n",
       "  <tbody>\n",
       "    <tr>\n",
       "      <th>2024-10-27 01:00:00</th>\n",
       "      <td>91.56</td>\n",
       "      <td>0</td>\n",
       "      <td>1655</td>\n",
       "      <td>952</td>\n",
       "      <td>42509</td>\n",
       "    </tr>\n",
       "    <tr>\n",
       "      <th>2024-10-27 02:00:00</th>\n",
       "      <td>84.00</td>\n",
       "      <td>0</td>\n",
       "      <td>1447</td>\n",
       "      <td>867</td>\n",
       "      <td>41207</td>\n",
       "    </tr>\n",
       "    <tr>\n",
       "      <th>2024-10-27 03:00:00</th>\n",
       "      <td>82.23</td>\n",
       "      <td>0</td>\n",
       "      <td>1662</td>\n",
       "      <td>888</td>\n",
       "      <td>41207</td>\n",
       "    </tr>\n",
       "    <tr>\n",
       "      <th>2024-10-27 04:00:00</th>\n",
       "      <td>80.43</td>\n",
       "      <td>0</td>\n",
       "      <td>1969</td>\n",
       "      <td>927</td>\n",
       "      <td>40738</td>\n",
       "    </tr>\n",
       "    <tr>\n",
       "      <th>2024-10-27 05:00:00</th>\n",
       "      <td>81.12</td>\n",
       "      <td>0</td>\n",
       "      <td>2170</td>\n",
       "      <td>974</td>\n",
       "      <td>40906</td>\n",
       "    </tr>\n",
       "    <tr>\n",
       "      <th>2024-10-27 06:00:00</th>\n",
       "      <td>77.08</td>\n",
       "      <td>0</td>\n",
       "      <td>2011</td>\n",
       "      <td>994</td>\n",
       "      <td>41250</td>\n",
       "    </tr>\n",
       "  </tbody>\n",
       "</table>\n",
       "</div>"
      ],
      "text/plain": [
       "                     price  solar  wind_onshore  wind_offshore  total_load\n",
       "2024-10-27 01:00:00  91.56      0          1655            952       42509\n",
       "2024-10-27 02:00:00  84.00      0          1447            867       41207\n",
       "2024-10-27 03:00:00  82.23      0          1662            888       41207\n",
       "2024-10-27 04:00:00  80.43      0          1969            927       40738\n",
       "2024-10-27 05:00:00  81.12      0          2170            974       40906\n",
       "2024-10-27 06:00:00  77.08      0          2011            994       41250"
      ]
     },
     "execution_count": 35,
     "metadata": {},
     "output_type": "execute_result"
    }
   ],
   "source": [
    "df_fore.loc['2024-10-27 01:00:00': '2024-10-27 06:00:00']"
   ]
  },
  {
   "cell_type": "code",
   "execution_count": 36,
   "id": "27c32367-66a2-4f77-bf51-23192182da90",
   "metadata": {},
   "outputs": [],
   "source": [
    "df_fore.to_pickle('output/df_24.pkl')"
   ]
  },
  {
   "cell_type": "code",
   "execution_count": null,
   "id": "e0482e1b-5fc0-43f4-ba24-bef9dc1fe5b7",
   "metadata": {},
   "outputs": [],
   "source": [
    "# 2019: Sun, Mar 31, 2019 – Sun, Oct 27, 2019"
   ]
  },
  {
   "cell_type": "markdown",
   "id": "72bf4df5-8458-49a6-88ba-3fbbb75ad387",
   "metadata": {},
   "source": [
    "## cleaning"
   ]
  },
  {
   "cell_type": "code",
   "execution_count": 37,
   "id": "84de5726-cf14-46de-adde-30285891042d",
   "metadata": {},
   "outputs": [],
   "source": [
    "data = pd.read_pickle('output/df_24.pkl')"
   ]
  },
  {
   "cell_type": "code",
   "execution_count": 38,
   "id": "506869cf-126e-4d01-812a-0fe6499313a4",
   "metadata": {},
   "outputs": [
    {
     "data": {
      "text/html": [
       "<div>\n",
       "<style scoped>\n",
       "    .dataframe tbody tr th:only-of-type {\n",
       "        vertical-align: middle;\n",
       "    }\n",
       "\n",
       "    .dataframe tbody tr th {\n",
       "        vertical-align: top;\n",
       "    }\n",
       "\n",
       "    .dataframe thead th {\n",
       "        text-align: right;\n",
       "    }\n",
       "</style>\n",
       "<table border=\"1\" class=\"dataframe\">\n",
       "  <thead>\n",
       "    <tr style=\"text-align: right;\">\n",
       "      <th></th>\n",
       "      <th>price</th>\n",
       "      <th>solar</th>\n",
       "      <th>wind_onshore</th>\n",
       "      <th>wind_offshore</th>\n",
       "      <th>total_load</th>\n",
       "    </tr>\n",
       "  </thead>\n",
       "  <tbody>\n",
       "    <tr>\n",
       "      <th>2024-01-01 01:00:00</th>\n",
       "      <td>0.10</td>\n",
       "      <td>0</td>\n",
       "      <td>18504</td>\n",
       "      <td>5617</td>\n",
       "      <td>42649</td>\n",
       "    </tr>\n",
       "    <tr>\n",
       "      <th>2024-01-01 02:00:00</th>\n",
       "      <td>0.01</td>\n",
       "      <td>0</td>\n",
       "      <td>18289</td>\n",
       "      <td>5578</td>\n",
       "      <td>41317</td>\n",
       "    </tr>\n",
       "    <tr>\n",
       "      <th>2024-01-01 03:00:00</th>\n",
       "      <td>0.00</td>\n",
       "      <td>0</td>\n",
       "      <td>18030</td>\n",
       "      <td>5552</td>\n",
       "      <td>40696</td>\n",
       "    </tr>\n",
       "    <tr>\n",
       "      <th>2024-01-01 04:00:00</th>\n",
       "      <td>-0.01</td>\n",
       "      <td>0</td>\n",
       "      <td>17755</td>\n",
       "      <td>5529</td>\n",
       "      <td>40102</td>\n",
       "    </tr>\n",
       "    <tr>\n",
       "      <th>2024-01-01 05:00:00</th>\n",
       "      <td>-0.03</td>\n",
       "      <td>0</td>\n",
       "      <td>17335</td>\n",
       "      <td>5559</td>\n",
       "      <td>40371</td>\n",
       "    </tr>\n",
       "  </tbody>\n",
       "</table>\n",
       "</div>"
      ],
      "text/plain": [
       "                     price  solar  wind_onshore  wind_offshore  total_load\n",
       "2024-01-01 01:00:00   0.10      0         18504           5617       42649\n",
       "2024-01-01 02:00:00   0.01      0         18289           5578       41317\n",
       "2024-01-01 03:00:00   0.00      0         18030           5552       40696\n",
       "2024-01-01 04:00:00  -0.01      0         17755           5529       40102\n",
       "2024-01-01 05:00:00  -0.03      0         17335           5559       40371"
      ]
     },
     "execution_count": 38,
     "metadata": {},
     "output_type": "execute_result"
    }
   ],
   "source": [
    "data.head()"
   ]
  },
  {
   "cell_type": "code",
   "execution_count": 39,
   "id": "2e2b38c5-b94e-46ec-8518-307c97d5e279",
   "metadata": {},
   "outputs": [],
   "source": [
    "def price_cleaner(info):\n",
    "    data.loc[:,'shift1'] = data['price'].shift(-1)\n",
    "    for start_date, end_date, value in info:\n",
    "        print(start_date, end_date)\n",
    "        data.loc[start_date : end_date, 'price'] = data.loc[start_date : end_date, 'shift1']\n",
    "        data.loc[end_date, 'price'] = value\n",
    "    data.drop(columns = ['shift1'],inplace = True)\n",
    "    return data"
   ]
  },
  {
   "cell_type": "code",
   "execution_count": 361,
   "id": "e55a842e-b539-4f97-9ae7-40b77425a345",
   "metadata": {},
   "outputs": [
    {
     "name": "stdout",
     "output_type": "stream",
     "text": [
      "2019-04-01 00:00:00 2019-10-28 00:00:00\n",
      "2020-03-30 00:00:00 2020-10-26 00:00:00\n",
      "2021-03-29 00:00:00 2021-11-01 00:00:00\n",
      "2022-03-28 00:00:00 2022-10-31 00:00:00\n",
      "2023-03-27 00:00:00 2023-10-30 00:00:00\n"
     ]
    }
   ],
   "source": [
    "info = [\n",
    "    # start, dat light saving +1 day, \n",
    "    ['2019-04-01 00:00:00', '2019-10-28 00:00:00', 25.82],\n",
    "    ['2020-03-30 00:00:00', '2020-10-26 00:00:00', 34.75],\n",
    "    ['2021-03-29 00:00:00', '2021-11-01 00:00:00', 59.34],\n",
    "    ['2022-03-28 00:00:00', '2022-10-31 00:00:00', 109.26],\n",
    "    ['2023-03-27 00:00:00', '2023-10-30 00:00:00', 38.47],\n",
    "]\n",
    "info_24 = ['2024-04-01 00:00:00', '2024-10-28 00:00:00', 102.99]\n",
    "data_cleaned = price_cleaner(info)"
   ]
  },
  {
   "cell_type": "code",
   "execution_count": 363,
   "id": "9c97fd86-266c-48fd-a30f-ceb57f19de24",
   "metadata": {},
   "outputs": [
    {
     "data": {
      "text/html": [
       "<div>\n",
       "<style scoped>\n",
       "    .dataframe tbody tr th:only-of-type {\n",
       "        vertical-align: middle;\n",
       "    }\n",
       "\n",
       "    .dataframe tbody tr th {\n",
       "        vertical-align: top;\n",
       "    }\n",
       "\n",
       "    .dataframe thead th {\n",
       "        text-align: right;\n",
       "    }\n",
       "</style>\n",
       "<table border=\"1\" class=\"dataframe\">\n",
       "  <thead>\n",
       "    <tr style=\"text-align: right;\">\n",
       "      <th></th>\n",
       "      <th>price</th>\n",
       "      <th>solar</th>\n",
       "      <th>wind_onshore</th>\n",
       "      <th>wind_offshore</th>\n",
       "      <th>total_load</th>\n",
       "    </tr>\n",
       "  </thead>\n",
       "  <tbody>\n",
       "    <tr>\n",
       "      <th>2023-10-29 22:00:00</th>\n",
       "      <td>54.27</td>\n",
       "      <td>0</td>\n",
       "      <td>15805</td>\n",
       "      <td>6715</td>\n",
       "      <td>49518</td>\n",
       "    </tr>\n",
       "    <tr>\n",
       "      <th>2023-10-29 23:00:00</th>\n",
       "      <td>52.00</td>\n",
       "      <td>0</td>\n",
       "      <td>15103</td>\n",
       "      <td>6569</td>\n",
       "      <td>48285</td>\n",
       "    </tr>\n",
       "    <tr>\n",
       "      <th>2023-10-30 00:00:00</th>\n",
       "      <td>38.47</td>\n",
       "      <td>0</td>\n",
       "      <td>14484</td>\n",
       "      <td>6538</td>\n",
       "      <td>46748</td>\n",
       "    </tr>\n",
       "    <tr>\n",
       "      <th>2023-10-30 01:00:00</th>\n",
       "      <td>8.00</td>\n",
       "      <td>0</td>\n",
       "      <td>20160</td>\n",
       "      <td>6959</td>\n",
       "      <td>43967</td>\n",
       "    </tr>\n",
       "    <tr>\n",
       "      <th>2023-10-30 02:00:00</th>\n",
       "      <td>8.13</td>\n",
       "      <td>0</td>\n",
       "      <td>19183</td>\n",
       "      <td>6981</td>\n",
       "      <td>43740</td>\n",
       "    </tr>\n",
       "  </tbody>\n",
       "</table>\n",
       "</div>"
      ],
      "text/plain": [
       "                     price  solar  wind_onshore  wind_offshore  total_load\n",
       "2023-10-29 22:00:00  54.27      0         15805           6715       49518\n",
       "2023-10-29 23:00:00  52.00      0         15103           6569       48285\n",
       "2023-10-30 00:00:00  38.47      0         14484           6538       46748\n",
       "2023-10-30 01:00:00   8.00      0         20160           6959       43967\n",
       "2023-10-30 02:00:00   8.13      0         19183           6981       43740"
      ]
     },
     "execution_count": 363,
     "metadata": {},
     "output_type": "execute_result"
    }
   ],
   "source": [
    "# data_cleaned.loc['2023-10-29 22:00:00': '2023-10-30 02:00:00']"
   ]
  },
  {
   "cell_type": "code",
   "execution_count": 364,
   "id": "fbb41d76-9fca-4fca-8392-a7f15f8b0908",
   "metadata": {},
   "outputs": [
    {
     "name": "stdout",
     "output_type": "stream",
     "text": [
      "<class 'pandas.core.frame.DataFrame'>\n",
      "DatetimeIndex: 43824 entries, 2019-01-01 01:00:00 to 2024-01-01 00:00:00\n",
      "Freq: h\n",
      "Data columns (total 5 columns):\n",
      " #   Column         Non-Null Count  Dtype  \n",
      "---  ------         --------------  -----  \n",
      " 0   price          43824 non-null  float64\n",
      " 1   solar          43824 non-null  int64  \n",
      " 2   wind_onshore   43824 non-null  int64  \n",
      " 3   wind_offshore  43824 non-null  int64  \n",
      " 4   total_load     43824 non-null  int64  \n",
      "dtypes: float64(1), int64(4)\n",
      "memory usage: 3.0 MB\n"
     ]
    }
   ],
   "source": [
    "data_cleaned.info()"
   ]
  },
  {
   "cell_type": "code",
   "execution_count": 365,
   "id": "221ba833-89e9-46b1-8fa0-fa53dd43788c",
   "metadata": {},
   "outputs": [],
   "source": [
    "data_cleaned.to_pickle('output/df_22_23_cleaned.pkl')"
   ]
  }
 ],
 "metadata": {
  "kernelspec": {
   "display_name": "Python 3 (ipykernel)",
   "language": "python",
   "name": "python3"
  },
  "language_info": {
   "codemirror_mode": {
    "name": "ipython",
    "version": 3
   },
   "file_extension": ".py",
   "mimetype": "text/x-python",
   "name": "python",
   "nbconvert_exporter": "python",
   "pygments_lexer": "ipython3",
   "version": "3.10.14"
  }
 },
 "nbformat": 4,
 "nbformat_minor": 5
}
