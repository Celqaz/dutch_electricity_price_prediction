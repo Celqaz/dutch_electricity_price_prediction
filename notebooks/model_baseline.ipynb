{
 "cells": [
  {
   "cell_type": "code",
   "execution_count": 87,
   "id": "77d4cf03-4d8a-4b80-a620-81bc547a262e",
   "metadata": {},
   "outputs": [],
   "source": [
    "import matplotlib.pyplot as plt"
   ]
  },
  {
   "cell_type": "markdown",
   "id": "8f88d9b4-1570-4a22-b0eb-a1a4375059a8",
   "metadata": {},
   "source": [
    "# Result"
   ]
  },
  {
   "cell_type": "markdown",
   "id": "94d459c5-309e-4616-9b07-a095a570be30",
   "metadata": {},
   "source": [
    "- Last value\n",
    "\n",
    "    - Mean Absolute Error (MAE): 12.23\n",
    "\n",
    "    - Root Mean Squared Error (RMSE): 18.33\n",
    "\n",
    "    - Symmetric Mean Absolute Percentage Error (sMAPE): 30.59"
   ]
  },
  {
   "cell_type": "code",
   "execution_count": 88,
   "id": "eed9d788-9b52-4bca-b36c-7b204a42ee03",
   "metadata": {},
   "outputs": [],
   "source": [
    "import tensorflow as tf\n",
    "import numpy as np\n",
    "import random\n",
    "\n",
    "# Set random seeds for reproducibility\n",
    "random.seed(42)\n",
    "np.random.seed(42)\n",
    "tf.random.set_seed(42)"
   ]
  },
  {
   "cell_type": "markdown",
   "id": "c66b27a9-a786-459c-8bee-20acb20b8305",
   "metadata": {},
   "source": [
    "# Baseline"
   ]
  },
  {
   "cell_type": "code",
   "execution_count": 89,
   "id": "9e5fcc17-2f69-483c-b31f-9c543e272cf8",
   "metadata": {},
   "outputs": [],
   "source": [
    "%run utils.ipynb"
   ]
  },
  {
   "cell_type": "code",
   "execution_count": 90,
   "id": "a50d3d87-d3fe-4826-a3b3-30ac953b8700",
   "metadata": {},
   "outputs": [
    {
     "name": "stdout",
     "output_type": "stream",
     "text": [
      "<class 'pandas.core.frame.DataFrame'>\n",
      "DatetimeIndex: 24840 entries, 2022-01-01 01:00:00 to 2024-11-01 00:00:00\n",
      "Data columns (total 10 columns):\n",
      " #   Column                   Non-Null Count  Dtype  \n",
      "---  ------                   --------------  -----  \n",
      " 0   price                    24840 non-null  float64\n",
      " 1   solar                    24840 non-null  int64  \n",
      " 2   wind_onshore             24840 non-null  int64  \n",
      " 3   wind_offshore            24840 non-null  int64  \n",
      " 4   total_load               24840 non-null  int64  \n",
      " 5   actual_solar             24840 non-null  int64  \n",
      " 6   actual_wind_onshore      24840 non-null  int64  \n",
      " 7   actual_wind_offshore     24840 non-null  int64  \n",
      " 8   actual_fossil_gas        24840 non-null  int64  \n",
      " 9   actual_fossil_hard_coal  24840 non-null  int64  \n",
      "dtypes: float64(1), int64(9)\n",
      "memory usage: 2.1 MB\n",
      "None\n"
     ]
    }
   ],
   "source": [
    "df_ori = load_data('df_actual_22_24_cleaned')"
   ]
  },
  {
   "cell_type": "code",
   "execution_count": 91,
   "id": "66ce4ac8-ad02-4470-95d9-5a33c8de68e1",
   "metadata": {},
   "outputs": [],
   "source": [
    "train_df = df_ori.loc['2022-01-01 01:00:00': '2024-01-01 00:00:00', ['price']]\n",
    "test_df = df_ori.loc['2024-01-01 01:00:00': '2024-11-01 01:00:00', ['price']]"
   ]
  },
  {
   "cell_type": "code",
   "execution_count": 92,
   "id": "397eb95f-ba3e-4f41-aadc-439dd74093bb",
   "metadata": {},
   "outputs": [
    {
     "data": {
      "text/plain": [
       "168.87087442922376"
      ]
     },
     "execution_count": 92,
     "metadata": {},
     "output_type": "execute_result"
    }
   ],
   "source": [
    "historical_mean = np.mean(train_df['price'])\n",
    "historical_mean"
   ]
  },
  {
   "cell_type": "code",
   "execution_count": 93,
   "id": "186270c6-256c-41e2-9f5a-d7ba419dfb95",
   "metadata": {},
   "outputs": [
    {
     "data": {
      "text/html": [
       "<div>\n",
       "<style scoped>\n",
       "    .dataframe tbody tr th:only-of-type {\n",
       "        vertical-align: middle;\n",
       "    }\n",
       "\n",
       "    .dataframe tbody tr th {\n",
       "        vertical-align: top;\n",
       "    }\n",
       "\n",
       "    .dataframe thead th {\n",
       "        text-align: right;\n",
       "    }\n",
       "</style>\n",
       "<table border=\"1\" class=\"dataframe\">\n",
       "  <thead>\n",
       "    <tr style=\"text-align: right;\">\n",
       "      <th></th>\n",
       "      <th>price</th>\n",
       "      <th>pred_mean</th>\n",
       "    </tr>\n",
       "  </thead>\n",
       "  <tbody>\n",
       "    <tr>\n",
       "      <th>2024-01-01 01:00:00</th>\n",
       "      <td>0.10</td>\n",
       "      <td>168.870874</td>\n",
       "    </tr>\n",
       "    <tr>\n",
       "      <th>2024-01-01 02:00:00</th>\n",
       "      <td>0.01</td>\n",
       "      <td>168.870874</td>\n",
       "    </tr>\n",
       "    <tr>\n",
       "      <th>2024-01-01 03:00:00</th>\n",
       "      <td>0.00</td>\n",
       "      <td>168.870874</td>\n",
       "    </tr>\n",
       "    <tr>\n",
       "      <th>2024-01-01 04:00:00</th>\n",
       "      <td>-0.01</td>\n",
       "      <td>168.870874</td>\n",
       "    </tr>\n",
       "    <tr>\n",
       "      <th>2024-01-01 05:00:00</th>\n",
       "      <td>-0.03</td>\n",
       "      <td>168.870874</td>\n",
       "    </tr>\n",
       "  </tbody>\n",
       "</table>\n",
       "</div>"
      ],
      "text/plain": [
       "                     price   pred_mean\n",
       "2024-01-01 01:00:00   0.10  168.870874\n",
       "2024-01-01 02:00:00   0.01  168.870874\n",
       "2024-01-01 03:00:00   0.00  168.870874\n",
       "2024-01-01 04:00:00  -0.01  168.870874\n",
       "2024-01-01 05:00:00  -0.03  168.870874"
      ]
     },
     "execution_count": 93,
     "metadata": {},
     "output_type": "execute_result"
    }
   ],
   "source": [
    "test_df.loc[:,'pred_mean'] = historical_mean\n",
    "test_df.head()"
   ]
  },
  {
   "cell_type": "code",
   "execution_count": 94,
   "id": "02ac7ddd-726a-4104-a45e-3b6cb0216b0d",
   "metadata": {},
   "outputs": [
    {
     "name": "stdout",
     "output_type": "stream",
     "text": [
      "Mean Absolute Error (MAE): 99.05\n",
      "Root Mean Squared Error (RMSE): 106.77\n",
      "Symmetric Mean Absolute Percentage Error (sMAPE): 88.93\n"
     ]
    },
    {
     "data": {
      "text/plain": [
       "(99.0529459577813, 106.76812826648356, 88.93487989850996)"
      ]
     },
     "execution_count": 94,
     "metadata": {},
     "output_type": "execute_result"
    }
   ],
   "source": [
    "eva_s(test_df['price'], test_df['pred_mean'])"
   ]
  },
  {
   "cell_type": "code",
   "execution_count": 95,
   "id": "1a099535-ea97-4c84-a96c-744bb592055f",
   "metadata": {},
   "outputs": [
    {
     "data": {
      "image/png": "[encoded data removed]",
      "text/plain": [
       "<Figure size 1200x600 with 1 Axes>"
      ]
     },
     "metadata": {},
     "output_type": "display_data"
    }
   ],
   "source": [
    "compare_preds(test_df['price'][:500], test_df['pred_mean'][:500])"
   ]
  },
  {
   "cell_type": "markdown",
   "id": "cc1cfad6-56e1-4b06-be84-54937e33af91",
   "metadata": {},
   "source": [
    "## Last value"
   ]
  },
  {
   "cell_type": "code",
   "execution_count": 96,
   "id": "80e7829f-6440-4052-9601-8a4c7b7812c5",
   "metadata": {},
   "outputs": [],
   "source": [
    "train_df = df_ori.loc['2022-01-01 01:00:00': '2024-01-01 00:00:00', ['price']]\n",
    "test_df = df_ori.loc['2024-01-01 01:00:00': '2024-11-01 01:00:00', ['price']]"
   ]
  },
  {
   "cell_type": "code",
   "execution_count": 97,
   "id": "e04520ec-c0a3-44c4-9fca-75823d7b8f43",
   "metadata": {},
   "outputs": [
    {
     "name": "stdout",
     "output_type": "stream",
     "text": [
      "<class 'pandas.core.frame.DataFrame'>\n",
      "DatetimeIndex: 17520 entries, 2022-01-01 01:00:00 to 2024-01-01 00:00:00\n",
      "Data columns (total 1 columns):\n",
      " #   Column  Non-Null Count  Dtype  \n",
      "---  ------  --------------  -----  \n",
      " 0   price   17520 non-null  float64\n",
      "dtypes: float64(1)\n",
      "memory usage: 273.8 KB\n"
     ]
    }
   ],
   "source": [
    "train_df.info()"
   ]
  },
  {
   "cell_type": "code",
   "execution_count": 98,
   "id": "9c8a00e9-903b-4192-8a5d-758b5ed96459",
   "metadata": {},
   "outputs": [
    {
     "name": "stdout",
     "output_type": "stream",
     "text": [
      "<class 'pandas.core.frame.DataFrame'>\n",
      "DatetimeIndex: 7320 entries, 2024-01-01 01:00:00 to 2024-11-01 00:00:00\n",
      "Data columns (total 1 columns):\n",
      " #   Column  Non-Null Count  Dtype  \n",
      "---  ------  --------------  -----  \n",
      " 0   price   7320 non-null   float64\n",
      "dtypes: float64(1)\n",
      "memory usage: 114.4 KB\n"
     ]
    }
   ],
   "source": [
    "test_df.info()"
   ]
  },
  {
   "cell_type": "code",
   "execution_count": null,
   "id": "c8125ccc-9c8c-4ba7-8dc0-fda82b258a1f",
   "metadata": {},
   "outputs": [],
   "source": []
  },
  {
   "cell_type": "code",
   "execution_count": 99,
   "id": "b9741e9d-4164-43d8-914e-8cf163d6b196",
   "metadata": {},
   "outputs": [],
   "source": [
    "X_train, y_train = create_sequences(train_df)"
   ]
  },
  {
   "cell_type": "code",
   "execution_count": 100,
   "id": "5721d736-9a9e-4bb3-967b-bc32ca7569cc",
   "metadata": {},
   "outputs": [],
   "source": [
    "X_test, y_test = create_sequences(test_df)"
   ]
  },
  {
   "cell_type": "code",
   "execution_count": 101,
   "id": "128fe0be-1ef2-476c-b263-563ff4a77b66",
   "metadata": {},
   "outputs": [],
   "source": [
    "y_pred = X_test[:, -1,:].reshape(-1)"
   ]
  },
  {
   "cell_type": "code",
   "execution_count": 102,
   "id": "10a4fa83-d7a1-4627-a47f-ed5945204f76",
   "metadata": {},
   "outputs": [
    {
     "data": {
      "text/plain": [
       "(7296, 24, 1)"
      ]
     },
     "execution_count": 102,
     "metadata": {},
     "output_type": "execute_result"
    }
   ],
   "source": [
    "X_test.shape"
   ]
  },
  {
   "cell_type": "code",
   "execution_count": 103,
   "id": "4d865e34-2353-47e0-84f5-321e5f23e697",
   "metadata": {},
   "outputs": [
    {
     "data": {
      "text/plain": [
       "(7296,)"
      ]
     },
     "execution_count": 103,
     "metadata": {},
     "output_type": "execute_result"
    }
   ],
   "source": [
    "y_pred.shape"
   ]
  },
  {
   "cell_type": "code",
   "execution_count": 104,
   "id": "74a8f2c1-32db-47d6-a602-08d417a07658",
   "metadata": {},
   "outputs": [
    {
     "name": "stdout",
     "output_type": "stream",
     "text": [
      "Mean Absolute Error (MAE): 12.23\n",
      "Root Mean Squared Error (RMSE): 18.33\n",
      "Symmetric Mean Absolute Percentage Error (sMAPE): 30.59\n"
     ]
    },
    {
     "data": {
      "text/plain": [
       "(12.230744257428729, 18.330042804109564, 30.591837614901348)"
      ]
     },
     "execution_count": 104,
     "metadata": {},
     "output_type": "execute_result"
    }
   ],
   "source": [
    "eva_s(y_test, y_pred+0.0000001)"
   ]
  },
  {
   "cell_type": "markdown",
   "id": "1e2528f1-e55d-4494-bcd9-9acb0c6c9845",
   "metadata": {},
   "source": [
    "## Simple LSTM"
   ]
  },
  {
   "cell_type": "code",
   "execution_count": 105,
   "id": "61ab2ab2-92b3-4569-afde-33a1a749fee8",
   "metadata": {},
   "outputs": [
    {
     "name": "stdout",
     "output_type": "stream",
     "text": [
      "<class 'pandas.core.frame.DataFrame'>\n",
      "DatetimeIndex: 24840 entries, 2022-01-01 01:00:00 to 2024-11-01 00:00:00\n",
      "Data columns (total 10 columns):\n",
      " #   Column                   Non-Null Count  Dtype  \n",
      "---  ------                   --------------  -----  \n",
      " 0   price                    24840 non-null  float64\n",
      " 1   solar                    24840 non-null  int64  \n",
      " 2   wind_onshore             24840 non-null  int64  \n",
      " 3   wind_offshore            24840 non-null  int64  \n",
      " 4   total_load               24840 non-null  int64  \n",
      " 5   actual_solar             24840 non-null  int64  \n",
      " 6   actual_wind_onshore      24840 non-null  int64  \n",
      " 7   actual_wind_offshore     24840 non-null  int64  \n",
      " 8   actual_fossil_gas        24840 non-null  int64  \n",
      " 9   actual_fossil_hard_coal  24840 non-null  int64  \n",
      "dtypes: float64(1), int64(9)\n",
      "memory usage: 2.1 MB\n",
      "None\n"
     ]
    }
   ],
   "source": [
    "df_ori = load_data('df_actual_22_24_cleaned')"
   ]
  },
  {
   "cell_type": "code",
   "execution_count": 106,
   "id": "0f5f9c4f-18b2-4db7-9ceb-9b0457371a27",
   "metadata": {},
   "outputs": [],
   "source": [
    "train_df = df_ori.loc['2022-01-01 01:00:00': '2024-01-01 00:00:00', ['price']]\n",
    "test_df = df_ori.loc['2024-01-01 01:00:00': '2024-11-01 01:00:00', ['price']]"
   ]
  },
  {
   "cell_type": "code",
   "execution_count": 107,
   "id": "e9accb77-c475-49c4-a8ff-7165ea4e63e2",
   "metadata": {},
   "outputs": [
    {
     "data": {
      "text/html": [
       "<div>\n",
       "<style scoped>\n",
       "    .dataframe tbody tr th:only-of-type {\n",
       "        vertical-align: middle;\n",
       "    }\n",
       "\n",
       "    .dataframe tbody tr th {\n",
       "        vertical-align: top;\n",
       "    }\n",
       "\n",
       "    .dataframe thead th {\n",
       "        text-align: right;\n",
       "    }\n",
       "</style>\n",
       "<table border=\"1\" class=\"dataframe\">\n",
       "  <thead>\n",
       "    <tr style=\"text-align: right;\">\n",
       "      <th></th>\n",
       "      <th>price</th>\n",
       "    </tr>\n",
       "  </thead>\n",
       "  <tbody>\n",
       "    <tr>\n",
       "      <th>2022-01-01 01:00:00</th>\n",
       "      <td>124.70</td>\n",
       "    </tr>\n",
       "    <tr>\n",
       "      <th>2022-01-01 02:00:00</th>\n",
       "      <td>124.70</td>\n",
       "    </tr>\n",
       "    <tr>\n",
       "      <th>2022-01-01 03:00:00</th>\n",
       "      <td>134.00</td>\n",
       "    </tr>\n",
       "    <tr>\n",
       "      <th>2022-01-01 04:00:00</th>\n",
       "      <td>58.80</td>\n",
       "    </tr>\n",
       "    <tr>\n",
       "      <th>2022-01-01 05:00:00</th>\n",
       "      <td>37.67</td>\n",
       "    </tr>\n",
       "  </tbody>\n",
       "</table>\n",
       "</div>"
      ],
      "text/plain": [
       "                      price\n",
       "2022-01-01 01:00:00  124.70\n",
       "2022-01-01 02:00:00  124.70\n",
       "2022-01-01 03:00:00  134.00\n",
       "2022-01-01 04:00:00   58.80\n",
       "2022-01-01 05:00:00   37.67"
      ]
     },
     "execution_count": 107,
     "metadata": {},
     "output_type": "execute_result"
    }
   ],
   "source": [
    "train_df[:5]"
   ]
  },
  {
   "cell_type": "code",
   "execution_count": 108,
   "id": "d7b50119-8b25-4cc6-ae93-418cadd58ae4",
   "metadata": {},
   "outputs": [
    {
     "data": {
      "text/html": [
       "<pre style=\"white-space:pre;overflow-x:auto;line-height:normal;font-family:Menlo,'DejaVu Sans Mono',consolas,'Courier New',monospace\"><span style=\"font-weight: bold\">Model: \"sequential_6\"</span>\n",
       "</pre>\n"
      ],
      "text/plain": [
       "\u001b[1mModel: \"sequential_6\"\u001b[0m\n"
      ]
     },
     "metadata": {},
     "output_type": "display_data"
    },
    {
     "data": {
      "text/html": [
       "<pre style=\"white-space:pre;overflow-x:auto;line-height:normal;font-family:Menlo,'DejaVu Sans Mono',consolas,'Courier New',monospace\">┏━━━━━━━━━━━━━━━━━━━━━━━━━━━━━━━━━┳━━━━━━━━━━━━━━━━━━━━━━━━┳━━━━━━━━━━━━━━━┓\n",
       "┃<span style=\"font-weight: bold\"> Layer (type)                    </span>┃<span style=\"font-weight: bold\"> Output Shape           </span>┃<span style=\"font-weight: bold\">       Param # </span>┃\n",
       "┡━━━━━━━━━━━━━━━━━━━━━━━━━━━━━━━━━╇━━━━━━━━━━━━━━━━━━━━━━━━╇━━━━━━━━━━━━━━━┩\n",
       "│ lstm_12 (<span style=\"color: #0087ff; text-decoration-color: #0087ff\">LSTM</span>)                  │ (<span style=\"color: #00d7ff; text-decoration-color: #00d7ff\">None</span>, <span style=\"color: #00af00; text-decoration-color: #00af00\">24</span>, <span style=\"color: #00af00; text-decoration-color: #00af00\">64</span>)         │        <span style=\"color: #00af00; text-decoration-color: #00af00\">16,896</span> │\n",
       "├─────────────────────────────────┼────────────────────────┼───────────────┤\n",
       "│ dropout_6 (<span style=\"color: #0087ff; text-decoration-color: #0087ff\">Dropout</span>)             │ (<span style=\"color: #00d7ff; text-decoration-color: #00d7ff\">None</span>, <span style=\"color: #00af00; text-decoration-color: #00af00\">24</span>, <span style=\"color: #00af00; text-decoration-color: #00af00\">64</span>)         │             <span style=\"color: #00af00; text-decoration-color: #00af00\">0</span> │\n",
       "├─────────────────────────────────┼────────────────────────┼───────────────┤\n",
       "│ lstm_13 (<span style=\"color: #0087ff; text-decoration-color: #0087ff\">LSTM</span>)                  │ (<span style=\"color: #00d7ff; text-decoration-color: #00d7ff\">None</span>, <span style=\"color: #00af00; text-decoration-color: #00af00\">32</span>)             │        <span style=\"color: #00af00; text-decoration-color: #00af00\">12,416</span> │\n",
       "├─────────────────────────────────┼────────────────────────┼───────────────┤\n",
       "│ dense_6 (<span style=\"color: #0087ff; text-decoration-color: #0087ff\">Dense</span>)                 │ (<span style=\"color: #00d7ff; text-decoration-color: #00d7ff\">None</span>, <span style=\"color: #00af00; text-decoration-color: #00af00\">1</span>)              │            <span style=\"color: #00af00; text-decoration-color: #00af00\">33</span> │\n",
       "└─────────────────────────────────┴────────────────────────┴───────────────┘\n",
       "</pre>\n"
      ],
      "text/plain": [
       "┏━━━━━━━━━━━━━━━━━━━━━━━━━━━━━━━━━┳━━━━━━━━━━━━━━━━━━━━━━━━┳━━━━━━━━━━━━━━━┓\n",
       "┃\u001b[1m \u001b[0m\u001b[1mLayer (type)                   \u001b[0m\u001b[1m \u001b[0m┃\u001b[1m \u001b[0m\u001b[1mOutput Shape          \u001b[0m\u001b[1m \u001b[0m┃\u001b[1m \u001b[0m\u001b[1m      Param #\u001b[0m\u001b[1m \u001b[0m┃\n",
       "┡━━━━━━━━━━━━━━━━━━━━━━━━━━━━━━━━━╇━━━━━━━━━━━━━━━━━━━━━━━━╇━━━━━━━━━━━━━━━┩\n",
       "│ lstm_12 (\u001b[38;5;33mLSTM\u001b[0m)                  │ (\u001b[38;5;45mNone\u001b[0m, \u001b[38;5;34m24\u001b[0m, \u001b[38;5;34m64\u001b[0m)         │        \u001b[38;5;34m16,896\u001b[0m │\n",
       "├─────────────────────────────────┼────────────────────────┼───────────────┤\n",
       "│ dropout_6 (\u001b[38;5;33mDropout\u001b[0m)             │ (\u001b[38;5;45mNone\u001b[0m, \u001b[38;5;34m24\u001b[0m, \u001b[38;5;34m64\u001b[0m)         │             \u001b[38;5;34m0\u001b[0m │\n",
       "├─────────────────────────────────┼────────────────────────┼───────────────┤\n",
       "│ lstm_13 (\u001b[38;5;33mLSTM\u001b[0m)                  │ (\u001b[38;5;45mNone\u001b[0m, \u001b[38;5;34m32\u001b[0m)             │        \u001b[38;5;34m12,416\u001b[0m │\n",
       "├─────────────────────────────────┼────────────────────────┼───────────────┤\n",
       "│ dense_6 (\u001b[38;5;33mDense\u001b[0m)                 │ (\u001b[38;5;45mNone\u001b[0m, \u001b[38;5;34m1\u001b[0m)              │            \u001b[38;5;34m33\u001b[0m │\n",
       "└─────────────────────────────────┴────────────────────────┴───────────────┘\n"
      ]
     },
     "metadata": {},
     "output_type": "display_data"
    },
    {
     "data": {
      "text/html": [
       "<pre style=\"white-space:pre;overflow-x:auto;line-height:normal;font-family:Menlo,'DejaVu Sans Mono',consolas,'Courier New',monospace\"><span style=\"font-weight: bold\"> Total params: </span><span style=\"color: #00af00; text-decoration-color: #00af00\">29,345</span> (114.63 KB)\n",
       "</pre>\n"
      ],
      "text/plain": [
       "\u001b[1m Total params: \u001b[0m\u001b[38;5;34m29,345\u001b[0m (114.63 KB)\n"
      ]
     },
     "metadata": {},
     "output_type": "display_data"
    },
    {
     "data": {
      "text/html": [
       "<pre style=\"white-space:pre;overflow-x:auto;line-height:normal;font-family:Menlo,'DejaVu Sans Mono',consolas,'Courier New',monospace\"><span style=\"font-weight: bold\"> Trainable params: </span><span style=\"color: #00af00; text-decoration-color: #00af00\">29,345</span> (114.63 KB)\n",
       "</pre>\n"
      ],
      "text/plain": [
       "\u001b[1m Trainable params: \u001b[0m\u001b[38;5;34m29,345\u001b[0m (114.63 KB)\n"
      ]
     },
     "metadata": {},
     "output_type": "display_data"
    },
    {
     "data": {
      "text/html": [
       "<pre style=\"white-space:pre;overflow-x:auto;line-height:normal;font-family:Menlo,'DejaVu Sans Mono',consolas,'Courier New',monospace\"><span style=\"font-weight: bold\"> Non-trainable params: </span><span style=\"color: #00af00; text-decoration-color: #00af00\">0</span> (0.00 B)\n",
       "</pre>\n"
      ],
      "text/plain": [
       "\u001b[1m Non-trainable params: \u001b[0m\u001b[38;5;34m0\u001b[0m (0.00 B)\n"
      ]
     },
     "metadata": {},
     "output_type": "display_data"
    }
   ],
   "source": [
    "import numpy as np\n",
    "import pandas as pd\n",
    "from sklearn.preprocessing import MinMaxScaler\n",
    "from keras.models import Sequential\n",
    "from keras.layers import LSTM, Dense, Dropout, Flatten, Input\n",
    "from keras.callbacks import EarlyStopping\n",
    "from sklearn.metrics import mean_absolute_error, mean_squared_error\n",
    "from keras.optimizers import Adam\n",
    "# # Assuming 'df' is your dataframe with 'price' and a DateTime index\n",
    "# # Filter and split data into training and test sets\n",
    "# train_data = df['2022':'2023'][['price']].values\n",
    "# test_data = df['2024'][['price']].values\n",
    "\n",
    "# Scale data between 0 and 1\n",
    "scaler = MinMaxScaler(feature_range=(0, 1))\n",
    "scaled_train = scaler.fit_transform(train_df)\n",
    "scaled_test = scaler.transform(test_df)\n",
    "\n",
    "# Create sequences for the training set\n",
    "sequence_length = 24\n",
    "X_train, y_train = [], []\n",
    "\n",
    "for i in range(sequence_length, len(scaled_train)):\n",
    "    X_train.append(scaled_train[i - sequence_length:i, 0])\n",
    "    y_train.append(scaled_train[i, 0])\n",
    "\n",
    "X_train, y_train = np.array(X_train), np.array(y_train)\n",
    "X_train = np.reshape(X_train, (X_train.shape[0], X_train.shape[1], 1))\n",
    "\n",
    "# Build the LSTM model\n",
    "# model_basic_LSTM = Sequential()\n",
    "# model.add(LSTM(units=50, return_sequences=True, input_shape=(X_train.shape[1], 1)))\n",
    "# model.add(LSTM(units=50))\n",
    "# model.add(Dense(units=1))\n",
    "model_basic_LSTM = Sequential([\n",
    "        Input(shape=(X_train.shape[1], X_train.shape[2])),\n",
    "        LSTM(units=64, return_sequences=True),\n",
    "        Dropout(0.2),\n",
    "        LSTM(units=32, return_sequences=False),\n",
    "        Dense(units=1)\n",
    "    ])\n",
    "\n",
    "# Compile the model\n",
    "model_basic_LSTM.compile(optimizer=Adam(learning_rate=0.001), loss='mean_squared_error')\n",
    "\n",
    "model_basic_LSTM.summary()"
   ]
  },
  {
   "cell_type": "code",
   "execution_count": 109,
   "id": "bfb1de86-0aaa-4102-b66d-5ce1746f8fc1",
   "metadata": {},
   "outputs": [
    {
     "name": "stdout",
     "output_type": "stream",
     "text": [
      "Epoch 1/20\n",
      "\u001b[1m547/547\u001b[0m \u001b[32m━━━━━━━━━━━━━━━━━━━━\u001b[0m\u001b[37m\u001b[0m \u001b[1m8s\u001b[0m 10ms/step - loss: 0.0112\n",
      "Epoch 2/20\n",
      "\u001b[1m547/547\u001b[0m \u001b[32m━━━━━━━━━━━━━━━━━━━━\u001b[0m\u001b[37m\u001b[0m \u001b[1m6s\u001b[0m 10ms/step - loss: 0.0020\n",
      "Epoch 3/20\n",
      "\u001b[1m547/547\u001b[0m \u001b[32m━━━━━━━━━━━━━━━━━━━━\u001b[0m\u001b[37m\u001b[0m \u001b[1m6s\u001b[0m 11ms/step - loss: 0.0013\n",
      "Epoch 4/20\n",
      "\u001b[1m547/547\u001b[0m \u001b[32m━━━━━━━━━━━━━━━━━━━━\u001b[0m\u001b[37m\u001b[0m \u001b[1m6s\u001b[0m 11ms/step - loss: 7.8564e-04\n",
      "Epoch 5/20\n",
      "\u001b[1m547/547\u001b[0m \u001b[32m━━━━━━━━━━━━━━━━━━━━\u001b[0m\u001b[37m\u001b[0m \u001b[1m6s\u001b[0m 10ms/step - loss: 6.2977e-04\n",
      "Epoch 6/20\n",
      "\u001b[1m547/547\u001b[0m \u001b[32m━━━━━━━━━━━━━━━━━━━━\u001b[0m\u001b[37m\u001b[0m \u001b[1m6s\u001b[0m 10ms/step - loss: 5.4557e-04\n",
      "Epoch 7/20\n",
      "\u001b[1m547/547\u001b[0m \u001b[32m━━━━━━━━━━━━━━━━━━━━\u001b[0m\u001b[37m\u001b[0m \u001b[1m6s\u001b[0m 11ms/step - loss: 5.1566e-04\n",
      "Epoch 8/20\n",
      "\u001b[1m547/547\u001b[0m \u001b[32m━━━━━━━━━━━━━━━━━━━━\u001b[0m\u001b[37m\u001b[0m \u001b[1m7s\u001b[0m 12ms/step - loss: 4.8676e-04\n",
      "Epoch 9/20\n",
      "\u001b[1m547/547\u001b[0m \u001b[32m━━━━━━━━━━━━━━━━━━━━\u001b[0m\u001b[37m\u001b[0m \u001b[1m8s\u001b[0m 14ms/step - loss: 4.8264e-04\n",
      "Epoch 10/20\n",
      "\u001b[1m547/547\u001b[0m \u001b[32m━━━━━━━━━━━━━━━━━━━━\u001b[0m\u001b[37m\u001b[0m \u001b[1m8s\u001b[0m 15ms/step - loss: 4.3879e-04\n",
      "Epoch 11/20\n",
      "\u001b[1m547/547\u001b[0m \u001b[32m━━━━━━━━━━━━━━━━━━━━\u001b[0m\u001b[37m\u001b[0m \u001b[1m9s\u001b[0m 17ms/step - loss: 4.3969e-04\n",
      "Epoch 12/20\n",
      "\u001b[1m547/547\u001b[0m \u001b[32m━━━━━━━━━━━━━━━━━━━━\u001b[0m\u001b[37m\u001b[0m \u001b[1m8s\u001b[0m 15ms/step - loss: 4.3289e-04\n",
      "Epoch 13/20\n",
      "\u001b[1m547/547\u001b[0m \u001b[32m━━━━━━━━━━━━━━━━━━━━\u001b[0m\u001b[37m\u001b[0m \u001b[1m8s\u001b[0m 15ms/step - loss: 4.2409e-04\n",
      "Epoch 14/20\n",
      "\u001b[1m547/547\u001b[0m \u001b[32m━━━━━━━━━━━━━━━━━━━━\u001b[0m\u001b[37m\u001b[0m \u001b[1m9s\u001b[0m 17ms/step - loss: 4.3158e-04\n",
      "Epoch 15/20\n",
      "\u001b[1m547/547\u001b[0m \u001b[32m━━━━━━━━━━━━━━━━━━━━\u001b[0m\u001b[37m\u001b[0m \u001b[1m8s\u001b[0m 15ms/step - loss: 4.0950e-04\n",
      "Epoch 16/20\n",
      "\u001b[1m547/547\u001b[0m \u001b[32m━━━━━━━━━━━━━━━━━━━━\u001b[0m\u001b[37m\u001b[0m \u001b[1m9s\u001b[0m 16ms/step - loss: 4.0829e-04\n",
      "Epoch 17/20\n",
      "\u001b[1m547/547\u001b[0m \u001b[32m━━━━━━━━━━━━━━━━━━━━\u001b[0m\u001b[37m\u001b[0m \u001b[1m8s\u001b[0m 14ms/step - loss: 3.9680e-04\n",
      "Epoch 18/20\n",
      "\u001b[1m547/547\u001b[0m \u001b[32m━━━━━━━━━━━━━━━━━━━━\u001b[0m\u001b[37m\u001b[0m \u001b[1m8s\u001b[0m 15ms/step - loss: 3.9709e-04\n",
      "Epoch 19/20\n",
      "\u001b[1m547/547\u001b[0m \u001b[32m━━━━━━━━━━━━━━━━━━━━\u001b[0m\u001b[37m\u001b[0m \u001b[1m8s\u001b[0m 15ms/step - loss: 3.8706e-04\n",
      "Epoch 20/20\n",
      "\u001b[1m547/547\u001b[0m \u001b[32m━━━━━━━━━━━━━━━━━━━━\u001b[0m\u001b[37m\u001b[0m \u001b[1m10s\u001b[0m 18ms/step - loss: 3.8194e-04\n"
     ]
    },
    {
     "data": {
      "text/plain": [
       "<keras.src.callbacks.history.History at 0x7fe3016fd270>"
      ]
     },
     "execution_count": 109,
     "metadata": {},
     "output_type": "execute_result"
    }
   ],
   "source": [
    "# Train the model\n",
    "model_basic_LSTM.fit(X_train, y_train, epochs=20, batch_size=32)"
   ]
  },
  {
   "cell_type": "code",
   "execution_count": 110,
   "id": "65d692d2-5d6c-498b-b522-11bc989bd4ba",
   "metadata": {},
   "outputs": [
    {
     "name": "stdout",
     "output_type": "stream",
     "text": [
      "\u001b[1m228/228\u001b[0m \u001b[32m━━━━━━━━━━━━━━━━━━━━\u001b[0m\u001b[37m\u001b[0m \u001b[1m1s\u001b[0m 4ms/step\n"
     ]
    }
   ],
   "source": [
    "# Prepare the test set sequences\n",
    "X_test, y_test = [], []\n",
    "\n",
    "# Use scaled_test for creating sequences in the test set\n",
    "for i in range(sequence_length, len(scaled_test)):\n",
    "    X_test.append(scaled_test[i - sequence_length:i, 0])\n",
    "    y_test.append(scaled_test[i, 0])\n",
    "\n",
    "X_test = np.array(X_test)\n",
    "X_test = np.reshape(X_test, (X_test.shape[0], X_test.shape[1], 1))\n",
    "\n",
    "# Predict on test set\n",
    "predicted_price_basic = model_basic_LSTM.predict(X_test)\n",
    "predicted_price_basic = scaler.inverse_transform(predicted_price_basic)  # Rescale to original values\n",
    "\n",
    "\n",
    "# Rescale the actual test prices for comparison\n",
    "actual_price_basic = scaler.inverse_transform(scaled_test[sequence_length:])"
   ]
  },
  {
   "cell_type": "code",
   "execution_count": 111,
   "id": "d95b672f-5afa-479d-a979-8edfb54b7de3",
   "metadata": {},
   "outputs": [
    {
     "name": "stdout",
     "output_type": "stream",
     "text": [
      "Mean Absolute Error (MAE): 12.46\n",
      "Root Mean Squared Error (RMSE): 16.80\n",
      "Symmetric Mean Absolute Percentage Error (sMAPE): 31.84\n"
     ]
    },
    {
     "data": {
      "text/plain": [
       "(12.460995019864846, 16.80005416918687, 31.844957751324237)"
      ]
     },
     "execution_count": 111,
     "metadata": {},
     "output_type": "execute_result"
    }
   ],
   "source": [
    "eva_s(actual_price_basic, predicted_price_basic) # 12.46"
   ]
  },
  {
   "cell_type": "code",
   "execution_count": 112,
   "id": "b9371cc6-5a11-4c9d-8f85-16bdaa44b244",
   "metadata": {},
   "outputs": [
    {
     "data": {
      "image/png": "[encoded data removed]",
      "text/plain": [
       "<Figure size 1200x600 with 1 Axes>"
      ]
     },
     "metadata": {},
     "output_type": "display_data"
    }
   ],
   "source": [
    "compare_preds(actual_price[:200], predicted_price[:200])"
   ]
  },
  {
   "cell_type": "markdown",
   "id": "3addbfbb-77e7-4848-b706-b9953f913f64",
   "metadata": {},
   "source": [
    "## Lagged LSTM"
   ]
  },
  {
   "cell_type": "code",
   "execution_count": 113,
   "id": "fcc31a6f-ef88-4173-a709-513dce8876db",
   "metadata": {},
   "outputs": [
    {
     "name": "stdout",
     "output_type": "stream",
     "text": [
      "<class 'pandas.core.frame.DataFrame'>\n",
      "DatetimeIndex: 24840 entries, 2022-01-01 01:00:00 to 2024-11-01 00:00:00\n",
      "Data columns (total 10 columns):\n",
      " #   Column                   Non-Null Count  Dtype  \n",
      "---  ------                   --------------  -----  \n",
      " 0   price                    24840 non-null  float64\n",
      " 1   solar                    24840 non-null  int64  \n",
      " 2   wind_onshore             24840 non-null  int64  \n",
      " 3   wind_offshore            24840 non-null  int64  \n",
      " 4   total_load               24840 non-null  int64  \n",
      " 5   actual_solar             24840 non-null  int64  \n",
      " 6   actual_wind_onshore      24840 non-null  int64  \n",
      " 7   actual_wind_offshore     24840 non-null  int64  \n",
      " 8   actual_fossil_gas        24840 non-null  int64  \n",
      " 9   actual_fossil_hard_coal  24840 non-null  int64  \n",
      "dtypes: float64(1), int64(9)\n",
      "memory usage: 2.1 MB\n",
      "None\n"
     ]
    }
   ],
   "source": [
    "df_ori = load_data('df_actual_22_24_cleaned')"
   ]
  },
  {
   "cell_type": "code",
   "execution_count": 114,
   "id": "2c209106-ecf0-478c-9d9e-4f514140589f",
   "metadata": {},
   "outputs": [],
   "source": [
    "df = df_ori[['price']]"
   ]
  },
  {
   "cell_type": "code",
   "execution_count": 115,
   "id": "cf237b96-a3a0-4606-9598-625471148dc9",
   "metadata": {},
   "outputs": [
    {
     "name": "stderr",
     "output_type": "stream",
     "text": [
      "/var/folders/8k/8n8mf6jn28537sc4vvz36rhh0000gn/T/ipykernel_2130/2016342376.py:11: SettingWithCopyWarning: \n",
      "A value is trying to be set on a copy of a slice from a DataFrame.\n",
      "Try using .loc[row_indexer,col_indexer] = value instead\n",
      "\n",
      "See the caveats in the documentation: https://pandas.pydata.org/pandas-docs/stable/user_guide/indexing.html#returning-a-view-versus-a-copy\n",
      "  df[f\"{feature}_lag_{lag}\"] = df[feature].shift(lag)\n",
      "/var/folders/8k/8n8mf6jn28537sc4vvz36rhh0000gn/T/ipykernel_2130/2016342376.py:11: SettingWithCopyWarning: \n",
      "A value is trying to be set on a copy of a slice from a DataFrame.\n",
      "Try using .loc[row_indexer,col_indexer] = value instead\n",
      "\n",
      "See the caveats in the documentation: https://pandas.pydata.org/pandas-docs/stable/user_guide/indexing.html#returning-a-view-versus-a-copy\n",
      "  df[f\"{feature}_lag_{lag}\"] = df[feature].shift(lag)\n",
      "/var/folders/8k/8n8mf6jn28537sc4vvz36rhh0000gn/T/ipykernel_2130/2016342376.py:11: SettingWithCopyWarning: \n",
      "A value is trying to be set on a copy of a slice from a DataFrame.\n",
      "Try using .loc[row_indexer,col_indexer] = value instead\n",
      "\n",
      "See the caveats in the documentation: https://pandas.pydata.org/pandas-docs/stable/user_guide/indexing.html#returning-a-view-versus-a-copy\n",
      "  df[f\"{feature}_lag_{lag}\"] = df[feature].shift(lag)\n"
     ]
    }
   ],
   "source": [
    "# Define the lags you want to explore\n",
    "lags = [1, 2, 25]\n",
    "# features = ['price','wind_onshore', 'wind_offshore', 'solar', 'total_load']\n",
    "features = ['price']\n",
    "# features = ['wind_onshore', 'wind_offshore', 'solar', 'total_load']\n",
    "# features = ['price']\n",
    "\n",
    "# Create lagged features for each feature at specified lags\n",
    "for feature in features:\n",
    "    for lag in lags:\n",
    "        df[f\"{feature}_lag_{lag}\"] = df[feature].shift(lag)"
   ]
  },
  {
   "cell_type": "code",
   "execution_count": 116,
   "id": "e54a9156-6e91-4aa5-8543-fc0278c56d5e",
   "metadata": {},
   "outputs": [],
   "source": [
    "df = df.dropna()"
   ]
  },
  {
   "cell_type": "code",
   "execution_count": 117,
   "id": "6b86da3c-f859-4522-86b9-930cff9710cb",
   "metadata": {},
   "outputs": [],
   "source": [
    "train_df = df.loc['2022-01-01 01:00:00': '2024-01-01 00:00:00', :]\n",
    "test_df = df.loc['2024-01-01 01:00:00': '2024-11-01 01:00:00', :]"
   ]
  },
  {
   "cell_type": "code",
   "execution_count": 118,
   "id": "bc54c482-8d39-4f23-baab-d14bb3e733c7",
   "metadata": {},
   "outputs": [
    {
     "data": {
      "text/html": [
       "<pre style=\"white-space:pre;overflow-x:auto;line-height:normal;font-family:Menlo,'DejaVu Sans Mono',consolas,'Courier New',monospace\"><span style=\"font-weight: bold\">Model: \"sequential_7\"</span>\n",
       "</pre>\n"
      ],
      "text/plain": [
       "\u001b[1mModel: \"sequential_7\"\u001b[0m\n"
      ]
     },
     "metadata": {},
     "output_type": "display_data"
    },
    {
     "data": {
      "text/html": [
       "<pre style=\"white-space:pre;overflow-x:auto;line-height:normal;font-family:Menlo,'DejaVu Sans Mono',consolas,'Courier New',monospace\">┏━━━━━━━━━━━━━━━━━━━━━━━━━━━━━━━━━┳━━━━━━━━━━━━━━━━━━━━━━━━┳━━━━━━━━━━━━━━━┓\n",
       "┃<span style=\"font-weight: bold\"> Layer (type)                    </span>┃<span style=\"font-weight: bold\"> Output Shape           </span>┃<span style=\"font-weight: bold\">       Param # </span>┃\n",
       "┡━━━━━━━━━━━━━━━━━━━━━━━━━━━━━━━━━╇━━━━━━━━━━━━━━━━━━━━━━━━╇━━━━━━━━━━━━━━━┩\n",
       "│ lstm_14 (<span style=\"color: #0087ff; text-decoration-color: #0087ff\">LSTM</span>)                  │ (<span style=\"color: #00d7ff; text-decoration-color: #00d7ff\">None</span>, <span style=\"color: #00af00; text-decoration-color: #00af00\">24</span>, <span style=\"color: #00af00; text-decoration-color: #00af00\">64</span>)         │        <span style=\"color: #00af00; text-decoration-color: #00af00\">17,664</span> │\n",
       "├─────────────────────────────────┼────────────────────────┼───────────────┤\n",
       "│ dropout_7 (<span style=\"color: #0087ff; text-decoration-color: #0087ff\">Dropout</span>)             │ (<span style=\"color: #00d7ff; text-decoration-color: #00d7ff\">None</span>, <span style=\"color: #00af00; text-decoration-color: #00af00\">24</span>, <span style=\"color: #00af00; text-decoration-color: #00af00\">64</span>)         │             <span style=\"color: #00af00; text-decoration-color: #00af00\">0</span> │\n",
       "├─────────────────────────────────┼────────────────────────┼───────────────┤\n",
       "│ lstm_15 (<span style=\"color: #0087ff; text-decoration-color: #0087ff\">LSTM</span>)                  │ (<span style=\"color: #00d7ff; text-decoration-color: #00d7ff\">None</span>, <span style=\"color: #00af00; text-decoration-color: #00af00\">32</span>)             │        <span style=\"color: #00af00; text-decoration-color: #00af00\">12,416</span> │\n",
       "├─────────────────────────────────┼────────────────────────┼───────────────┤\n",
       "│ dense_7 (<span style=\"color: #0087ff; text-decoration-color: #0087ff\">Dense</span>)                 │ (<span style=\"color: #00d7ff; text-decoration-color: #00d7ff\">None</span>, <span style=\"color: #00af00; text-decoration-color: #00af00\">1</span>)              │            <span style=\"color: #00af00; text-decoration-color: #00af00\">33</span> │\n",
       "└─────────────────────────────────┴────────────────────────┴───────────────┘\n",
       "</pre>\n"
      ],
      "text/plain": [
       "┏━━━━━━━━━━━━━━━━━━━━━━━━━━━━━━━━━┳━━━━━━━━━━━━━━━━━━━━━━━━┳━━━━━━━━━━━━━━━┓\n",
       "┃\u001b[1m \u001b[0m\u001b[1mLayer (type)                   \u001b[0m\u001b[1m \u001b[0m┃\u001b[1m \u001b[0m\u001b[1mOutput Shape          \u001b[0m\u001b[1m \u001b[0m┃\u001b[1m \u001b[0m\u001b[1m      Param #\u001b[0m\u001b[1m \u001b[0m┃\n",
       "┡━━━━━━━━━━━━━━━━━━━━━━━━━━━━━━━━━╇━━━━━━━━━━━━━━━━━━━━━━━━╇━━━━━━━━━━━━━━━┩\n",
       "│ lstm_14 (\u001b[38;5;33mLSTM\u001b[0m)                  │ (\u001b[38;5;45mNone\u001b[0m, \u001b[38;5;34m24\u001b[0m, \u001b[38;5;34m64\u001b[0m)         │        \u001b[38;5;34m17,664\u001b[0m │\n",
       "├─────────────────────────────────┼────────────────────────┼───────────────┤\n",
       "│ dropout_7 (\u001b[38;5;33mDropout\u001b[0m)             │ (\u001b[38;5;45mNone\u001b[0m, \u001b[38;5;34m24\u001b[0m, \u001b[38;5;34m64\u001b[0m)         │             \u001b[38;5;34m0\u001b[0m │\n",
       "├─────────────────────────────────┼────────────────────────┼───────────────┤\n",
       "│ lstm_15 (\u001b[38;5;33mLSTM\u001b[0m)                  │ (\u001b[38;5;45mNone\u001b[0m, \u001b[38;5;34m32\u001b[0m)             │        \u001b[38;5;34m12,416\u001b[0m │\n",
       "├─────────────────────────────────┼────────────────────────┼───────────────┤\n",
       "│ dense_7 (\u001b[38;5;33mDense\u001b[0m)                 │ (\u001b[38;5;45mNone\u001b[0m, \u001b[38;5;34m1\u001b[0m)              │            \u001b[38;5;34m33\u001b[0m │\n",
       "└─────────────────────────────────┴────────────────────────┴───────────────┘\n"
      ]
     },
     "metadata": {},
     "output_type": "display_data"
    },
    {
     "data": {
      "text/html": [
       "<pre style=\"white-space:pre;overflow-x:auto;line-height:normal;font-family:Menlo,'DejaVu Sans Mono',consolas,'Courier New',monospace\"><span style=\"font-weight: bold\"> Total params: </span><span style=\"color: #00af00; text-decoration-color: #00af00\">30,113</span> (117.63 KB)\n",
       "</pre>\n"
      ],
      "text/plain": [
       "\u001b[1m Total params: \u001b[0m\u001b[38;5;34m30,113\u001b[0m (117.63 KB)\n"
      ]
     },
     "metadata": {},
     "output_type": "display_data"
    },
    {
     "data": {
      "text/html": [
       "<pre style=\"white-space:pre;overflow-x:auto;line-height:normal;font-family:Menlo,'DejaVu Sans Mono',consolas,'Courier New',monospace\"><span style=\"font-weight: bold\"> Trainable params: </span><span style=\"color: #00af00; text-decoration-color: #00af00\">30,113</span> (117.63 KB)\n",
       "</pre>\n"
      ],
      "text/plain": [
       "\u001b[1m Trainable params: \u001b[0m\u001b[38;5;34m30,113\u001b[0m (117.63 KB)\n"
      ]
     },
     "metadata": {},
     "output_type": "display_data"
    },
    {
     "data": {
      "text/html": [
       "<pre style=\"white-space:pre;overflow-x:auto;line-height:normal;font-family:Menlo,'DejaVu Sans Mono',consolas,'Courier New',monospace\"><span style=\"font-weight: bold\"> Non-trainable params: </span><span style=\"color: #00af00; text-decoration-color: #00af00\">0</span> (0.00 B)\n",
       "</pre>\n"
      ],
      "text/plain": [
       "\u001b[1m Non-trainable params: \u001b[0m\u001b[38;5;34m0\u001b[0m (0.00 B)\n"
      ]
     },
     "metadata": {},
     "output_type": "display_data"
    }
   ],
   "source": [
    "import numpy as np\n",
    "import pandas as pd\n",
    "from sklearn.preprocessing import MinMaxScaler\n",
    "from keras.models import Sequential\n",
    "from keras.layers import LSTM, Dense, Dropout, Flatten, Input\n",
    "from keras.callbacks import EarlyStopping\n",
    "from sklearn.metrics import mean_absolute_error, mean_squared_error\n",
    "from keras.optimizers import Adam\n",
    "# # Assuming 'df' is your dataframe with 'price' and a DateTime index\n",
    "# # Filter and split data into training and test sets\n",
    "# train_data = df['2022':'2023'][['price']].values\n",
    "# test_data = df['2024'][['price']].values\n",
    "\n",
    "train_df = df.loc['2022-01-01 01:00:00': '2024-01-01 00:00:00', :]\n",
    "test_df = df.loc['2024-01-01 01:00:00': '2024-11-01 01:00:00', :]\n",
    "\n",
    "# Scale data between 0 and 1\n",
    "scaler = MinMaxScaler(feature_range=(0, 1))\n",
    "scaled_train = scaler.fit_transform(train_df)\n",
    "scaled_test = scaler.transform(test_df)\n",
    "\n",
    "# Create sequences for the training set\n",
    "sequence_length = 24  # Define lag as 24 timesteps\n",
    "X_train, y_train = [], []\n",
    "\n",
    "for i in range(sequence_length, len(scaled_train)):\n",
    "    # Use all columns as features, target is the first column (e.g., 'price')\n",
    "    X_train.append(scaled_train[i - sequence_length:i])  # All features in lagged window\n",
    "    y_train.append(scaled_train[i, 0])  # Assuming target is in the first column\n",
    "\n",
    "X_train, y_train = np.array(X_train), np.array(y_train)\n",
    "\n",
    "# Create sequences for the testing set\n",
    "X_test, y_test = [], []\n",
    "\n",
    "for i in range(sequence_length, len(scaled_test)):\n",
    "    X_test.append(scaled_test[i - sequence_length:i])  # All features in lagged window\n",
    "    y_test.append(scaled_test[i, 0])  # Assuming target is in the first column\n",
    "\n",
    "X_test, y_test = np.array(X_test), np.array(y_test)\n",
    "\n",
    "# Build the LSTM model\n",
    "model_lagged_LSTM = Sequential([\n",
    "    Input(shape=(X_train.shape[1], X_train.shape[2])),\n",
    "    LSTM(units=64, return_sequences=True),\n",
    "    Dropout(0.2),\n",
    "    LSTM(units=32, return_sequences=False),\n",
    "    Dense(units=1)\n",
    "])\n",
    "\n",
    "# Compile the model\n",
    "model_lagged_LSTM.compile(optimizer=Adam(learning_rate=0.001), loss='mean_squared_error')\n",
    "\n",
    "# Summary of the model\n",
    "model_lagged_LSTM.summary()\n"
   ]
  },
  {
   "cell_type": "code",
   "execution_count": 119,
   "id": "b1e8db2e-f2de-40d6-a5ca-5a7d2bd4125b",
   "metadata": {},
   "outputs": [
    {
     "name": "stdout",
     "output_type": "stream",
     "text": [
      "Epoch 1/20\n",
      "\u001b[1m546/546\u001b[0m \u001b[32m━━━━━━━━━━━━━━━━━━━━\u001b[0m\u001b[37m\u001b[0m \u001b[1m8s\u001b[0m 11ms/step - loss: 0.0066\n",
      "Epoch 2/20\n",
      "\u001b[1m546/546\u001b[0m \u001b[32m━━━━━━━━━━━━━━━━━━━━\u001b[0m\u001b[37m\u001b[0m \u001b[1m6s\u001b[0m 11ms/step - loss: 0.0016\n",
      "Epoch 3/20\n",
      "\u001b[1m546/546\u001b[0m \u001b[32m━━━━━━━━━━━━━━━━━━━━\u001b[0m\u001b[37m\u001b[0m \u001b[1m6s\u001b[0m 10ms/step - loss: 8.6767e-04\n",
      "Epoch 4/20\n",
      "\u001b[1m546/546\u001b[0m \u001b[32m━━━━━━━━━━━━━━━━━━━━\u001b[0m\u001b[37m\u001b[0m \u001b[1m6s\u001b[0m 10ms/step - loss: 6.8695e-04\n",
      "Epoch 5/20\n",
      "\u001b[1m546/546\u001b[0m \u001b[32m━━━━━━━━━━━━━━━━━━━━\u001b[0m\u001b[37m\u001b[0m \u001b[1m6s\u001b[0m 10ms/step - loss: 6.2859e-04\n",
      "Epoch 6/20\n",
      "\u001b[1m546/546\u001b[0m \u001b[32m━━━━━━━━━━━━━━━━━━━━\u001b[0m\u001b[37m\u001b[0m \u001b[1m6s\u001b[0m 11ms/step - loss: 5.6273e-04\n",
      "Epoch 7/20\n",
      "\u001b[1m546/546\u001b[0m \u001b[32m━━━━━━━━━━━━━━━━━━━━\u001b[0m\u001b[37m\u001b[0m \u001b[1m7s\u001b[0m 13ms/step - loss: 4.9048e-04\n",
      "Epoch 8/20\n",
      "\u001b[1m546/546\u001b[0m \u001b[32m━━━━━━━━━━━━━━━━━━━━\u001b[0m\u001b[37m\u001b[0m \u001b[1m7s\u001b[0m 13ms/step - loss: 4.5388e-04\n",
      "Epoch 9/20\n",
      "\u001b[1m546/546\u001b[0m \u001b[32m━━━━━━━━━━━━━━━━━━━━\u001b[0m\u001b[37m\u001b[0m \u001b[1m8s\u001b[0m 14ms/step - loss: 4.3999e-04\n",
      "Epoch 10/20\n",
      "\u001b[1m546/546\u001b[0m \u001b[32m━━━━━━━━━━━━━━━━━━━━\u001b[0m\u001b[37m\u001b[0m \u001b[1m9s\u001b[0m 17ms/step - loss: 4.2887e-04\n",
      "Epoch 11/20\n",
      "\u001b[1m546/546\u001b[0m \u001b[32m━━━━━━━━━━━━━━━━━━━━\u001b[0m\u001b[37m\u001b[0m \u001b[1m8s\u001b[0m 15ms/step - loss: 4.3252e-04\n",
      "Epoch 12/20\n",
      "\u001b[1m546/546\u001b[0m \u001b[32m━━━━━━━━━━━━━━━━━━━━\u001b[0m\u001b[37m\u001b[0m \u001b[1m8s\u001b[0m 15ms/step - loss: 4.1957e-04\n",
      "Epoch 13/20\n",
      "\u001b[1m546/546\u001b[0m \u001b[32m━━━━━━━━━━━━━━━━━━━━\u001b[0m\u001b[37m\u001b[0m \u001b[1m8s\u001b[0m 15ms/step - loss: 4.1664e-04\n",
      "Epoch 14/20\n",
      "\u001b[1m546/546\u001b[0m \u001b[32m━━━━━━━━━━━━━━━━━━━━\u001b[0m\u001b[37m\u001b[0m \u001b[1m8s\u001b[0m 15ms/step - loss: 4.1603e-04\n",
      "Epoch 15/20\n",
      "\u001b[1m546/546\u001b[0m \u001b[32m━━━━━━━━━━━━━━━━━━━━\u001b[0m\u001b[37m\u001b[0m \u001b[1m8s\u001b[0m 14ms/step - loss: 4.1058e-04\n",
      "Epoch 16/20\n",
      "\u001b[1m546/546\u001b[0m \u001b[32m━━━━━━━━━━━━━━━━━━━━\u001b[0m\u001b[37m\u001b[0m \u001b[1m8s\u001b[0m 15ms/step - loss: 3.9633e-04\n",
      "Epoch 17/20\n",
      "\u001b[1m546/546\u001b[0m \u001b[32m━━━━━━━━━━━━━━━━━━━━\u001b[0m\u001b[37m\u001b[0m \u001b[1m9s\u001b[0m 16ms/step - loss: 3.9438e-04\n",
      "Epoch 18/20\n",
      "\u001b[1m546/546\u001b[0m \u001b[32m━━━━━━━━━━━━━━━━━━━━\u001b[0m\u001b[37m\u001b[0m \u001b[1m8s\u001b[0m 15ms/step - loss: 3.8914e-04\n",
      "Epoch 19/20\n",
      "\u001b[1m546/546\u001b[0m \u001b[32m━━━━━━━━━━━━━━━━━━━━\u001b[0m\u001b[37m\u001b[0m \u001b[1m8s\u001b[0m 14ms/step - loss: 3.9328e-04\n",
      "Epoch 20/20\n",
      "\u001b[1m546/546\u001b[0m \u001b[32m━━━━━━━━━━━━━━━━━━━━\u001b[0m\u001b[37m\u001b[0m \u001b[1m9s\u001b[0m 16ms/step - loss: 3.9404e-04\n",
      "\u001b[1m228/228\u001b[0m \u001b[32m━━━━━━━━━━━━━━━━━━━━\u001b[0m\u001b[37m\u001b[0m \u001b[1m2s\u001b[0m 6ms/step\n"
     ]
    }
   ],
   "source": [
    "# Train the model\n",
    "model_lagged_LSTM.fit(X_train, y_train, epochs=20, batch_size=32, verbose=1)\n",
    "\n",
    "# Make predictions\n",
    "predictions = model_lagged_LSTM.predict(X_test)\n"
   ]
  },
  {
   "cell_type": "code",
   "execution_count": 120,
   "id": "5809ea8c-12b0-471a-bb10-96f19cc4ece8",
   "metadata": {},
   "outputs": [],
   "source": [
    "# Inverse transform predictions and actual values\n",
    "actual_price_lagged = scaler.inverse_transform(\n",
    "    np.concatenate([y_test.reshape(-1, 1), np.zeros((len(y_test), 3))], axis=1))[:, 0] \n",
    "\n",
    "predicted_price_lagged = scaler.inverse_transform(\n",
    "    np.concatenate([predictions, np.zeros((len(predictions), 3))], axis=1))[:, 0]"
   ]
  },
  {
   "cell_type": "code",
   "execution_count": 121,
   "id": "9fc83aee-0acf-48ab-be2a-47954991d0e4",
   "metadata": {},
   "outputs": [
    {
     "name": "stdout",
     "output_type": "stream",
     "text": [
      "Mean Absolute Error (MAE): 9.54\n",
      "Root Mean Squared Error (RMSE): 14.27\n",
      "Symmetric Mean Absolute Percentage Error (sMAPE): 26.57\n"
     ]
    },
    {
     "data": {
      "text/plain": [
       "(9.53947944801488, 14.269609113737637, 26.566696609318385)"
      ]
     },
     "execution_count": 121,
     "metadata": {},
     "output_type": "execute_result"
    }
   ],
   "source": [
    "eva_s(actual_price, predicted_price)"
   ]
  },
  {
   "cell_type": "code",
   "execution_count": null,
   "id": "25288439-4003-42d5-8d82-064512395f25",
   "metadata": {},
   "outputs": [],
   "source": []
  }
 ],
 "metadata": {
  "kernelspec": {
   "display_name": "Python 3 (ipykernel)",
   "language": "python",
   "name": "python3"
  },
  "language_info": {
   "codemirror_mode": {
    "name": "ipython",
    "version": 3
   },
   "file_extension": ".py",
   "mimetype": "text/x-python",
   "name": "python",
   "nbconvert_exporter": "python",
   "pygments_lexer": "ipython3",
   "version": "3.10.14"
  }
 },
 "nbformat": 4,
 "nbformat_minor": 5
}
